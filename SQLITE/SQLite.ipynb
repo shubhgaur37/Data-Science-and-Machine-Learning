{
 "cells": [
  {
   "cell_type": "code",
   "execution_count": 1,
   "id": "5565859e",
   "metadata": {},
   "outputs": [
    {
     "data": {
      "text/plain": [
       "<sqlite3.Connection at 0x217e04853f0>"
      ]
     },
     "execution_count": 1,
     "metadata": {},
     "output_type": "execute_result"
    }
   ],
   "source": [
    "#importing sql library (sqlite3)\n",
    "import sqlite3\n",
    "db=sqlite3.connect(r'C:\\Users\\Shubh Gaur\\Desktop\\Coding Ninjas Data Science\\18. Indexing and SQLite\\IMDB.sqlite')#connect to a database by providing the path\n",
    "db"
   ]
  },
  {
   "cell_type": "code",
   "execution_count": 2,
   "id": "c81861fd",
   "metadata": {},
   "outputs": [
    {
     "data": {
      "text/plain": [
       "<sqlite3.Connection at 0x217e04854e0>"
      ]
     },
     "execution_count": 2,
     "metadata": {},
     "output_type": "execute_result"
    }
   ],
   "source": [
    "#If we establish a connection to a database which does not exist then also\n",
    "#connect fxn returns a connection object and does not give any error.\n",
    "\n",
    "db=sqlite3.connect(\"IMDB_1.sqlite\")#if file exists establishes connection,if not,\n",
    "db                         #makes a file and establishes connection with it."
   ]
  },
  {
   "cell_type": "code",
   "execution_count": 3,
   "id": "511573b6",
   "metadata": {},
   "outputs": [
    {
     "data": {
      "text/plain": [
       "<sqlite3.Connection at 0x217e04855d0>"
      ]
     },
     "execution_count": 3,
     "metadata": {},
     "output_type": "execute_result"
    }
   ],
   "source": [
    "db=sqlite3.connect('School.sqlite')\n",
    "db"
   ]
  },
  {
   "cell_type": "code",
   "execution_count": 4,
   "id": "6caf0665",
   "metadata": {},
   "outputs": [
    {
     "data": {
      "text/plain": [
       "<sqlite3.Cursor at 0x217e049f500>"
      ]
     },
     "execution_count": 4,
     "metadata": {},
     "output_type": "execute_result"
    }
   ],
   "source": [
    "#create a cursor object which we will use to run queries on our database\n",
    "cur=db.cursor()\n",
    "cur"
   ]
  },
  {
   "cell_type": "code",
   "execution_count": 5,
   "id": "a43cda6e",
   "metadata": {},
   "outputs": [
    {
     "data": {
      "text/plain": [
       "<sqlite3.Cursor at 0x217e049f500>"
      ]
     },
     "execution_count": 5,
     "metadata": {},
     "output_type": "execute_result"
    }
   ],
   "source": [
    "#Running query for creating table\n",
    "#instead of varchar we need to specify text for a string in sqlite\n",
    "sql_query='create table student (RollNumber int Primary Key,name Text,age int)'\n",
    "cur.execute(sql_query)"
   ]
  },
  {
   "cell_type": "code",
   "execution_count": 6,
   "id": "96cfbe04",
   "metadata": {},
   "outputs": [
    {
     "data": {
      "text/plain": [
       "<sqlite3.Cursor at 0x217e049f500>"
      ]
     },
     "execution_count": 6,
     "metadata": {},
     "output_type": "execute_result"
    }
   ],
   "source": [
    "cur.execute('Insert into student values(101,\"Aman\",20)')"
   ]
  },
  {
   "cell_type": "code",
   "execution_count": 7,
   "id": "a5f1441a",
   "metadata": {},
   "outputs": [],
   "source": [
    "'''We have done the changes to our table but still we cannot see those\n",
    "changes using the DB Browser,therefore we need to use a command db.commit()\n",
    "for commiting changes to our table so that the changes are reflected in the database.'''\n",
    "db.commit()"
   ]
  },
  {
   "cell_type": "code",
   "execution_count": 8,
   "id": "942a18ba",
   "metadata": {},
   "outputs": [
    {
     "ename": "IntegrityError",
     "evalue": "UNIQUE constraint failed: student.RollNumber",
     "output_type": "error",
     "traceback": [
      "\u001b[1;31m---------------------------------------------------------------------------\u001b[0m",
      "\u001b[1;31mIntegrityError\u001b[0m                            Traceback (most recent call last)",
      "\u001b[1;32m<ipython-input-8-c5ec69dbefe6>\u001b[0m in \u001b[0;36m<module>\u001b[1;34m\u001b[0m\n\u001b[1;32m----> 1\u001b[1;33m \u001b[0mcur\u001b[0m\u001b[1;33m.\u001b[0m\u001b[0mexecute\u001b[0m\u001b[1;33m(\u001b[0m\u001b[1;34m'Insert into student values(101,\"Aman\",20)'\u001b[0m\u001b[1;33m)\u001b[0m\u001b[1;33m\u001b[0m\u001b[1;33m\u001b[0m\u001b[0m\n\u001b[0m",
      "\u001b[1;31mIntegrityError\u001b[0m: UNIQUE constraint failed: student.RollNumber"
     ]
    }
   ],
   "source": [
    "cur.execute('Insert into student values(101,\"Aman\",20)')#error because 101 is already present as a roll number so we cannot\n",
    "                                                        #insert it again as rollnumber column is a primary key column and cannot\n",
    "                                                        #contain redundant values."
   ]
  },
  {
   "cell_type": "code",
   "execution_count": 9,
   "id": "734e975a",
   "metadata": {},
   "outputs": [],
   "source": [
    "cur.execute('Insert into student values(102,\"Akhil\",20)')#no error\n",
    "db.commit()\n"
   ]
  },
  {
   "cell_type": "code",
   "execution_count": 10,
   "id": "f702df73",
   "metadata": {},
   "outputs": [],
   "source": [
    "#closing database file after performing the operations\n",
    "db.close()"
   ]
  },
  {
   "cell_type": "code",
   "execution_count": 11,
   "id": "72987db1",
   "metadata": {},
   "outputs": [
    {
     "ename": "ProgrammingError",
     "evalue": "Cannot operate on a closed database.",
     "output_type": "error",
     "traceback": [
      "\u001b[1;31m---------------------------------------------------------------------------\u001b[0m",
      "\u001b[1;31mProgrammingError\u001b[0m                          Traceback (most recent call last)",
      "\u001b[1;32m<ipython-input-11-40491a8a0f92>\u001b[0m in \u001b[0;36m<module>\u001b[1;34m\u001b[0m\n\u001b[1;32m----> 1\u001b[1;33m \u001b[0mcur\u001b[0m\u001b[1;33m.\u001b[0m\u001b[0mexecute\u001b[0m\u001b[1;33m(\u001b[0m\u001b[1;34m'Insert into student values(102,\"Akhil\",20)'\u001b[0m\u001b[1;33m)\u001b[0m\u001b[1;31m#no error\u001b[0m\u001b[1;33m\u001b[0m\u001b[1;33m\u001b[0m\u001b[0m\n\u001b[0m",
      "\u001b[1;31mProgrammingError\u001b[0m: Cannot operate on a closed database."
     ]
    }
   ],
   "source": [
    "cur.execute('Insert into student values(102,\"Akhil\",20)')#error as database is closed"
   ]
  },
  {
   "cell_type": "markdown",
   "id": "09d5535f",
   "metadata": {},
   "source": [
    "### Problem 1: Create a table employee with given values in the Employee Database"
   ]
  },
  {
   "cell_type": "code",
   "execution_count": 13,
   "id": "10b306ac",
   "metadata": {},
   "outputs": [
    {
     "data": {
      "text/plain": [
       "<sqlite3.Cursor at 0x217e0549f10>"
      ]
     },
     "execution_count": 13,
     "metadata": {},
     "output_type": "execute_result"
    }
   ],
   "source": [
    "import sqlite3\n",
    "db=sqlite3.connect('Employees.sqlite')\n",
    "cur=db.cursor()#cursor object to run queries\n",
    "#create table query\n",
    "sql_query='create table Employee_detail (employee_id int Primary Key,name Text,age int,department text,salary int)'\n",
    "cur.execute(sql_query)"
   ]
  },
  {
   "cell_type": "code",
   "execution_count": 14,
   "id": "ef2d938c",
   "metadata": {},
   "outputs": [],
   "source": [
    "cur.execute('Insert into employee_detail values(100,\"Rishav\",25,\"Marketing\",50000)')\n",
    "cur.execute('Insert into employee_detail values(101,\"Abhishek\",26,\"Operations\",60000)')\n",
    "cur.execute('Insert into employee_detail values(102,\"Aman\",24,\"Human Resource\",75000)')\n",
    "db.commit()\n",
    "db.close()"
   ]
  },
  {
   "cell_type": "markdown",
   "id": "8e5b970a",
   "metadata": {},
   "source": [
    "# --------------------------------------------------------------------------------------------------------------"
   ]
  },
  {
   "cell_type": "markdown",
   "id": "8ec9e932",
   "metadata": {},
   "source": [
    "## PASSING PARAMETERS TO QUERIES"
   ]
  },
  {
   "cell_type": "code",
   "execution_count": 1,
   "id": "80803eae",
   "metadata": {},
   "outputs": [],
   "source": [
    "import sqlite3"
   ]
  },
  {
   "cell_type": "code",
   "execution_count": 2,
   "id": "563e7b8e",
   "metadata": {},
   "outputs": [],
   "source": [
    "db=sqlite3.connect('School.sqlite')"
   ]
  },
  {
   "cell_type": "code",
   "execution_count": 3,
   "id": "26ac44a5",
   "metadata": {},
   "outputs": [],
   "source": [
    "cur=db.cursor()"
   ]
  },
  {
   "cell_type": "code",
   "execution_count": 4,
   "id": "3860c129",
   "metadata": {},
   "outputs": [
    {
     "data": {
      "text/plain": [
       "<sqlite3.Cursor at 0x24a521615e0>"
      ]
     },
     "execution_count": 4,
     "metadata": {},
     "output_type": "execute_result"
    }
   ],
   "source": [
    "cur.execute('Insert into student values(103,\"Mohit\",24)')"
   ]
  },
  {
   "cell_type": "code",
   "execution_count": 5,
   "id": "7afdfbb9",
   "metadata": {},
   "outputs": [],
   "source": [
    "db.commit()"
   ]
  },
  {
   "cell_type": "code",
   "execution_count": 6,
   "id": "0c920c88",
   "metadata": {},
   "outputs": [
    {
     "data": {
      "text/plain": [
       "<sqlite3.Cursor at 0x24a521615e0>"
      ]
     },
     "execution_count": 6,
     "metadata": {},
     "output_type": "execute_result"
    }
   ],
   "source": [
    "#now suppose i have some parameters and, i want to pass them into the queries so lets see how we can do that\n",
    "rollnumber=104\n",
    "name='Nikhil'\n",
    "age=34\n",
    "\n",
    "cur.execute('Insert into student values(?,?,?)',(rollnumber,name,age))# ? symbol works as a placeholder for the passed parameters\n"
   ]
  },
  {
   "cell_type": "code",
   "execution_count": 7,
   "id": "14b5af29",
   "metadata": {},
   "outputs": [],
   "source": [
    "db.commit()"
   ]
  },
  {
   "cell_type": "code",
   "execution_count": 8,
   "id": "5ad4c842",
   "metadata": {},
   "outputs": [
    {
     "data": {
      "text/plain": [
       "<sqlite3.Cursor at 0x24a521615e0>"
      ]
     },
     "execution_count": 8,
     "metadata": {},
     "output_type": "execute_result"
    }
   ],
   "source": [
    "#we can execute various queries at a time if we want. For better understanding see the example below:\n",
    "\n",
    "#Suppose we want to insert more than one row at a time so what we can do is create a list of tuples where each tuple represents\n",
    "#data of each row that we want to insert and call execute many fxn in the way shown below\n",
    "#execute many will take each tuple at a time and execute the query one by one on the data present in that tuple.\n",
    "\n",
    "\n",
    "data=[(105,\"Nidhi\",20),(106,\"Manisha\",21),(107,\"Ankush\",22)]\n",
    "cur.executemany('Insert into student values(?,?,?)',data)"
   ]
  },
  {
   "cell_type": "code",
   "execution_count": 9,
   "id": "6ab1dff0",
   "metadata": {},
   "outputs": [],
   "source": [
    "db.commit()"
   ]
  },
  {
   "cell_type": "code",
   "execution_count": 10,
   "id": "e6c0b813",
   "metadata": {},
   "outputs": [
    {
     "data": {
      "text/plain": [
       "<sqlite3.Cursor at 0x24a521615e0>"
      ]
     },
     "execution_count": 10,
     "metadata": {},
     "output_type": "execute_result"
    }
   ],
   "source": [
    "#update value of age column to 30 for every row\n",
    "cur.execute('update student set age = 30')"
   ]
  },
  {
   "cell_type": "code",
   "execution_count": 11,
   "id": "7754624e",
   "metadata": {},
   "outputs": [],
   "source": [
    "db.commit()"
   ]
  },
  {
   "cell_type": "code",
   "execution_count": 13,
   "id": "0ad4902c",
   "metadata": {},
   "outputs": [],
   "source": [
    "cur.execute('update student set age = 25 where rollnumber=103')\n",
    "db.commit()"
   ]
  },
  {
   "cell_type": "code",
   "execution_count": 15,
   "id": "03dbf75d",
   "metadata": {},
   "outputs": [
    {
     "ename": "ValueError",
     "evalue": "parameters are of unsupported type",
     "output_type": "error",
     "traceback": [
      "\u001b[1;31m---------------------------------------------------------------------------\u001b[0m",
      "\u001b[1;31mValueError\u001b[0m                                Traceback (most recent call last)",
      "\u001b[1;32m<ipython-input-15-af5ed8c354f5>\u001b[0m in \u001b[0;36m<module>\u001b[1;34m\u001b[0m\n\u001b[1;32m----> 1\u001b[1;33m \u001b[0mcur\u001b[0m\u001b[1;33m.\u001b[0m\u001b[0mexecute\u001b[0m\u001b[1;33m(\u001b[0m\u001b[1;34m'update student set age = ? where rollnumber=103'\u001b[0m\u001b[1;33m,\u001b[0m\u001b[1;33m(\u001b[0m\u001b[1;36m12\u001b[0m\u001b[1;33m)\u001b[0m\u001b[1;33m)\u001b[0m\u001b[1;33m\u001b[0m\u001b[1;33m\u001b[0m\u001b[0m\n\u001b[0m\u001b[0;32m      2\u001b[0m \u001b[0mdb\u001b[0m\u001b[1;33m.\u001b[0m\u001b[0mcommit\u001b[0m\u001b[1;33m(\u001b[0m\u001b[1;33m)\u001b[0m\u001b[1;33m\u001b[0m\u001b[1;33m\u001b[0m\u001b[0m\n",
      "\u001b[1;31mValueError\u001b[0m: parameters are of unsupported type"
     ]
    }
   ],
   "source": [
    "cur.execute('update student set age = ? where rollnumber=103',(12))# (12) is not a tuple thats why the error\n",
    "db.commit()"
   ]
  },
  {
   "cell_type": "code",
   "execution_count": 18,
   "id": "000c7b8d",
   "metadata": {},
   "outputs": [
    {
     "data": {
      "text/plain": [
       "int"
      ]
     },
     "execution_count": 18,
     "metadata": {},
     "output_type": "execute_result"
    }
   ],
   "source": [
    "type((10))#we would think that the answer would be tuple but it will be int"
   ]
  },
  {
   "cell_type": "code",
   "execution_count": 19,
   "id": "39b19773",
   "metadata": {},
   "outputs": [
    {
     "data": {
      "text/plain": [
       "tuple"
      ]
     },
     "execution_count": 19,
     "metadata": {},
     "output_type": "execute_result"
    }
   ],
   "source": [
    "#if we want to make a tuple like this we need to add a comma after the variable with which we are making the tuple\n",
    "type((10,))#now class it will be a tuple"
   ]
  },
  {
   "cell_type": "code",
   "execution_count": 20,
   "id": "165aca42",
   "metadata": {},
   "outputs": [],
   "source": [
    "cur.execute('update student set age = ? where rollnumber=103',(12,))# executes perfectly\n",
    "db.commit()"
   ]
  },
  {
   "cell_type": "markdown",
   "id": "642afd8d",
   "metadata": {},
   "source": [
    "### Question:remove the employee with employee id 101 in employee database without using parameter."
   ]
  },
  {
   "cell_type": "code",
   "execution_count": 22,
   "id": "20d64c9b",
   "metadata": {},
   "outputs": [],
   "source": [
    "db=sqlite3.connect('Employees.sqlite')"
   ]
  },
  {
   "cell_type": "code",
   "execution_count": 23,
   "id": "4dd0a3a2",
   "metadata": {},
   "outputs": [],
   "source": [
    "cur=db.cursor()"
   ]
  },
  {
   "cell_type": "code",
   "execution_count": 24,
   "id": "bd0a79c2",
   "metadata": {},
   "outputs": [],
   "source": [
    "cur.execute('delete from employee_detail where employee_id=101')\n",
    "db.commit()"
   ]
  },
  {
   "cell_type": "markdown",
   "id": "27420fed",
   "metadata": {},
   "source": [
    "### Question:remove the employee with employee id 102 in employee database using parameter."
   ]
  },
  {
   "cell_type": "code",
   "execution_count": 25,
   "id": "d82cca6c",
   "metadata": {},
   "outputs": [],
   "source": [
    "db=sqlite3.connect('Employees.sqlite')"
   ]
  },
  {
   "cell_type": "code",
   "execution_count": 26,
   "id": "e5ac12a3",
   "metadata": {},
   "outputs": [],
   "source": [
    "cur=db.cursor()"
   ]
  },
  {
   "cell_type": "code",
   "execution_count": 27,
   "id": "1f9da96e",
   "metadata": {},
   "outputs": [],
   "source": [
    "emp_id=102\n",
    "cur.execute('delete from employee_detail where employee_id=?',(emp_id,))\n",
    "db.commit()"
   ]
  },
  {
   "cell_type": "markdown",
   "id": "bcb953cc",
   "metadata": {},
   "source": [
    "### Question:A given data of 12 Employees working in an investment firm. So add the Employee Data in Employee SQLite Database of Employee_Detail Table which was created by you."
   ]
  },
  {
   "cell_type": "code",
   "execution_count": 30,
   "id": "b04ba2f7",
   "metadata": {},
   "outputs": [],
   "source": [
    "data=[(101,\"Aadarsh\",25,\"Marketing\",50000),\n",
    "      (102,\"Aarti\",27,\"Operations\",60000),\n",
    "      (103,\"Siddharth\",25,\"Finance\",85000),\n",
    "      (104,\"Aman\",24,\"Human Resource\",75000),\n",
    "      (105,\"Amit\",30,\"Marketing\",50000),\n",
    "      (106,\"Shivansh\",26,\"IT\",90000),\n",
    "     (107,\"Vaibhav\",23,\"Finance\",85000),\n",
    "     (108,\"Himanshu\",26,\"IT\",90000),\n",
    "     (109,\"Raman\",25,\"Operations\",60000),\n",
    "     (110,\"Kunal\",26,\"Marketing\",50000),\n",
    "     (111,\"Adhira\",29,\"Human Resource\",75000),\n",
    "     (112,\"Tanya\",24,\"Marketing\",50000)]\n",
    "cur.executemany('insert into employee_detail values(?,?,?,?,?)',data)\n",
    "db.commit()"
   ]
  },
  {
   "cell_type": "code",
   "execution_count": 32,
   "id": "a7cb7e9d",
   "metadata": {},
   "outputs": [],
   "source": [
    "db.close()"
   ]
  },
  {
   "cell_type": "markdown",
   "id": "e5e848c1",
   "metadata": {},
   "source": [
    "## Fetch Data from database"
   ]
  },
  {
   "cell_type": "code",
   "execution_count": 31,
   "id": "ab2f3f8c",
   "metadata": {},
   "outputs": [],
   "source": [
    "import sqlite3"
   ]
  },
  {
   "cell_type": "code",
   "execution_count": 33,
   "id": "9f25b4c5",
   "metadata": {},
   "outputs": [],
   "source": [
    "db=sqlite3.connect('School.sqlite')"
   ]
  },
  {
   "cell_type": "code",
   "execution_count": 34,
   "id": "ab0bac97",
   "metadata": {},
   "outputs": [],
   "source": [
    "cur=db.cursor()"
   ]
  },
  {
   "cell_type": "code",
   "execution_count": 35,
   "id": "c570291b",
   "metadata": {},
   "outputs": [
    {
     "data": {
      "text/plain": [
       "<sqlite3.Cursor at 0x24a522149d0>"
      ]
     },
     "execution_count": 35,
     "metadata": {},
     "output_type": "execute_result"
    }
   ],
   "source": [
    "cur.execute('select * from student')"
   ]
  },
  {
   "cell_type": "code",
   "execution_count": 36,
   "id": "1a2b3591",
   "metadata": {},
   "outputs": [
    {
     "name": "stdout",
     "output_type": "stream",
     "text": [
      "(101, 'Aman', 30)\n",
      "(102, 'Akhil', 30)\n",
      "(103, 'Mohit', 12)\n",
      "(104, 'Nikhil', 30)\n",
      "(105, 'Nidhi', 30)\n",
      "(106, 'Manisha', 30)\n",
      "(107, 'Ankush', 30)\n"
     ]
    }
   ],
   "source": [
    "#now we can iterate over this cursor object and we will get value of each row combined in the form of a tuple\n",
    "#and each tuple represents one row\n",
    "for row in cur:\n",
    "    print(row)"
   ]
  },
  {
   "cell_type": "code",
   "execution_count": 37,
   "id": "fa79287f",
   "metadata": {},
   "outputs": [],
   "source": [
    "#Some more methods to fetch data"
   ]
  },
  {
   "cell_type": "code",
   "execution_count": 38,
   "id": "c1ade60d",
   "metadata": {},
   "outputs": [
    {
     "name": "stdout",
     "output_type": "stream",
     "text": [
      "(101, 'Aman', 30)\n",
      "(102, 'Akhil', 30)\n"
     ]
    }
   ],
   "source": [
    "cur.execute('select * from student')#fetching all the rows into cursor object\n",
    "print(cur.fetchone())#fetches one row and then the next if called another time\n",
    "print(cur.fetchone())"
   ]
  },
  {
   "cell_type": "code",
   "execution_count": 39,
   "id": "20e75c5b",
   "metadata": {},
   "outputs": [
    {
     "name": "stdout",
     "output_type": "stream",
     "text": [
      "(103, 'Mohit', 12)\n"
     ]
    }
   ],
   "source": [
    "print(cur.fetchone())"
   ]
  },
  {
   "cell_type": "code",
   "execution_count": 43,
   "id": "fd22c02e",
   "metadata": {},
   "outputs": [
    {
     "name": "stdout",
     "output_type": "stream",
     "text": [
      "[(101, 'Aman', 30), (102, 'Akhil', 30), (103, 'Mohit', 12)]\n",
      "[(104, 'Nikhil', 30), (105, 'Nidhi', 30), (106, 'Manisha', 30)]\n",
      "[(107, 'Ankush', 30)]\n",
      "[]\n"
     ]
    }
   ],
   "source": [
    "cur.execute('select * from student')#fetching all the rows into cursor object\n",
    "print(cur.fetchmany(3))#fetches n number of rows,here n=3\n",
    "print(cur.fetchmany(3))\n",
    "print(cur.fetchmany(3))\n",
    "print(cur.fetchmany(3))#we will get an empty list as all rows have been fetched"
   ]
  },
  {
   "cell_type": "code",
   "execution_count": 44,
   "id": "a27a1fbe",
   "metadata": {},
   "outputs": [
    {
     "name": "stdout",
     "output_type": "stream",
     "text": [
      "[(101, 'Aman', 30)]\n"
     ]
    }
   ],
   "source": [
    "cur.execute('select * from student')#fetching all the rows into cursor object\n",
    "print(cur.fetchmany())#if we dont pass any value to fetchmany it will behave just like fetch one and fetch one value by default"
   ]
  },
  {
   "cell_type": "code",
   "execution_count": 45,
   "id": "d8b16e2c",
   "metadata": {},
   "outputs": [
    {
     "name": "stdout",
     "output_type": "stream",
     "text": [
      "[(101, 'Aman', 30), (102, 'Akhil', 30), (103, 'Mohit', 12), (104, 'Nikhil', 30), (105, 'Nidhi', 30), (106, 'Manisha', 30), (107, 'Ankush', 30)]\n"
     ]
    }
   ],
   "source": [
    "cur.execute('select * from student')#fetching all the rows into cursor object\n",
    "print(cur.fetchall())#we will get each and every row from the database"
   ]
  },
  {
   "cell_type": "code",
   "execution_count": 46,
   "id": "596bd064",
   "metadata": {},
   "outputs": [
    {
     "name": "stdout",
     "output_type": "stream",
     "text": [
      "[(103, 'Mohit', 12), (104, 'Nikhil', 30), (105, 'Nidhi', 30)]\n"
     ]
    }
   ],
   "source": [
    "#apllying filter\n",
    "cur.execute('select * from student where rollnumber>102')#fetching all the rows into cursor object  which satisfy the condition\n",
    "print(cur.fetchmany(3))#fetches n number of rows,here n=3"
   ]
  },
  {
   "cell_type": "code",
   "execution_count": 49,
   "id": "52da5136",
   "metadata": {},
   "outputs": [
    {
     "name": "stdout",
     "output_type": "stream",
     "text": [
      "[(101, 'Aman', 30), (102, 'Akhil', 30), (107, 'Ankush', 30)]\n"
     ]
    }
   ],
   "source": [
    "#apllying filter\n",
    "cur.execute('select * from student where name like \"A%\"')#fetching all the rows into cursor object  which satisfy the condition\n",
    "print(cur.fetchall())\n",
    "db.close()"
   ]
  },
  {
   "cell_type": "markdown",
   "id": "26c50266",
   "metadata": {},
   "source": [
    "### Question:print employee id of employees working in finance department."
   ]
  },
  {
   "cell_type": "code",
   "execution_count": 57,
   "id": "ac49eaf7",
   "metadata": {},
   "outputs": [
    {
     "name": "stdout",
     "output_type": "stream",
     "text": [
      "(103,)\n",
      "(107,)\n"
     ]
    }
   ],
   "source": [
    "import sqlite3\n",
    "db=sqlite3.connect('Employees.sqlite')\n",
    "cur=db.cursor()\n",
    "cur.execute('select employee_id from employee_detail where department=\"Finance\"')\n",
    "for i in cur:\n",
    "    print(i)#whether we select only one column from the table or the entire table the row values would always come in the form of\n",
    "    #tuple\n",
    "for i in cur:\n",
    "    print(i[0])#values are not printing again as we have already traversed over the cursor object so the cursor pointer has\n",
    "    #surpassed the final row of the table that we fetched from the query "
   ]
  },
  {
   "cell_type": "code",
   "execution_count": 58,
   "id": "5bf37132",
   "metadata": {},
   "outputs": [
    {
     "name": "stdout",
     "output_type": "stream",
     "text": [
      "103\n",
      "107\n"
     ]
    }
   ],
   "source": [
    "#correct solution\n",
    "import sqlite3\n",
    "db=sqlite3.connect('Employees.sqlite')\n",
    "cur=db.cursor()\n",
    "cur.execute('select employee_id from employee_detail where department=\"Finance\"')\n",
    "for i in cur:\n",
    "    print(i[0])#whether we select only one column from the table or the entire table the row values would always come in the form of\n",
    "    #tuple\n"
   ]
  },
  {
   "cell_type": "markdown",
   "id": "4ed18270",
   "metadata": {},
   "source": [
    "### Question:find the number of employee working in different departments from the table"
   ]
  },
  {
   "cell_type": "code",
   "execution_count": 61,
   "id": "0205263d",
   "metadata": {},
   "outputs": [
    {
     "name": "stdout",
     "output_type": "stream",
     "text": [
      "Finance 2 \n",
      "Human Resource 2 \n",
      "IT 2 \n",
      "Marketing 5 \n",
      "Operations 2 \n"
     ]
    }
   ],
   "source": [
    "import sqlite3\n",
    "db=sqlite3.connect('Employees.sqlite')\n",
    "cur=db.cursor()\n",
    "cur.execute('select department,count(*) from employee_detail group by department')\n",
    "for i in cur:\n",
    "    for j in i:\n",
    "        print(j,end=' ')\n",
    "    print()\n",
    "        "
   ]
  },
  {
   "cell_type": "markdown",
   "id": "230a8e09",
   "metadata": {},
   "source": [
    "## SQLite with Pandas"
   ]
  },
  {
   "cell_type": "code",
   "execution_count": 1,
   "id": "cfc43bf4",
   "metadata": {},
   "outputs": [],
   "source": [
    "import sqlite3\n",
    "import pandas as pd"
   ]
  },
  {
   "cell_type": "code",
   "execution_count": 63,
   "id": "62298120",
   "metadata": {},
   "outputs": [],
   "source": [
    "db=sqlite3.connect('School.sqlite')"
   ]
  },
  {
   "cell_type": "code",
   "execution_count": 65,
   "id": "3105fa97",
   "metadata": {},
   "outputs": [
    {
     "data": {
      "text/html": [
       "<div>\n",
       "<style scoped>\n",
       "    .dataframe tbody tr th:only-of-type {\n",
       "        vertical-align: middle;\n",
       "    }\n",
       "\n",
       "    .dataframe tbody tr th {\n",
       "        vertical-align: top;\n",
       "    }\n",
       "\n",
       "    .dataframe thead th {\n",
       "        text-align: right;\n",
       "    }\n",
       "</style>\n",
       "<table border=\"1\" class=\"dataframe\">\n",
       "  <thead>\n",
       "    <tr style=\"text-align: right;\">\n",
       "      <th></th>\n",
       "      <th>RollNumber</th>\n",
       "      <th>name</th>\n",
       "      <th>age</th>\n",
       "    </tr>\n",
       "  </thead>\n",
       "  <tbody>\n",
       "    <tr>\n",
       "      <th>0</th>\n",
       "      <td>101</td>\n",
       "      <td>Aman</td>\n",
       "      <td>30</td>\n",
       "    </tr>\n",
       "    <tr>\n",
       "      <th>1</th>\n",
       "      <td>102</td>\n",
       "      <td>Akhil</td>\n",
       "      <td>30</td>\n",
       "    </tr>\n",
       "    <tr>\n",
       "      <th>2</th>\n",
       "      <td>103</td>\n",
       "      <td>Mohit</td>\n",
       "      <td>12</td>\n",
       "    </tr>\n",
       "    <tr>\n",
       "      <th>3</th>\n",
       "      <td>104</td>\n",
       "      <td>Nikhil</td>\n",
       "      <td>30</td>\n",
       "    </tr>\n",
       "    <tr>\n",
       "      <th>4</th>\n",
       "      <td>105</td>\n",
       "      <td>Nidhi</td>\n",
       "      <td>30</td>\n",
       "    </tr>\n",
       "    <tr>\n",
       "      <th>5</th>\n",
       "      <td>106</td>\n",
       "      <td>Manisha</td>\n",
       "      <td>30</td>\n",
       "    </tr>\n",
       "    <tr>\n",
       "      <th>6</th>\n",
       "      <td>107</td>\n",
       "      <td>Ankush</td>\n",
       "      <td>30</td>\n",
       "    </tr>\n",
       "  </tbody>\n",
       "</table>\n",
       "</div>"
      ],
      "text/plain": [
       "   RollNumber     name  age\n",
       "0         101     Aman   30\n",
       "1         102    Akhil   30\n",
       "2         103    Mohit   12\n",
       "3         104   Nikhil   30\n",
       "4         105    Nidhi   30\n",
       "5         106  Manisha   30\n",
       "6         107   Ankush   30"
      ]
     },
     "execution_count": 65,
     "metadata": {},
     "output_type": "execute_result"
    }
   ],
   "source": [
    "#read_sql_query fxn ogf pandas library allows us to fetch data using query on the connection object.\n",
    "#Example\n",
    "pd.read_sql_query('select * from student',db)#db is the connection object\n",
    "#we get a data frame as the output"
   ]
  },
  {
   "cell_type": "code",
   "execution_count": 68,
   "id": "cd1ba923",
   "metadata": {},
   "outputs": [
    {
     "data": {
      "text/html": [
       "<div>\n",
       "<style scoped>\n",
       "    .dataframe tbody tr th:only-of-type {\n",
       "        vertical-align: middle;\n",
       "    }\n",
       "\n",
       "    .dataframe tbody tr th {\n",
       "        vertical-align: top;\n",
       "    }\n",
       "\n",
       "    .dataframe thead th {\n",
       "        text-align: right;\n",
       "    }\n",
       "</style>\n",
       "<table border=\"1\" class=\"dataframe\">\n",
       "  <thead>\n",
       "    <tr style=\"text-align: right;\">\n",
       "      <th></th>\n",
       "      <th>RollNumber</th>\n",
       "      <th>name</th>\n",
       "      <th>age</th>\n",
       "    </tr>\n",
       "  </thead>\n",
       "  <tbody>\n",
       "    <tr>\n",
       "      <th>0</th>\n",
       "      <td>101</td>\n",
       "      <td>Aman</td>\n",
       "      <td>30</td>\n",
       "    </tr>\n",
       "    <tr>\n",
       "      <th>1</th>\n",
       "      <td>102</td>\n",
       "      <td>Akhil</td>\n",
       "      <td>30</td>\n",
       "    </tr>\n",
       "    <tr>\n",
       "      <th>2</th>\n",
       "      <td>103</td>\n",
       "      <td>Mohit</td>\n",
       "      <td>12</td>\n",
       "    </tr>\n",
       "    <tr>\n",
       "      <th>3</th>\n",
       "      <td>104</td>\n",
       "      <td>Nikhil</td>\n",
       "      <td>30</td>\n",
       "    </tr>\n",
       "    <tr>\n",
       "      <th>4</th>\n",
       "      <td>105</td>\n",
       "      <td>Nidhi</td>\n",
       "      <td>30</td>\n",
       "    </tr>\n",
       "  </tbody>\n",
       "</table>\n",
       "</div>"
      ],
      "text/plain": [
       "   RollNumber    name  age\n",
       "0         101    Aman   30\n",
       "1         102   Akhil   30\n",
       "2         103   Mohit   12\n",
       "3         104  Nikhil   30\n",
       "4         105   Nidhi   30"
      ]
     },
     "execution_count": 68,
     "metadata": {},
     "output_type": "execute_result"
    }
   ],
   "source": [
    "data=pd.read_sql_query('select * from student',db)\n",
    "data.head()"
   ]
  },
  {
   "cell_type": "code",
   "execution_count": 71,
   "id": "84815733",
   "metadata": {},
   "outputs": [
    {
     "data": {
      "text/html": [
       "<div>\n",
       "<style scoped>\n",
       "    .dataframe tbody tr th:only-of-type {\n",
       "        vertical-align: middle;\n",
       "    }\n",
       "\n",
       "    .dataframe tbody tr th {\n",
       "        vertical-align: top;\n",
       "    }\n",
       "\n",
       "    .dataframe thead th {\n",
       "        text-align: right;\n",
       "    }\n",
       "</style>\n",
       "<table border=\"1\" class=\"dataframe\">\n",
       "  <thead>\n",
       "    <tr style=\"text-align: right;\">\n",
       "      <th></th>\n",
       "      <th>RollNumber</th>\n",
       "      <th>name</th>\n",
       "      <th>age</th>\n",
       "    </tr>\n",
       "  </thead>\n",
       "  <tbody>\n",
       "    <tr>\n",
       "      <th>0</th>\n",
       "      <td>101</td>\n",
       "      <td>Aman</td>\n",
       "      <td>30</td>\n",
       "    </tr>\n",
       "    <tr>\n",
       "      <th>1</th>\n",
       "      <td>102</td>\n",
       "      <td>Akhil</td>\n",
       "      <td>30</td>\n",
       "    </tr>\n",
       "    <tr>\n",
       "      <th>3</th>\n",
       "      <td>104</td>\n",
       "      <td>Nikhil</td>\n",
       "      <td>30</td>\n",
       "    </tr>\n",
       "    <tr>\n",
       "      <th>4</th>\n",
       "      <td>105</td>\n",
       "      <td>Nidhi</td>\n",
       "      <td>30</td>\n",
       "    </tr>\n",
       "    <tr>\n",
       "      <th>5</th>\n",
       "      <td>106</td>\n",
       "      <td>Manisha</td>\n",
       "      <td>30</td>\n",
       "    </tr>\n",
       "    <tr>\n",
       "      <th>6</th>\n",
       "      <td>107</td>\n",
       "      <td>Ankush</td>\n",
       "      <td>30</td>\n",
       "    </tr>\n",
       "  </tbody>\n",
       "</table>\n",
       "</div>"
      ],
      "text/plain": [
       "   RollNumber     name  age\n",
       "0         101     Aman   30\n",
       "1         102    Akhil   30\n",
       "3         104   Nikhil   30\n",
       "4         105    Nidhi   30\n",
       "5         106  Manisha   30\n",
       "6         107   Ankush   30"
      ]
     },
     "execution_count": 71,
     "metadata": {},
     "output_type": "execute_result"
    }
   ],
   "source": [
    "data[data['age']==30]"
   ]
  },
  {
   "cell_type": "code",
   "execution_count": null,
   "id": "0cceeed5",
   "metadata": {},
   "outputs": [],
   "source": [
    "'''Using a dataframe is easy therefore it is always advisable to use this method whenever we want to perform operations on the\n",
    "data present in a database.'''"
   ]
  },
  {
   "cell_type": "code",
   "execution_count": 74,
   "id": "6c7f9e17",
   "metadata": {},
   "outputs": [],
   "source": [
    "#we can create new tables also with the help of pandas library in the database.\n",
    "#Lets create a table faculty with attribute id,name ,course,salary"
   ]
  },
  {
   "cell_type": "code",
   "execution_count": 75,
   "id": "ced9a8dd",
   "metadata": {},
   "outputs": [],
   "source": [
    "#Steps:-\n",
    "#first create a pandas datafradme\n",
    "faculty=pd.DataFrame({'ID':[201,202,203],'Name':['Aman','Komal','Mahesh'],'Course':['English','Maths','Science'],\n",
    "                      'Salary':[20000,22000,23000]})"
   ]
  },
  {
   "cell_type": "code",
   "execution_count": 76,
   "id": "d3b3449e",
   "metadata": {},
   "outputs": [
    {
     "data": {
      "text/html": [
       "<div>\n",
       "<style scoped>\n",
       "    .dataframe tbody tr th:only-of-type {\n",
       "        vertical-align: middle;\n",
       "    }\n",
       "\n",
       "    .dataframe tbody tr th {\n",
       "        vertical-align: top;\n",
       "    }\n",
       "\n",
       "    .dataframe thead th {\n",
       "        text-align: right;\n",
       "    }\n",
       "</style>\n",
       "<table border=\"1\" class=\"dataframe\">\n",
       "  <thead>\n",
       "    <tr style=\"text-align: right;\">\n",
       "      <th></th>\n",
       "      <th>ID</th>\n",
       "      <th>Name</th>\n",
       "      <th>Course</th>\n",
       "      <th>Salary</th>\n",
       "    </tr>\n",
       "  </thead>\n",
       "  <tbody>\n",
       "    <tr>\n",
       "      <th>0</th>\n",
       "      <td>201</td>\n",
       "      <td>Aman</td>\n",
       "      <td>English</td>\n",
       "      <td>20000</td>\n",
       "    </tr>\n",
       "    <tr>\n",
       "      <th>1</th>\n",
       "      <td>202</td>\n",
       "      <td>Komal</td>\n",
       "      <td>Maths</td>\n",
       "      <td>22000</td>\n",
       "    </tr>\n",
       "    <tr>\n",
       "      <th>2</th>\n",
       "      <td>203</td>\n",
       "      <td>Mahesh</td>\n",
       "      <td>Science</td>\n",
       "      <td>23000</td>\n",
       "    </tr>\n",
       "  </tbody>\n",
       "</table>\n",
       "</div>"
      ],
      "text/plain": [
       "    ID    Name   Course  Salary\n",
       "0  201    Aman  English   20000\n",
       "1  202   Komal    Maths   22000\n",
       "2  203  Mahesh  Science   23000"
      ]
     },
     "execution_count": 76,
     "metadata": {},
     "output_type": "execute_result"
    }
   ],
   "source": [
    "faculty.head()"
   ]
  },
  {
   "cell_type": "code",
   "execution_count": 77,
   "id": "066c0a4a",
   "metadata": {},
   "outputs": [],
   "source": [
    "#we can make a table using this dataframe using to_sql fxn which takes in two parameters,table name and database connection \n",
    "#object\n",
    "faculty.to_sql(\"Faculties\",db)"
   ]
  },
  {
   "cell_type": "code",
   "execution_count": 86,
   "id": "97c80d77",
   "metadata": {},
   "outputs": [
    {
     "data": {
      "text/html": [
       "<div>\n",
       "<style scoped>\n",
       "    .dataframe tbody tr th:only-of-type {\n",
       "        vertical-align: middle;\n",
       "    }\n",
       "\n",
       "    .dataframe tbody tr th {\n",
       "        vertical-align: top;\n",
       "    }\n",
       "\n",
       "    .dataframe thead th {\n",
       "        text-align: right;\n",
       "    }\n",
       "</style>\n",
       "<table border=\"1\" class=\"dataframe\">\n",
       "  <thead>\n",
       "    <tr style=\"text-align: right;\">\n",
       "      <th></th>\n",
       "      <th>RollNumber</th>\n",
       "      <th>name</th>\n",
       "      <th>age</th>\n",
       "    </tr>\n",
       "  </thead>\n",
       "  <tbody>\n",
       "    <tr>\n",
       "      <th>0</th>\n",
       "      <td>101</td>\n",
       "      <td>Aman</td>\n",
       "      <td>30</td>\n",
       "    </tr>\n",
       "    <tr>\n",
       "      <th>1</th>\n",
       "      <td>102</td>\n",
       "      <td>Akhil</td>\n",
       "      <td>30</td>\n",
       "    </tr>\n",
       "    <tr>\n",
       "      <th>2</th>\n",
       "      <td>103</td>\n",
       "      <td>Mohit</td>\n",
       "      <td>12</td>\n",
       "    </tr>\n",
       "    <tr>\n",
       "      <th>3</th>\n",
       "      <td>104</td>\n",
       "      <td>Nikhil</td>\n",
       "      <td>30</td>\n",
       "    </tr>\n",
       "    <tr>\n",
       "      <th>4</th>\n",
       "      <td>105</td>\n",
       "      <td>Nidhi</td>\n",
       "      <td>30</td>\n",
       "    </tr>\n",
       "  </tbody>\n",
       "</table>\n",
       "</div>"
      ],
      "text/plain": [
       "   RollNumber    name  age\n",
       "0         101    Aman   30\n",
       "1         102   Akhil   30\n",
       "2         103   Mohit   12\n",
       "3         104  Nikhil   30\n",
       "4         105   Nidhi   30"
      ]
     },
     "execution_count": 86,
     "metadata": {},
     "output_type": "execute_result"
    }
   ],
   "source": [
    "data=pd.read_sql_query('select * from student',db)\n",
    "data.head()"
   ]
  },
  {
   "cell_type": "code",
   "execution_count": 87,
   "id": "5e2b0d50",
   "metadata": {},
   "outputs": [
    {
     "data": {
      "text/html": [
       "<div>\n",
       "<style scoped>\n",
       "    .dataframe tbody tr th:only-of-type {\n",
       "        vertical-align: middle;\n",
       "    }\n",
       "\n",
       "    .dataframe tbody tr th {\n",
       "        vertical-align: top;\n",
       "    }\n",
       "\n",
       "    .dataframe thead th {\n",
       "        text-align: right;\n",
       "    }\n",
       "</style>\n",
       "<table border=\"1\" class=\"dataframe\">\n",
       "  <thead>\n",
       "    <tr style=\"text-align: right;\">\n",
       "      <th></th>\n",
       "      <th>RollNumber</th>\n",
       "      <th>name</th>\n",
       "      <th>age</th>\n",
       "      <th>Address</th>\n",
       "    </tr>\n",
       "  </thead>\n",
       "  <tbody>\n",
       "    <tr>\n",
       "      <th>0</th>\n",
       "      <td>101</td>\n",
       "      <td>Aman</td>\n",
       "      <td>30</td>\n",
       "      <td>test</td>\n",
       "    </tr>\n",
       "    <tr>\n",
       "      <th>1</th>\n",
       "      <td>102</td>\n",
       "      <td>Akhil</td>\n",
       "      <td>30</td>\n",
       "      <td>test</td>\n",
       "    </tr>\n",
       "    <tr>\n",
       "      <th>2</th>\n",
       "      <td>103</td>\n",
       "      <td>Mohit</td>\n",
       "      <td>12</td>\n",
       "      <td>test</td>\n",
       "    </tr>\n",
       "    <tr>\n",
       "      <th>3</th>\n",
       "      <td>104</td>\n",
       "      <td>Nikhil</td>\n",
       "      <td>30</td>\n",
       "      <td>test</td>\n",
       "    </tr>\n",
       "    <tr>\n",
       "      <th>4</th>\n",
       "      <td>105</td>\n",
       "      <td>Nidhi</td>\n",
       "      <td>30</td>\n",
       "      <td>test</td>\n",
       "    </tr>\n",
       "  </tbody>\n",
       "</table>\n",
       "</div>"
      ],
      "text/plain": [
       "   RollNumber    name  age Address\n",
       "0         101    Aman   30    test\n",
       "1         102   Akhil   30    test\n",
       "2         103   Mohit   12    test\n",
       "3         104  Nikhil   30    test\n",
       "4         105   Nidhi   30    test"
      ]
     },
     "execution_count": 87,
     "metadata": {},
     "output_type": "execute_result"
    }
   ],
   "source": [
    "#Now we want to insert a new column to student table we can also do that using dataframes\n",
    "data['Address']='test'\n",
    "data.head()"
   ]
  },
  {
   "cell_type": "code",
   "execution_count": 92,
   "id": "64e9d988",
   "metadata": {},
   "outputs": [],
   "source": [
    "#now making changes to student table using to_sql function\n",
    "data.to_sql('student',db,if_exists='replace')# if_exists='replace' tells us that if there is a table with name student\n",
    "                                            #then replace that table with the dataframe.\n",
    "#note:table name inside the fxn is case sensitive"
   ]
  },
  {
   "cell_type": "code",
   "execution_count": 93,
   "id": "1ec103b8",
   "metadata": {},
   "outputs": [],
   "source": [
    "db.close()"
   ]
  },
  {
   "cell_type": "markdown",
   "id": "9ef69a59",
   "metadata": {},
   "source": [
    "### Question: Find count of each Genre present in Imdb Movie Dataset"
   ]
  },
  {
   "cell_type": "code",
   "execution_count": 1,
   "id": "81158953",
   "metadata": {},
   "outputs": [],
   "source": [
    "import sqlite3\n",
    "import pandas as pd"
   ]
  },
  {
   "cell_type": "code",
   "execution_count": 2,
   "id": "fb80210e",
   "metadata": {},
   "outputs": [],
   "source": [
    "db=sqlite3.connect('IMDB.sqlite')"
   ]
  },
  {
   "cell_type": "code",
   "execution_count": 3,
   "id": "229dbd95",
   "metadata": {},
   "outputs": [],
   "source": [
    "data=pd.read_sql_query('Select genre,count(*) from genre group by genre having genre!=\"\";',db)"
   ]
  },
  {
   "cell_type": "code",
   "execution_count": 4,
   "id": "773c2efd",
   "metadata": {},
   "outputs": [
    {
     "data": {
      "text/html": [
       "<div>\n",
       "<style scoped>\n",
       "    .dataframe tbody tr th:only-of-type {\n",
       "        vertical-align: middle;\n",
       "    }\n",
       "\n",
       "    .dataframe tbody tr th {\n",
       "        vertical-align: top;\n",
       "    }\n",
       "\n",
       "    .dataframe thead th {\n",
       "        text-align: right;\n",
       "    }\n",
       "</style>\n",
       "<table border=\"1\" class=\"dataframe\">\n",
       "  <thead>\n",
       "    <tr style=\"text-align: right;\">\n",
       "      <th></th>\n",
       "      <th>genre</th>\n",
       "      <th>count(*)</th>\n",
       "    </tr>\n",
       "  </thead>\n",
       "  <tbody>\n",
       "    <tr>\n",
       "      <th>0</th>\n",
       "      <td>Action</td>\n",
       "      <td>33</td>\n",
       "    </tr>\n",
       "    <tr>\n",
       "      <th>1</th>\n",
       "      <td>Adventure</td>\n",
       "      <td>43</td>\n",
       "    </tr>\n",
       "    <tr>\n",
       "      <th>2</th>\n",
       "      <td>Animation</td>\n",
       "      <td>13</td>\n",
       "    </tr>\n",
       "    <tr>\n",
       "      <th>3</th>\n",
       "      <td>Biography</td>\n",
       "      <td>21</td>\n",
       "    </tr>\n",
       "    <tr>\n",
       "      <th>4</th>\n",
       "      <td>Comedy</td>\n",
       "      <td>31</td>\n",
       "    </tr>\n",
       "  </tbody>\n",
       "</table>\n",
       "</div>"
      ],
      "text/plain": [
       "       genre  count(*)\n",
       "0     Action        33\n",
       "1  Adventure        43\n",
       "2  Animation        13\n",
       "3  Biography        21\n",
       "4     Comedy        31"
      ]
     },
     "execution_count": 4,
     "metadata": {},
     "output_type": "execute_result"
    }
   ],
   "source": [
    "data.head()"
   ]
  },
  {
   "cell_type": "code",
   "execution_count": 5,
   "id": "8e83b9af",
   "metadata": {},
   "outputs": [
    {
     "name": "stdout",
     "output_type": "stream",
     "text": [
      "Action 33\n",
      "Adventure 43\n",
      "Animation 13\n",
      "Biography 21\n",
      "Comedy 31\n",
      "Crime 11\n",
      "Drama 77\n",
      "Family 3\n",
      "Fantasy 7\n",
      "History 6\n",
      "Horror 2\n",
      "Music 3\n",
      "Musical 1\n",
      "Mystery 7\n",
      "Romance 13\n",
      "Sci-Fi 18\n",
      "Sport 3\n",
      "Thriller 14\n",
      "War 2\n",
      "Western 2\n"
     ]
    }
   ],
   "source": [
    "#ANS\n",
    "for i in range(len(data)):\n",
    "    print(data.iloc[i,0],data.iloc[i,1])"
   ]
  },
  {
   "cell_type": "markdown",
   "id": "72e281f1",
   "metadata": {},
   "source": [
    "### Question: Find the highest grossing movie."
   ]
  },
  {
   "cell_type": "code",
   "execution_count": 6,
   "id": "ce89954f",
   "metadata": {},
   "outputs": [],
   "source": [
    "data=pd.read_sql_query('select * from earning',db)"
   ]
  },
  {
   "cell_type": "code",
   "execution_count": 7,
   "id": "135ca0ce",
   "metadata": {},
   "outputs": [],
   "source": [
    "data['TotalEarning']=data['Domestic']+data['Worldwide']"
   ]
  },
  {
   "cell_type": "code",
   "execution_count": 8,
   "id": "b82ad393",
   "metadata": {},
   "outputs": [
    {
     "name": "stdout",
     "output_type": "stream",
     "text": [
      "38626\n"
     ]
    }
   ],
   "source": [
    "#ANS\n",
    "maxEarning=data.TotalEarning.max()\n",
    "movieid=data[data.TotalEarning==maxEarning].iloc[0,0]\n",
    "print(movieid)"
   ]
  },
  {
   "cell_type": "code",
   "execution_count": 9,
   "id": "a1d48c24",
   "metadata": {},
   "outputs": [
    {
     "name": "stdout",
     "output_type": "stream",
     "text": [
      "8.1\n"
     ]
    }
   ],
   "source": [
    "#ans\n",
    "ans_df=pd.read_sql_query('select Rating from IMDB where movie_id='+str(movieid),db,)\n",
    "print(ans_df.iloc[0,0])"
   ]
  },
  {
   "cell_type": "markdown",
   "id": "cc3cd42f",
   "metadata": {},
   "source": [
    "## ASSIGNMENT"
   ]
  },
  {
   "cell_type": "code",
   "execution_count": 45,
   "id": "e98f695d",
   "metadata": {},
   "outputs": [],
   "source": [
    "import sqlite3\n",
    "import pandas as pd"
   ]
  },
  {
   "cell_type": "code",
   "execution_count": 46,
   "id": "9312b2a9",
   "metadata": {},
   "outputs": [],
   "source": [
    "db=sqlite3.connect('IMDB.sqlite')"
   ]
  },
  {
   "cell_type": "code",
   "execution_count": 4,
   "id": "b763fe2b",
   "metadata": {},
   "outputs": [],
   "source": [
    "#reading tables\n",
    "imdb=pd.read_sql_query('select * from imdb',db)\n",
    "genre=pd.read_sql_query('select * from genre',db)\n",
    "earning=pd.read_sql_query('select * from earning',db)"
   ]
  },
  {
   "cell_type": "code",
   "execution_count": 14,
   "id": "f1f860cd",
   "metadata": {},
   "outputs": [
    {
     "data": {
      "text/html": [
       "<div>\n",
       "<style scoped>\n",
       "    .dataframe tbody tr th:only-of-type {\n",
       "        vertical-align: middle;\n",
       "    }\n",
       "\n",
       "    .dataframe tbody tr th {\n",
       "        vertical-align: top;\n",
       "    }\n",
       "\n",
       "    .dataframe thead th {\n",
       "        text-align: right;\n",
       "    }\n",
       "</style>\n",
       "<table border=\"1\" class=\"dataframe\">\n",
       "  <thead>\n",
       "    <tr style=\"text-align: right;\">\n",
       "      <th></th>\n",
       "      <th>Movie_id</th>\n",
       "      <th>Title</th>\n",
       "      <th>Rating</th>\n",
       "      <th>TotalVotes</th>\n",
       "      <th>MetaCritic</th>\n",
       "      <th>Budget</th>\n",
       "      <th>Runtime</th>\n",
       "      <th>CVotes10</th>\n",
       "      <th>CVotes09</th>\n",
       "      <th>CVotes08</th>\n",
       "      <th>...</th>\n",
       "      <th>Votes3044</th>\n",
       "      <th>Votes3044M</th>\n",
       "      <th>Votes3044F</th>\n",
       "      <th>Votes45A</th>\n",
       "      <th>Votes45AM</th>\n",
       "      <th>Votes45AF</th>\n",
       "      <th>VotesIMDB</th>\n",
       "      <th>Votes1000</th>\n",
       "      <th>VotesUS</th>\n",
       "      <th>VotesnUS</th>\n",
       "    </tr>\n",
       "  </thead>\n",
       "  <tbody>\n",
       "    <tr>\n",
       "      <th>0</th>\n",
       "      <td>36809</td>\n",
       "      <td>12 Years a Slave (2013)</td>\n",
       "      <td>8.1</td>\n",
       "      <td>496092</td>\n",
       "      <td>96</td>\n",
       "      <td>20000000.0</td>\n",
       "      <td>134 min</td>\n",
       "      <td>75556</td>\n",
       "      <td>126223</td>\n",
       "      <td>161460</td>\n",
       "      <td>...</td>\n",
       "      <td>8.0</td>\n",
       "      <td>7.9</td>\n",
       "      <td>8.0</td>\n",
       "      <td>7.8</td>\n",
       "      <td>7.8</td>\n",
       "      <td>8.1</td>\n",
       "      <td>8.0</td>\n",
       "      <td>7.7</td>\n",
       "      <td>8.3</td>\n",
       "      <td>8.0</td>\n",
       "    </tr>\n",
       "    <tr>\n",
       "      <th>1</th>\n",
       "      <td>30114</td>\n",
       "      <td>127 Hours (2010)</td>\n",
       "      <td>7.6</td>\n",
       "      <td>297075</td>\n",
       "      <td>82</td>\n",
       "      <td>18000000.0</td>\n",
       "      <td>94 min</td>\n",
       "      <td>28939</td>\n",
       "      <td>44110</td>\n",
       "      <td>98845</td>\n",
       "      <td>...</td>\n",
       "      <td>7.5</td>\n",
       "      <td>7.5</td>\n",
       "      <td>7.5</td>\n",
       "      <td>7.3</td>\n",
       "      <td>7.3</td>\n",
       "      <td>7.5</td>\n",
       "      <td>7.6</td>\n",
       "      <td>7.0</td>\n",
       "      <td>7.7</td>\n",
       "      <td>7.6</td>\n",
       "    </tr>\n",
       "    <tr>\n",
       "      <th>2</th>\n",
       "      <td>37367</td>\n",
       "      <td>50/50 (2011)</td>\n",
       "      <td>7.7</td>\n",
       "      <td>283935</td>\n",
       "      <td>72</td>\n",
       "      <td>8000000.0</td>\n",
       "      <td>100 min</td>\n",
       "      <td>28304</td>\n",
       "      <td>47501</td>\n",
       "      <td>99524</td>\n",
       "      <td>...</td>\n",
       "      <td>7.6</td>\n",
       "      <td>7.6</td>\n",
       "      <td>7.6</td>\n",
       "      <td>7.4</td>\n",
       "      <td>7.4</td>\n",
       "      <td>7.5</td>\n",
       "      <td>7.4</td>\n",
       "      <td>7.0</td>\n",
       "      <td>7.9</td>\n",
       "      <td>7.6</td>\n",
       "    </tr>\n",
       "    <tr>\n",
       "      <th>3</th>\n",
       "      <td>49473</td>\n",
       "      <td>About Time (2013)</td>\n",
       "      <td>7.8</td>\n",
       "      <td>225412</td>\n",
       "      <td></td>\n",
       "      <td>12000000.0</td>\n",
       "      <td>123 min</td>\n",
       "      <td>38556</td>\n",
       "      <td>43170</td>\n",
       "      <td>70850</td>\n",
       "      <td>...</td>\n",
       "      <td>7.6</td>\n",
       "      <td>7.6</td>\n",
       "      <td>7.7</td>\n",
       "      <td>7.6</td>\n",
       "      <td>7.5</td>\n",
       "      <td>7.8</td>\n",
       "      <td>7.7</td>\n",
       "      <td>6.9</td>\n",
       "      <td>7.8</td>\n",
       "      <td>7.7</td>\n",
       "    </tr>\n",
       "    <tr>\n",
       "      <th>4</th>\n",
       "      <td>14867</td>\n",
       "      <td>Amour (2012)</td>\n",
       "      <td>7.9</td>\n",
       "      <td>76121</td>\n",
       "      <td>94</td>\n",
       "      <td>8900000.0</td>\n",
       "      <td>127 min</td>\n",
       "      <td>11093</td>\n",
       "      <td>15944</td>\n",
       "      <td>22942</td>\n",
       "      <td>...</td>\n",
       "      <td>7.7</td>\n",
       "      <td>7.7</td>\n",
       "      <td>7.9</td>\n",
       "      <td>7.9</td>\n",
       "      <td>7.8</td>\n",
       "      <td>8.1</td>\n",
       "      <td>6.6</td>\n",
       "      <td>7.2</td>\n",
       "      <td>7.9</td>\n",
       "      <td>7.8</td>\n",
       "    </tr>\n",
       "  </tbody>\n",
       "</table>\n",
       "<p>5 rows × 52 columns</p>\n",
       "</div>"
      ],
      "text/plain": [
       "  Movie_id                    Title  Rating  TotalVotes MetaCritic  \\\n",
       "0    36809  12 Years a Slave (2013)     8.1      496092         96   \n",
       "1    30114         127 Hours (2010)     7.6      297075         82   \n",
       "2    37367             50/50 (2011)     7.7      283935         72   \n",
       "3    49473        About Time (2013)     7.8      225412              \n",
       "4    14867             Amour (2012)     7.9       76121         94   \n",
       "\n",
       "       Budget  Runtime CVotes10 CVotes09 CVotes08  ... Votes3044 Votes3044M  \\\n",
       "0  20000000.0  134 min    75556   126223   161460  ...       8.0        7.9   \n",
       "1  18000000.0   94 min    28939    44110    98845  ...       7.5        7.5   \n",
       "2   8000000.0  100 min    28304    47501    99524  ...       7.6        7.6   \n",
       "3  12000000.0  123 min    38556    43170    70850  ...       7.6        7.6   \n",
       "4   8900000.0  127 min    11093    15944    22942  ...       7.7        7.7   \n",
       "\n",
       "  Votes3044F Votes45A Votes45AM Votes45AF VotesIMDB Votes1000 VotesUS VotesnUS  \n",
       "0        8.0      7.8       7.8       8.1       8.0       7.7     8.3      8.0  \n",
       "1        7.5      7.3       7.3       7.5       7.6       7.0     7.7      7.6  \n",
       "2        7.6      7.4       7.4       7.5       7.4       7.0     7.9      7.6  \n",
       "3        7.7      7.6       7.5       7.8       7.7       6.9     7.8      7.7  \n",
       "4        7.9      7.9       7.8       8.1       6.6       7.2     7.9      7.8  \n",
       "\n",
       "[5 rows x 52 columns]"
      ]
     },
     "execution_count": 14,
     "metadata": {},
     "output_type": "execute_result"
    }
   ],
   "source": [
    "imdb.head()"
   ]
  },
  {
   "cell_type": "code",
   "execution_count": 15,
   "id": "4f86ed18",
   "metadata": {},
   "outputs": [
    {
     "data": {
      "text/html": [
       "<div>\n",
       "<style scoped>\n",
       "    .dataframe tbody tr th:only-of-type {\n",
       "        vertical-align: middle;\n",
       "    }\n",
       "\n",
       "    .dataframe tbody tr th {\n",
       "        vertical-align: top;\n",
       "    }\n",
       "\n",
       "    .dataframe thead th {\n",
       "        text-align: right;\n",
       "    }\n",
       "</style>\n",
       "<table border=\"1\" class=\"dataframe\">\n",
       "  <thead>\n",
       "    <tr style=\"text-align: right;\">\n",
       "      <th></th>\n",
       "      <th>Movie_id</th>\n",
       "      <th>genre</th>\n",
       "    </tr>\n",
       "  </thead>\n",
       "  <tbody>\n",
       "    <tr>\n",
       "      <th>0</th>\n",
       "      <td>36809</td>\n",
       "      <td>Biography</td>\n",
       "    </tr>\n",
       "    <tr>\n",
       "      <th>1</th>\n",
       "      <td>30114</td>\n",
       "      <td>Adventure</td>\n",
       "    </tr>\n",
       "    <tr>\n",
       "      <th>2</th>\n",
       "      <td>37367</td>\n",
       "      <td>Comedy</td>\n",
       "    </tr>\n",
       "    <tr>\n",
       "      <th>3</th>\n",
       "      <td>49473</td>\n",
       "      <td>Comedy</td>\n",
       "    </tr>\n",
       "    <tr>\n",
       "      <th>4</th>\n",
       "      <td>14867</td>\n",
       "      <td>Drama</td>\n",
       "    </tr>\n",
       "  </tbody>\n",
       "</table>\n",
       "</div>"
      ],
      "text/plain": [
       "  Movie_id      genre\n",
       "0    36809  Biography\n",
       "1    30114  Adventure\n",
       "2    37367     Comedy\n",
       "3    49473     Comedy\n",
       "4    14867      Drama"
      ]
     },
     "execution_count": 15,
     "metadata": {},
     "output_type": "execute_result"
    }
   ],
   "source": [
    "genre.head()"
   ]
  },
  {
   "cell_type": "code",
   "execution_count": 16,
   "id": "1d1a1275",
   "metadata": {},
   "outputs": [
    {
     "data": {
      "text/html": [
       "<div>\n",
       "<style scoped>\n",
       "    .dataframe tbody tr th:only-of-type {\n",
       "        vertical-align: middle;\n",
       "    }\n",
       "\n",
       "    .dataframe tbody tr th {\n",
       "        vertical-align: top;\n",
       "    }\n",
       "\n",
       "    .dataframe thead th {\n",
       "        text-align: right;\n",
       "    }\n",
       "</style>\n",
       "<table border=\"1\" class=\"dataframe\">\n",
       "  <thead>\n",
       "    <tr style=\"text-align: right;\">\n",
       "      <th></th>\n",
       "      <th>Movie_id</th>\n",
       "      <th>Domestic</th>\n",
       "      <th>Worldwide</th>\n",
       "    </tr>\n",
       "  </thead>\n",
       "  <tbody>\n",
       "    <tr>\n",
       "      <th>0</th>\n",
       "      <td>36809</td>\n",
       "      <td>56671993</td>\n",
       "      <td>187733202.0</td>\n",
       "    </tr>\n",
       "    <tr>\n",
       "      <th>1</th>\n",
       "      <td>30114</td>\n",
       "      <td>18335230</td>\n",
       "      <td>60738797.0</td>\n",
       "    </tr>\n",
       "    <tr>\n",
       "      <th>2</th>\n",
       "      <td>37367</td>\n",
       "      <td>35014192</td>\n",
       "      <td>39187783.0</td>\n",
       "    </tr>\n",
       "    <tr>\n",
       "      <th>3</th>\n",
       "      <td>49473</td>\n",
       "      <td>15322921</td>\n",
       "      <td>87100449.0</td>\n",
       "    </tr>\n",
       "    <tr>\n",
       "      <th>4</th>\n",
       "      <td>14867</td>\n",
       "      <td>6739492</td>\n",
       "      <td>19839492.0</td>\n",
       "    </tr>\n",
       "  </tbody>\n",
       "</table>\n",
       "</div>"
      ],
      "text/plain": [
       "  Movie_id  Domestic    Worldwide\n",
       "0    36809  56671993  187733202.0\n",
       "1    30114  18335230   60738797.0\n",
       "2    37367  35014192   39187783.0\n",
       "3    49473  15322921   87100449.0\n",
       "4    14867   6739492   19839492.0"
      ]
     },
     "execution_count": 16,
     "metadata": {},
     "output_type": "execute_result"
    }
   ],
   "source": [
    "earning.head()"
   ]
  },
  {
   "cell_type": "code",
   "execution_count": 23,
   "id": "8b5b5430",
   "metadata": {},
   "outputs": [
    {
     "name": "stdout",
     "output_type": "stream",
     "text": [
      "Inception (2010) 8.8\n"
     ]
    }
   ],
   "source": [
    "#ASS1: Find most voted movie's name and rating\n",
    "maxVotes=imdb.TotalVotes.max()\n",
    "movieRecord=(imdb[imdb.TotalVotes==maxVotes])\n",
    "print(movieRecord.iloc[0,1],movieRecord.iloc[0,2])"
   ]
  },
  {
   "cell_type": "code",
   "execution_count": 39,
   "id": "7113bfe5",
   "metadata": {},
   "outputs": [],
   "source": [
    "#ASS2:Find the movie with longest running time\n",
    "def replacemin(s):#for replacing min in running time\n",
    "    if s!='':\n",
    "        out=s.split()\n",
    "        return int(out[0])\n",
    "    else:\n",
    "        return 0\n",
    "\n",
    "test=imdb.copy()\n",
    "test.Runtime=test.Runtime.apply(replacemin)"
   ]
  },
  {
   "cell_type": "code",
   "execution_count": 32,
   "id": "c155f9c0",
   "metadata": {},
   "outputs": [
    {
     "data": {
      "text/plain": [
       "Movie_id         object\n",
       "Title            object\n",
       "Rating          float64\n",
       "TotalVotes        int64\n",
       "MetaCritic       object\n",
       "Budget           object\n",
       "Runtime           int64\n",
       "CVotes10         object\n",
       "CVotes09         object\n",
       "CVotes08         object\n",
       "CVotes07         object\n",
       "CVotes06         object\n",
       "CVotes05         object\n",
       "CVotes04         object\n",
       "CVotes03         object\n",
       "CVotes02         object\n",
       "CVotes01         object\n",
       "CVotesMale       object\n",
       "CVotesFemale     object\n",
       "CVotesU18        object\n",
       "CVotesU18M       object\n",
       "CVotesU18F       object\n",
       "CVotes1829       object\n",
       "CVotes1829M      object\n",
       "CVotes1829F      object\n",
       "CVotes3044       object\n",
       "CVotes3044M      object\n",
       "CVotes3044F      object\n",
       "CVotes45A        object\n",
       "CVotes45AM       object\n",
       "CVotes45AF       object\n",
       "CVotes1000       object\n",
       "CVotesUS         object\n",
       "CVotesnUS        object\n",
       "VotesM           object\n",
       "VotesF           object\n",
       "VotesU18         object\n",
       "VotesU18M        object\n",
       "VotesU18F        object\n",
       "Votes1829        object\n",
       "Votes1829M       object\n",
       "Votes1829F       object\n",
       "Votes3044        object\n",
       "Votes3044M       object\n",
       "Votes3044F       object\n",
       "Votes45A         object\n",
       "Votes45AM        object\n",
       "Votes45AF        object\n",
       "VotesIMDB        object\n",
       "Votes1000        object\n",
       "VotesUS          object\n",
       "VotesnUS         object\n",
       "dtype: object"
      ]
     },
     "execution_count": 32,
     "metadata": {},
     "output_type": "execute_result"
    }
   ],
   "source": [
    "test.dtypes"
   ]
  },
  {
   "cell_type": "code",
   "execution_count": 40,
   "id": "9c4a293d",
   "metadata": {},
   "outputs": [
    {
     "name": "stdout",
     "output_type": "stream",
     "text": [
      "The Wolf of Wall Street (2013) 180\n"
     ]
    }
   ],
   "source": [
    "#ANS\n",
    "runTimeMax=test.Runtime.max()\n",
    "ans_df=test[test.Runtime==runTimeMax]\n",
    "print(ans_df.iloc[0,1],ans_df.iloc[0,6])"
   ]
  },
  {
   "cell_type": "code",
   "execution_count": 85,
   "id": "dba21ce7",
   "metadata": {},
   "outputs": [
    {
     "data": {
      "text/html": [
       "<div>\n",
       "<style scoped>\n",
       "    .dataframe tbody tr th:only-of-type {\n",
       "        vertical-align: middle;\n",
       "    }\n",
       "\n",
       "    .dataframe tbody tr th {\n",
       "        vertical-align: top;\n",
       "    }\n",
       "\n",
       "    .dataframe thead th {\n",
       "        text-align: right;\n",
       "    }\n",
       "</style>\n",
       "<table border=\"1\" class=\"dataframe\">\n",
       "  <thead>\n",
       "    <tr style=\"text-align: right;\">\n",
       "      <th></th>\n",
       "      <th>Title</th>\n",
       "      <th>Domestic</th>\n",
       "      <th>Worldwide</th>\n",
       "      <th>Budget</th>\n",
       "    </tr>\n",
       "  </thead>\n",
       "  <tbody>\n",
       "    <tr>\n",
       "      <th>0</th>\n",
       "      <td>12 Years a Slave (2013)</td>\n",
       "      <td>56671993</td>\n",
       "      <td>187733202.0</td>\n",
       "      <td>20000000.0</td>\n",
       "    </tr>\n",
       "    <tr>\n",
       "      <th>1</th>\n",
       "      <td>127 Hours (2010)</td>\n",
       "      <td>18335230</td>\n",
       "      <td>60738797.0</td>\n",
       "      <td>18000000.0</td>\n",
       "    </tr>\n",
       "    <tr>\n",
       "      <th>2</th>\n",
       "      <td>50/50 (2011)</td>\n",
       "      <td>35014192</td>\n",
       "      <td>39187783.0</td>\n",
       "      <td>8000000.0</td>\n",
       "    </tr>\n",
       "    <tr>\n",
       "      <th>3</th>\n",
       "      <td>About Time (2013)</td>\n",
       "      <td>15322921</td>\n",
       "      <td>87100449.0</td>\n",
       "      <td>12000000.0</td>\n",
       "    </tr>\n",
       "    <tr>\n",
       "      <th>4</th>\n",
       "      <td>Amour (2012)</td>\n",
       "      <td>6739492</td>\n",
       "      <td>19839492.0</td>\n",
       "      <td>8900000.0</td>\n",
       "    </tr>\n",
       "  </tbody>\n",
       "</table>\n",
       "</div>"
      ],
      "text/plain": [
       "                     Title  Domestic    Worldwide      Budget\n",
       "0  12 Years a Slave (2013)  56671993  187733202.0  20000000.0\n",
       "1         127 Hours (2010)  18335230   60738797.0  18000000.0\n",
       "2             50/50 (2011)  35014192   39187783.0   8000000.0\n",
       "3        About Time (2013)  15322921   87100449.0  12000000.0\n",
       "4             Amour (2012)   6739492   19839492.0   8900000.0"
      ]
     },
     "execution_count": 85,
     "metadata": {},
     "output_type": "execute_result"
    }
   ],
   "source": [
    "#ASS3:Find the movie which has maximum net profit.\n",
    "#Note:-NetProfit=Total Earning(Domestic+International)- budget\n",
    "test1=pd.read_sql_query('''select imdb.Title,earning.domestic,earning.worldwide,imdb.budget from imdb join earning on \n",
    "                        imdb.movie_id=earning.movie_id''',db)\n",
    "test1.head()"
   ]
  },
  {
   "cell_type": "code",
   "execution_count": 86,
   "id": "f55696a5",
   "metadata": {},
   "outputs": [],
   "source": [
    "#Changing budget to 0 wherever \"\" is present\n",
    "test1.loc[test1.Budget=='','Budget']=0\n",
    "test1.loc[test1.Domestic=='','Domestic']=0\n",
    "test1.loc[test1.Worldwide=='','Worldwide']=0\n",
    "#changing Budget values to float\n",
    "def convertFloat(n):\n",
    "    return float(n)\n",
    "test1.Budget=test1.Budget.apply(convertFloat)"
   ]
  },
  {
   "cell_type": "code",
   "execution_count": 87,
   "id": "335f86a4",
   "metadata": {},
   "outputs": [],
   "source": [
    "test1['Net Profit']=test1.Domestic+test1.Worldwide-test1.Budget"
   ]
  },
  {
   "cell_type": "code",
   "execution_count": 88,
   "id": "35a4d0e5",
   "metadata": {},
   "outputs": [
    {
     "name": "stdout",
     "output_type": "stream",
     "text": [
      "12 Years a Slave (2013)\n"
     ]
    }
   ],
   "source": [
    "#ANS\n",
    "maxNetProfit=test1['Net Profit'].max()\n",
    "test1[test1['Net Profit']==maxNetProfit]\n",
    "print(test1.iloc[0,0])"
   ]
  },
  {
   "cell_type": "code",
   "execution_count": 36,
   "id": "c2614b3c",
   "metadata": {},
   "outputs": [],
   "source": [
    "#ASS-4:Find the least budgeted movie and if there are more \n",
    "#than one movie of the same budget,print the one which has maximum profit\n",
    "import sqlite3\n",
    "import pandas as pd\n",
    "\n",
    "db=sqlite3.connect('IMDB.sqlite')\n",
    "\n",
    "test1=pd.read_sql_query('''select imdb.Title,earning.domestic,earning.worldwide,imdb.budget from imdb join earning on \n",
    "                        imdb.movie_id=earning.movie_id''',db)"
   ]
  },
  {
   "cell_type": "code",
   "execution_count": 37,
   "id": "2e36d862",
   "metadata": {},
   "outputs": [],
   "source": [
    "#Dropping rows where budget,and changing to 0 in domestic and worldwide whereever \"\" is present\n",
    "test1.drop(test1[test1.Budget==\"\"].index,inplace=True)\n",
    "test1.loc[test1.Domestic=='','Domestic']=0\n",
    "test1.loc[test1.Worldwide=='','Worldwide']=0\n",
    "def convertFloat(n):\n",
    "    return float(n)\n",
    "test1.Budget=test1.Budget.apply(convertFloat)"
   ]
  },
  {
   "cell_type": "code",
   "execution_count": 38,
   "id": "0185d789",
   "metadata": {},
   "outputs": [
    {
     "data": {
      "text/html": [
       "<div>\n",
       "<style scoped>\n",
       "    .dataframe tbody tr th:only-of-type {\n",
       "        vertical-align: middle;\n",
       "    }\n",
       "\n",
       "    .dataframe tbody tr th {\n",
       "        vertical-align: top;\n",
       "    }\n",
       "\n",
       "    .dataframe thead th {\n",
       "        text-align: right;\n",
       "    }\n",
       "</style>\n",
       "<table border=\"1\" class=\"dataframe\">\n",
       "  <thead>\n",
       "    <tr style=\"text-align: right;\">\n",
       "      <th></th>\n",
       "      <th>Title</th>\n",
       "      <th>Domestic</th>\n",
       "      <th>Worldwide</th>\n",
       "      <th>Budget</th>\n",
       "    </tr>\n",
       "  </thead>\n",
       "  <tbody>\n",
       "    <tr>\n",
       "      <th>0</th>\n",
       "      <td>12 Years a Slave (2013)</td>\n",
       "      <td>56671993</td>\n",
       "      <td>187733202.0</td>\n",
       "      <td>20000000.0</td>\n",
       "    </tr>\n",
       "    <tr>\n",
       "      <th>1</th>\n",
       "      <td>127 Hours (2010)</td>\n",
       "      <td>18335230</td>\n",
       "      <td>60738797.0</td>\n",
       "      <td>18000000.0</td>\n",
       "    </tr>\n",
       "    <tr>\n",
       "      <th>2</th>\n",
       "      <td>50/50 (2011)</td>\n",
       "      <td>35014192</td>\n",
       "      <td>39187783.0</td>\n",
       "      <td>8000000.0</td>\n",
       "    </tr>\n",
       "    <tr>\n",
       "      <th>3</th>\n",
       "      <td>About Time (2013)</td>\n",
       "      <td>15322921</td>\n",
       "      <td>87100449.0</td>\n",
       "      <td>12000000.0</td>\n",
       "    </tr>\n",
       "    <tr>\n",
       "      <th>4</th>\n",
       "      <td>Amour (2012)</td>\n",
       "      <td>6739492</td>\n",
       "      <td>19839492.0</td>\n",
       "      <td>8900000.0</td>\n",
       "    </tr>\n",
       "  </tbody>\n",
       "</table>\n",
       "</div>"
      ],
      "text/plain": [
       "                     Title  Domestic    Worldwide      Budget\n",
       "0  12 Years a Slave (2013)  56671993  187733202.0  20000000.0\n",
       "1         127 Hours (2010)  18335230   60738797.0  18000000.0\n",
       "2             50/50 (2011)  35014192   39187783.0   8000000.0\n",
       "3        About Time (2013)  15322921   87100449.0  12000000.0\n",
       "4             Amour (2012)   6739492   19839492.0   8900000.0"
      ]
     },
     "execution_count": 38,
     "metadata": {},
     "output_type": "execute_result"
    }
   ],
   "source": [
    "test1.head()"
   ]
  },
  {
   "cell_type": "code",
   "execution_count": 39,
   "id": "e56f77dc",
   "metadata": {},
   "outputs": [
    {
     "data": {
      "text/html": [
       "<div>\n",
       "<style scoped>\n",
       "    .dataframe tbody tr th:only-of-type {\n",
       "        vertical-align: middle;\n",
       "    }\n",
       "\n",
       "    .dataframe tbody tr th {\n",
       "        vertical-align: top;\n",
       "    }\n",
       "\n",
       "    .dataframe thead th {\n",
       "        text-align: right;\n",
       "    }\n",
       "</style>\n",
       "<table border=\"1\" class=\"dataframe\">\n",
       "  <thead>\n",
       "    <tr style=\"text-align: right;\">\n",
       "      <th></th>\n",
       "      <th>Title</th>\n",
       "      <th>Domestic</th>\n",
       "      <th>Worldwide</th>\n",
       "      <th>Budget</th>\n",
       "    </tr>\n",
       "  </thead>\n",
       "  <tbody>\n",
       "    <tr>\n",
       "      <th>71</th>\n",
       "      <td>Short Term 12 (2013)</td>\n",
       "      <td>1013100</td>\n",
       "      <td>1013100.0</td>\n",
       "      <td>1000000.0</td>\n",
       "    </tr>\n",
       "    <tr>\n",
       "      <th>109</th>\n",
       "      <td>Tyrannosaur (2011)</td>\n",
       "      <td>22321</td>\n",
       "      <td>22321.0</td>\n",
       "      <td>1000000.0</td>\n",
       "    </tr>\n",
       "  </tbody>\n",
       "</table>\n",
       "</div>"
      ],
      "text/plain": [
       "                    Title  Domestic  Worldwide     Budget\n",
       "71   Short Term 12 (2013)   1013100  1013100.0  1000000.0\n",
       "109    Tyrannosaur (2011)     22321    22321.0  1000000.0"
      ]
     },
     "execution_count": 39,
     "metadata": {},
     "output_type": "execute_result"
    }
   ],
   "source": [
    "minBudget=test1.Budget.min()\n",
    "ans_df=test1[test1.Budget==minBudget].copy()#making a copy to avoid settings with copy warning\n",
    "ans_df.head()"
   ]
  },
  {
   "cell_type": "code",
   "execution_count": 40,
   "id": "57f8ebf4",
   "metadata": {},
   "outputs": [],
   "source": [
    "ans_df['netprofit']=ans_df['Domestic']+ans_df['Worldwide']-ans_df['Budget']\n",
    "ans_df.sort_values(by='netprofit',ascending=False,inplace=True)\n",
    "ans_df.reset_index(drop=True,inplace=True)"
   ]
  },
  {
   "cell_type": "code",
   "execution_count": 42,
   "id": "d318808d",
   "metadata": {},
   "outputs": [
    {
     "name": "stdout",
     "output_type": "stream",
     "text": [
      "Short Term 12 (2013)\n"
     ]
    }
   ],
   "source": [
    "#ANS\n",
    "print(ans_df.Title[0])"
   ]
  },
  {
   "cell_type": "code",
   "execution_count": 131,
   "id": "d5e55e5d",
   "metadata": {},
   "outputs": [],
   "source": [
    "#ASS-5:-Find the highest grossing movie year wise\n",
    "db=sqlite3.connect('IMDB.sqlite')\n",
    "df=pd.read_sql_query('select imdb.title,earning.Domestic,earning.Worldwide from imdb join earning on imdb.movie_id=earning.movie_id',db)"
   ]
  },
  {
   "cell_type": "code",
   "execution_count": 132,
   "id": "105c891d",
   "metadata": {},
   "outputs": [],
   "source": [
    "df['TotalEarning']=df.Domestic+df.Worldwide"
   ]
  },
  {
   "cell_type": "code",
   "execution_count": 133,
   "id": "9b8a292d",
   "metadata": {},
   "outputs": [
    {
     "data": {
      "text/html": [
       "<div>\n",
       "<style scoped>\n",
       "    .dataframe tbody tr th:only-of-type {\n",
       "        vertical-align: middle;\n",
       "    }\n",
       "\n",
       "    .dataframe tbody tr th {\n",
       "        vertical-align: top;\n",
       "    }\n",
       "\n",
       "    .dataframe thead th {\n",
       "        text-align: right;\n",
       "    }\n",
       "</style>\n",
       "<table border=\"1\" class=\"dataframe\">\n",
       "  <thead>\n",
       "    <tr style=\"text-align: right;\">\n",
       "      <th></th>\n",
       "      <th>Title</th>\n",
       "      <th>Domestic</th>\n",
       "      <th>Worldwide</th>\n",
       "      <th>TotalEarning</th>\n",
       "    </tr>\n",
       "  </thead>\n",
       "  <tbody>\n",
       "    <tr>\n",
       "      <th>0</th>\n",
       "      <td>12 Years a Slave (2013)</td>\n",
       "      <td>56671993</td>\n",
       "      <td>187733202.0</td>\n",
       "      <td>244405195.0</td>\n",
       "    </tr>\n",
       "    <tr>\n",
       "      <th>1</th>\n",
       "      <td>127 Hours (2010)</td>\n",
       "      <td>18335230</td>\n",
       "      <td>60738797.0</td>\n",
       "      <td>79074027.0</td>\n",
       "    </tr>\n",
       "    <tr>\n",
       "      <th>2</th>\n",
       "      <td>50/50 (2011)</td>\n",
       "      <td>35014192</td>\n",
       "      <td>39187783.0</td>\n",
       "      <td>74201975.0</td>\n",
       "    </tr>\n",
       "    <tr>\n",
       "      <th>3</th>\n",
       "      <td>About Time (2013)</td>\n",
       "      <td>15322921</td>\n",
       "      <td>87100449.0</td>\n",
       "      <td>102423370.0</td>\n",
       "    </tr>\n",
       "    <tr>\n",
       "      <th>4</th>\n",
       "      <td>Amour (2012)</td>\n",
       "      <td>6739492</td>\n",
       "      <td>19839492.0</td>\n",
       "      <td>26578984.0</td>\n",
       "    </tr>\n",
       "  </tbody>\n",
       "</table>\n",
       "</div>"
      ],
      "text/plain": [
       "                     Title  Domestic    Worldwide  TotalEarning\n",
       "0  12 Years a Slave (2013)  56671993  187733202.0   244405195.0\n",
       "1         127 Hours (2010)  18335230   60738797.0    79074027.0\n",
       "2             50/50 (2011)  35014192   39187783.0    74201975.0\n",
       "3        About Time (2013)  15322921   87100449.0   102423370.0\n",
       "4             Amour (2012)   6739492   19839492.0    26578984.0"
      ]
     },
     "execution_count": 133,
     "metadata": {},
     "output_type": "execute_result"
    }
   ],
   "source": [
    "df.head()"
   ]
  },
  {
   "cell_type": "code",
   "execution_count": 134,
   "id": "c47ac951",
   "metadata": {},
   "outputs": [],
   "source": [
    "def extractYearFromTitle(s):\n",
    "    year=s[-5:-1]\n",
    "    return int(year)\n",
    "df['Year']=df.Title.apply(extractYearFromTitle)"
   ]
  },
  {
   "cell_type": "code",
   "execution_count": 135,
   "id": "226cdb6a",
   "metadata": {},
   "outputs": [
    {
     "data": {
      "text/html": [
       "<div>\n",
       "<style scoped>\n",
       "    .dataframe tbody tr th:only-of-type {\n",
       "        vertical-align: middle;\n",
       "    }\n",
       "\n",
       "    .dataframe tbody tr th {\n",
       "        vertical-align: top;\n",
       "    }\n",
       "\n",
       "    .dataframe thead th {\n",
       "        text-align: right;\n",
       "    }\n",
       "</style>\n",
       "<table border=\"1\" class=\"dataframe\">\n",
       "  <thead>\n",
       "    <tr style=\"text-align: right;\">\n",
       "      <th></th>\n",
       "      <th>Title</th>\n",
       "      <th>Domestic</th>\n",
       "      <th>Worldwide</th>\n",
       "      <th>TotalEarning</th>\n",
       "      <th>Year</th>\n",
       "    </tr>\n",
       "  </thead>\n",
       "  <tbody>\n",
       "    <tr>\n",
       "      <th>0</th>\n",
       "      <td>12 Years a Slave (2013)</td>\n",
       "      <td>56671993</td>\n",
       "      <td>187733202.0</td>\n",
       "      <td>244405195.0</td>\n",
       "      <td>2013</td>\n",
       "    </tr>\n",
       "    <tr>\n",
       "      <th>1</th>\n",
       "      <td>127 Hours (2010)</td>\n",
       "      <td>18335230</td>\n",
       "      <td>60738797.0</td>\n",
       "      <td>79074027.0</td>\n",
       "      <td>2010</td>\n",
       "    </tr>\n",
       "    <tr>\n",
       "      <th>2</th>\n",
       "      <td>50/50 (2011)</td>\n",
       "      <td>35014192</td>\n",
       "      <td>39187783.0</td>\n",
       "      <td>74201975.0</td>\n",
       "      <td>2011</td>\n",
       "    </tr>\n",
       "    <tr>\n",
       "      <th>3</th>\n",
       "      <td>About Time (2013)</td>\n",
       "      <td>15322921</td>\n",
       "      <td>87100449.0</td>\n",
       "      <td>102423370.0</td>\n",
       "      <td>2013</td>\n",
       "    </tr>\n",
       "    <tr>\n",
       "      <th>4</th>\n",
       "      <td>Amour (2012)</td>\n",
       "      <td>6739492</td>\n",
       "      <td>19839492.0</td>\n",
       "      <td>26578984.0</td>\n",
       "      <td>2012</td>\n",
       "    </tr>\n",
       "  </tbody>\n",
       "</table>\n",
       "</div>"
      ],
      "text/plain": [
       "                     Title  Domestic    Worldwide  TotalEarning  Year\n",
       "0  12 Years a Slave (2013)  56671993  187733202.0   244405195.0  2013\n",
       "1         127 Hours (2010)  18335230   60738797.0    79074027.0  2010\n",
       "2             50/50 (2011)  35014192   39187783.0    74201975.0  2011\n",
       "3        About Time (2013)  15322921   87100449.0   102423370.0  2013\n",
       "4             Amour (2012)   6739492   19839492.0    26578984.0  2012"
      ]
     },
     "execution_count": 135,
     "metadata": {},
     "output_type": "execute_result"
    }
   ],
   "source": [
    "df.head()"
   ]
  },
  {
   "cell_type": "code",
   "execution_count": 136,
   "id": "b85e9ec6",
   "metadata": {},
   "outputs": [],
   "source": [
    "def removeYearFromTitle(s):\n",
    "    return (s.split('(')[0]).replace(u'\\xa0',u'')#replacing \\xa0 from empty string\"\"\n",
    "df.Title=df.Title.apply(removeYearFromTitle)"
   ]
  },
  {
   "cell_type": "code",
   "execution_count": 144,
   "id": "38252720",
   "metadata": {},
   "outputs": [],
   "source": [
    "def YearWiseHighestGrossing(moviename,year,TotalEarning):\n",
    "    n=len(year)\n",
    "    d={}\n",
    "    for i in range(n):\n",
    "        if year[i] not in d:\n",
    "            d[year[i]]=[moviename[i],TotalEarning[i]]\n",
    "        else:\n",
    "            #check if the current movie that is present has less TotalEarning than the one that has just come\n",
    "            if d[year[i]][1]<TotalEarning[i]:\n",
    "                d[year[i]][0]=moviename[i]\n",
    "                d[year[i]][1]=TotalEarning[i]\n",
    "    ans_d={}\n",
    "    for i in d:\n",
    "        ans_d[i]=d[i][0]\n",
    "    \n",
    "    #creating a resultant dataframe\n",
    "    res_df=pd.DataFrame(list(ans_d.items()))\n",
    "    res_df.columns=['Year','Title']\n",
    "    res_df.sort_values(by='Year',ascending=True,inplace=True)\n",
    "    res_df.reset_index(drop=True,inplace=True)\n",
    "    return res_df\n",
    "\n",
    "\n",
    "ans_df=YearWiseHighestGrossing(df.Title,df.Year,df.TotalEarning)"
   ]
  },
  {
   "cell_type": "code",
   "execution_count": 145,
   "id": "1f82c267",
   "metadata": {},
   "outputs": [
    {
     "data": {
      "text/html": [
       "<div>\n",
       "<style scoped>\n",
       "    .dataframe tbody tr th:only-of-type {\n",
       "        vertical-align: middle;\n",
       "    }\n",
       "\n",
       "    .dataframe tbody tr th {\n",
       "        vertical-align: top;\n",
       "    }\n",
       "\n",
       "    .dataframe thead th {\n",
       "        text-align: right;\n",
       "    }\n",
       "</style>\n",
       "<table border=\"1\" class=\"dataframe\">\n",
       "  <thead>\n",
       "    <tr style=\"text-align: right;\">\n",
       "      <th></th>\n",
       "      <th>Year</th>\n",
       "      <th>Title</th>\n",
       "    </tr>\n",
       "  </thead>\n",
       "  <tbody>\n",
       "    <tr>\n",
       "      <th>0</th>\n",
       "      <td>2010</td>\n",
       "      <td>Toy Story 3</td>\n",
       "    </tr>\n",
       "    <tr>\n",
       "      <th>1</th>\n",
       "      <td>2011</td>\n",
       "      <td>Rise of the Planet of the Apes</td>\n",
       "    </tr>\n",
       "    <tr>\n",
       "      <th>2</th>\n",
       "      <td>2012</td>\n",
       "      <td>The Avengers</td>\n",
       "    </tr>\n",
       "    <tr>\n",
       "      <th>3</th>\n",
       "      <td>2013</td>\n",
       "      <td>The Hunger Games: Catching Fire</td>\n",
       "    </tr>\n",
       "    <tr>\n",
       "      <th>4</th>\n",
       "      <td>2014</td>\n",
       "      <td>Guardians of the Galaxy</td>\n",
       "    </tr>\n",
       "    <tr>\n",
       "      <th>5</th>\n",
       "      <td>2015</td>\n",
       "      <td>Star Wars: The Force Awakens</td>\n",
       "    </tr>\n",
       "    <tr>\n",
       "      <th>6</th>\n",
       "      <td>2016</td>\n",
       "      <td>Rogue One</td>\n",
       "    </tr>\n",
       "  </tbody>\n",
       "</table>\n",
       "</div>"
      ],
      "text/plain": [
       "   Year                            Title\n",
       "0  2010                      Toy Story 3\n",
       "1  2011   Rise of the Planet of the Apes\n",
       "2  2012                     The Avengers\n",
       "3  2013  The Hunger Games: Catching Fire\n",
       "4  2014          Guardians of the Galaxy\n",
       "5  2015     Star Wars: The Force Awakens\n",
       "6  2016                        Rogue One"
      ]
     },
     "execution_count": 145,
     "metadata": {},
     "output_type": "execute_result"
    }
   ],
   "source": [
    "ans_df"
   ]
  },
  {
   "cell_type": "code",
   "execution_count": 146,
   "id": "34f05288",
   "metadata": {},
   "outputs": [
    {
     "name": "stdout",
     "output_type": "stream",
     "text": [
      "2010 Toy Story 3\n",
      "2011 Rise of the Planet of the Apes\n",
      "2012 The Avengers\n",
      "2013 The Hunger Games: Catching Fire\n",
      "2014 Guardians of the Galaxy\n",
      "2015 Star Wars: The Force Awakens\n",
      "2016 Rogue One\n"
     ]
    }
   ],
   "source": [
    "for i in range(len(ans_df)):\n",
    "    print(ans_df.iloc[i,0],ans_df.iloc[i,1])"
   ]
  },
  {
   "cell_type": "code",
   "execution_count": 10,
   "id": "ba6a308e",
   "metadata": {},
   "outputs": [],
   "source": [
    "#ASS-6:Find out percentage of budget for each genre\n",
    "db=sqlite3.connect('IMDB.sqlite')\n",
    "df=pd.read_sql_query('''select imdb.movie_id,imdb.budget,genre.genre from imdb \n",
    "                        join genre on imdb.movie_id=genre.movie_id where imdb.budget is not null and \n",
    "                        genre.genre is not null''',db)"
   ]
  },
  {
   "cell_type": "code",
   "execution_count": 11,
   "id": "12879ddb",
   "metadata": {},
   "outputs": [],
   "source": [
    "df.drop(df[(df.Budget==\"\") | (df.genre==\"\")].index,inplace=True)"
   ]
  },
  {
   "cell_type": "code",
   "execution_count": 12,
   "id": "3561ca33",
   "metadata": {
    "scrolled": true
   },
   "outputs": [],
   "source": [
    "def FindTotalBudgetByGenre(Budget,Genre):\n",
    "    n=len(Budget)\n",
    "    d={}\n",
    "    for i in range(n):\n",
    "        d[Genre[i]]=d.get(Genre[i],0)+Budget[i]\n",
    "    \n",
    "    ans_df=pd.DataFrame(list(d.items()))\n",
    "    ans_df.columns=['Genre','BudgetAlloted']\n",
    "    s=ans_df.BudgetAlloted.sum()#sum of total Budget\n",
    "    ans_df['PercentageOfBudgetAllotted']=(ans_df['BudgetAlloted']/s)*100\n",
    "    return ans_df\n",
    "    \n",
    "ans_df=FindTotalBudgetByGenre(list(df.Budget),list(df.genre))"
   ]
  },
  {
   "cell_type": "code",
   "execution_count": 13,
   "id": "3ffa9825",
   "metadata": {},
   "outputs": [
    {
     "data": {
      "text/html": [
       "<div>\n",
       "<style scoped>\n",
       "    .dataframe tbody tr th:only-of-type {\n",
       "        vertical-align: middle;\n",
       "    }\n",
       "\n",
       "    .dataframe tbody tr th {\n",
       "        vertical-align: top;\n",
       "    }\n",
       "\n",
       "    .dataframe thead th {\n",
       "        text-align: right;\n",
       "    }\n",
       "</style>\n",
       "<table border=\"1\" class=\"dataframe\">\n",
       "  <thead>\n",
       "    <tr style=\"text-align: right;\">\n",
       "      <th></th>\n",
       "      <th>Genre</th>\n",
       "      <th>BudgetAlloted</th>\n",
       "      <th>PercentageOfBudgetAllotted</th>\n",
       "    </tr>\n",
       "  </thead>\n",
       "  <tbody>\n",
       "    <tr>\n",
       "      <th>0</th>\n",
       "      <td>Biography</td>\n",
       "      <td>6.245000e+08</td>\n",
       "      <td>2.591910</td>\n",
       "    </tr>\n",
       "    <tr>\n",
       "      <th>1</th>\n",
       "      <td>Drama</td>\n",
       "      <td>2.614400e+09</td>\n",
       "      <td>10.850744</td>\n",
       "    </tr>\n",
       "    <tr>\n",
       "      <th>2</th>\n",
       "      <td>History</td>\n",
       "      <td>1.730000e+08</td>\n",
       "      <td>0.718015</td>\n",
       "    </tr>\n",
       "    <tr>\n",
       "      <th>3</th>\n",
       "      <td>Adventure</td>\n",
       "      <td>6.046700e+09</td>\n",
       "      <td>25.096081</td>\n",
       "    </tr>\n",
       "    <tr>\n",
       "      <th>4</th>\n",
       "      <td>Comedy</td>\n",
       "      <td>1.740100e+09</td>\n",
       "      <td>7.222070</td>\n",
       "    </tr>\n",
       "    <tr>\n",
       "      <th>5</th>\n",
       "      <td>Romance</td>\n",
       "      <td>2.709000e+08</td>\n",
       "      <td>1.124337</td>\n",
       "    </tr>\n",
       "    <tr>\n",
       "      <th>6</th>\n",
       "      <td>Fantasy</td>\n",
       "      <td>1.094000e+09</td>\n",
       "      <td>4.540512</td>\n",
       "    </tr>\n",
       "    <tr>\n",
       "      <th>7</th>\n",
       "      <td>Action</td>\n",
       "      <td>4.332500e+09</td>\n",
       "      <td>17.981506</td>\n",
       "    </tr>\n",
       "    <tr>\n",
       "      <th>8</th>\n",
       "      <td>Mystery</td>\n",
       "      <td>4.690000e+08</td>\n",
       "      <td>1.946527</td>\n",
       "    </tr>\n",
       "    <tr>\n",
       "      <th>9</th>\n",
       "      <td>Sci-Fi</td>\n",
       "      <td>2.596000e+09</td>\n",
       "      <td>10.774377</td>\n",
       "    </tr>\n",
       "    <tr>\n",
       "      <th>10</th>\n",
       "      <td>Animation</td>\n",
       "      <td>1.845200e+09</td>\n",
       "      <td>7.658275</td>\n",
       "    </tr>\n",
       "    <tr>\n",
       "      <th>11</th>\n",
       "      <td>Thriller</td>\n",
       "      <td>9.615000e+08</td>\n",
       "      <td>3.990587</td>\n",
       "    </tr>\n",
       "    <tr>\n",
       "      <th>12</th>\n",
       "      <td>Sport</td>\n",
       "      <td>1.100000e+08</td>\n",
       "      <td>0.456541</td>\n",
       "    </tr>\n",
       "    <tr>\n",
       "      <th>13</th>\n",
       "      <td>Western</td>\n",
       "      <td>1.380000e+08</td>\n",
       "      <td>0.572752</td>\n",
       "    </tr>\n",
       "    <tr>\n",
       "      <th>14</th>\n",
       "      <td>Crime</td>\n",
       "      <td>4.265000e+08</td>\n",
       "      <td>1.770136</td>\n",
       "    </tr>\n",
       "    <tr>\n",
       "      <th>15</th>\n",
       "      <td>War</td>\n",
       "      <td>8.700000e+07</td>\n",
       "      <td>0.361083</td>\n",
       "    </tr>\n",
       "    <tr>\n",
       "      <th>16</th>\n",
       "      <td>Family</td>\n",
       "      <td>4.600000e+08</td>\n",
       "      <td>1.909173</td>\n",
       "    </tr>\n",
       "    <tr>\n",
       "      <th>17</th>\n",
       "      <td>Music</td>\n",
       "      <td>3.730000e+07</td>\n",
       "      <td>0.154809</td>\n",
       "    </tr>\n",
       "    <tr>\n",
       "      <th>18</th>\n",
       "      <td>Musical</td>\n",
       "      <td>6.100000e+07</td>\n",
       "      <td>0.253173</td>\n",
       "    </tr>\n",
       "    <tr>\n",
       "      <th>19</th>\n",
       "      <td>Horror</td>\n",
       "      <td>6.600000e+06</td>\n",
       "      <td>0.027392</td>\n",
       "    </tr>\n",
       "  </tbody>\n",
       "</table>\n",
       "</div>"
      ],
      "text/plain": [
       "        Genre  BudgetAlloted  PercentageOfBudgetAllotted\n",
       "0   Biography   6.245000e+08                    2.591910\n",
       "1       Drama   2.614400e+09                   10.850744\n",
       "2     History   1.730000e+08                    0.718015\n",
       "3   Adventure   6.046700e+09                   25.096081\n",
       "4      Comedy   1.740100e+09                    7.222070\n",
       "5     Romance   2.709000e+08                    1.124337\n",
       "6     Fantasy   1.094000e+09                    4.540512\n",
       "7      Action   4.332500e+09                   17.981506\n",
       "8     Mystery   4.690000e+08                    1.946527\n",
       "9      Sci-Fi   2.596000e+09                   10.774377\n",
       "10  Animation   1.845200e+09                    7.658275\n",
       "11   Thriller   9.615000e+08                    3.990587\n",
       "12      Sport   1.100000e+08                    0.456541\n",
       "13    Western   1.380000e+08                    0.572752\n",
       "14      Crime   4.265000e+08                    1.770136\n",
       "15        War   8.700000e+07                    0.361083\n",
       "16     Family   4.600000e+08                    1.909173\n",
       "17      Music   3.730000e+07                    0.154809\n",
       "18    Musical   6.100000e+07                    0.253173\n",
       "19     Horror   6.600000e+06                    0.027392"
      ]
     },
     "execution_count": 13,
     "metadata": {},
     "output_type": "execute_result"
    }
   ],
   "source": [
    "ans_df"
   ]
  },
  {
   "cell_type": "code",
   "execution_count": 70,
   "id": "9ac9c2ba",
   "metadata": {},
   "outputs": [
    {
     "data": {
      "image/png": "[encoded data removed]",
      "text/plain": [
       "<Figure size 432x288 with 1 Axes>"
      ]
     },
     "metadata": {},
     "output_type": "display_data"
    }
   ],
   "source": [
    "#plotting a pie chart\n",
    "import matplotlib.pyplot as plt\n",
    "patches,texts=plt.pie(ans_df.BudgetAlloted,counterclock=False,startangle=10,radius=1.5)\n",
    "plt.title('Budget Distribution by Genre')\n",
    "plt.legend(patches,ans_df.Genre,loc='best')\n",
    "plt.axis('equal')\n",
    "plt.show()"
   ]
  },
  {
   "cell_type": "code",
   "execution_count": 42,
   "id": "9d60991f",
   "metadata": {},
   "outputs": [],
   "source": [
    "#ASS:7:Find out the percentage of earning for each Genre and plot the pie chart\n",
    "import sqlite3\n",
    "import pandas as pd\n",
    "db=sqlite3.connect(\"IMDB.sqlite\")"
   ]
  },
  {
   "cell_type": "code",
   "execution_count": 43,
   "id": "959421a2",
   "metadata": {},
   "outputs": [
    {
     "data": {
      "text/html": [
       "<div>\n",
       "<style scoped>\n",
       "    .dataframe tbody tr th:only-of-type {\n",
       "        vertical-align: middle;\n",
       "    }\n",
       "\n",
       "    .dataframe tbody tr th {\n",
       "        vertical-align: top;\n",
       "    }\n",
       "\n",
       "    .dataframe thead th {\n",
       "        text-align: right;\n",
       "    }\n",
       "</style>\n",
       "<table border=\"1\" class=\"dataframe\">\n",
       "  <thead>\n",
       "    <tr style=\"text-align: right;\">\n",
       "      <th></th>\n",
       "      <th>Movie_id</th>\n",
       "      <th>Domestic</th>\n",
       "      <th>Worldwide</th>\n",
       "    </tr>\n",
       "  </thead>\n",
       "  <tbody>\n",
       "    <tr>\n",
       "      <th>0</th>\n",
       "      <td>36809</td>\n",
       "      <td>56671993</td>\n",
       "      <td>187733202.0</td>\n",
       "    </tr>\n",
       "    <tr>\n",
       "      <th>1</th>\n",
       "      <td>30114</td>\n",
       "      <td>18335230</td>\n",
       "      <td>60738797.0</td>\n",
       "    </tr>\n",
       "    <tr>\n",
       "      <th>2</th>\n",
       "      <td>37367</td>\n",
       "      <td>35014192</td>\n",
       "      <td>39187783.0</td>\n",
       "    </tr>\n",
       "    <tr>\n",
       "      <th>3</th>\n",
       "      <td>49473</td>\n",
       "      <td>15322921</td>\n",
       "      <td>87100449.0</td>\n",
       "    </tr>\n",
       "    <tr>\n",
       "      <th>4</th>\n",
       "      <td>14867</td>\n",
       "      <td>6739492</td>\n",
       "      <td>19839492.0</td>\n",
       "    </tr>\n",
       "  </tbody>\n",
       "</table>\n",
       "</div>"
      ],
      "text/plain": [
       "  Movie_id  Domestic    Worldwide\n",
       "0    36809  56671993  187733202.0\n",
       "1    30114  18335230   60738797.0\n",
       "2    37367  35014192   39187783.0\n",
       "3    49473  15322921   87100449.0\n",
       "4    14867   6739492   19839492.0"
      ]
     },
     "execution_count": 43,
     "metadata": {},
     "output_type": "execute_result"
    }
   ],
   "source": [
    "earning.head()"
   ]
  },
  {
   "cell_type": "code",
   "execution_count": 44,
   "id": "d6396fae",
   "metadata": {},
   "outputs": [
    {
     "data": {
      "text/html": [
       "<div>\n",
       "<style scoped>\n",
       "    .dataframe tbody tr th:only-of-type {\n",
       "        vertical-align: middle;\n",
       "    }\n",
       "\n",
       "    .dataframe tbody tr th {\n",
       "        vertical-align: top;\n",
       "    }\n",
       "\n",
       "    .dataframe thead th {\n",
       "        text-align: right;\n",
       "    }\n",
       "</style>\n",
       "<table border=\"1\" class=\"dataframe\">\n",
       "  <thead>\n",
       "    <tr style=\"text-align: right;\">\n",
       "      <th></th>\n",
       "      <th>Movie_id</th>\n",
       "      <th>genre</th>\n",
       "    </tr>\n",
       "  </thead>\n",
       "  <tbody>\n",
       "    <tr>\n",
       "      <th>0</th>\n",
       "      <td>36809</td>\n",
       "      <td>Biography</td>\n",
       "    </tr>\n",
       "    <tr>\n",
       "      <th>1</th>\n",
       "      <td>30114</td>\n",
       "      <td>Adventure</td>\n",
       "    </tr>\n",
       "    <tr>\n",
       "      <th>2</th>\n",
       "      <td>37367</td>\n",
       "      <td>Comedy</td>\n",
       "    </tr>\n",
       "    <tr>\n",
       "      <th>3</th>\n",
       "      <td>49473</td>\n",
       "      <td>Comedy</td>\n",
       "    </tr>\n",
       "    <tr>\n",
       "      <th>4</th>\n",
       "      <td>14867</td>\n",
       "      <td>Drama</td>\n",
       "    </tr>\n",
       "  </tbody>\n",
       "</table>\n",
       "</div>"
      ],
      "text/plain": [
       "  Movie_id      genre\n",
       "0    36809  Biography\n",
       "1    30114  Adventure\n",
       "2    37367     Comedy\n",
       "3    49473     Comedy\n",
       "4    14867      Drama"
      ]
     },
     "execution_count": 44,
     "metadata": {},
     "output_type": "execute_result"
    }
   ],
   "source": [
    "genre.head()"
   ]
  },
  {
   "cell_type": "code",
   "execution_count": 45,
   "id": "4c2e26a8",
   "metadata": {},
   "outputs": [
    {
     "data": {
      "text/html": [
       "<div>\n",
       "<style scoped>\n",
       "    .dataframe tbody tr th:only-of-type {\n",
       "        vertical-align: middle;\n",
       "    }\n",
       "\n",
       "    .dataframe tbody tr th {\n",
       "        vertical-align: top;\n",
       "    }\n",
       "\n",
       "    .dataframe thead th {\n",
       "        text-align: right;\n",
       "    }\n",
       "</style>\n",
       "<table border=\"1\" class=\"dataframe\">\n",
       "  <thead>\n",
       "    <tr style=\"text-align: right;\">\n",
       "      <th></th>\n",
       "      <th>genre</th>\n",
       "      <th>Domestic</th>\n",
       "      <th>Worldwide</th>\n",
       "    </tr>\n",
       "  </thead>\n",
       "  <tbody>\n",
       "    <tr>\n",
       "      <th>0</th>\n",
       "      <td>Biography</td>\n",
       "      <td>56671993</td>\n",
       "      <td>1.877332e+08</td>\n",
       "    </tr>\n",
       "    <tr>\n",
       "      <th>1</th>\n",
       "      <td>Adventure</td>\n",
       "      <td>18335230</td>\n",
       "      <td>6.073880e+07</td>\n",
       "    </tr>\n",
       "    <tr>\n",
       "      <th>2</th>\n",
       "      <td>Comedy</td>\n",
       "      <td>35014192</td>\n",
       "      <td>3.918778e+07</td>\n",
       "    </tr>\n",
       "    <tr>\n",
       "      <th>3</th>\n",
       "      <td>Comedy</td>\n",
       "      <td>15322921</td>\n",
       "      <td>8.710045e+07</td>\n",
       "    </tr>\n",
       "    <tr>\n",
       "      <th>4</th>\n",
       "      <td>Drama</td>\n",
       "      <td>6739492</td>\n",
       "      <td>1.983949e+07</td>\n",
       "    </tr>\n",
       "    <tr>\n",
       "      <th>...</th>\n",
       "      <td>...</td>\n",
       "      <td>...</td>\n",
       "      <td>...</td>\n",
       "    </tr>\n",
       "    <tr>\n",
       "      <th>305</th>\n",
       "      <td>Sport</td>\n",
       "      <td>13657115</td>\n",
       "      <td>2.305712e+07</td>\n",
       "    </tr>\n",
       "    <tr>\n",
       "      <th>306</th>\n",
       "      <td>Comedy</td>\n",
       "      <td>189422889</td>\n",
       "      <td>4.712229e+08</td>\n",
       "    </tr>\n",
       "    <tr>\n",
       "      <th>307</th>\n",
       "      <td>Sci-Fi</td>\n",
       "      <td>233921534</td>\n",
       "      <td>7.478628e+08</td>\n",
       "    </tr>\n",
       "    <tr>\n",
       "      <th>308</th>\n",
       "      <td>Sci-Fi</td>\n",
       "      <td>146408305</td>\n",
       "      <td>3.536241e+08</td>\n",
       "    </tr>\n",
       "    <tr>\n",
       "      <th>309</th>\n",
       "      <td>Comedy</td>\n",
       "      <td>341268248</td>\n",
       "      <td>1.023784e+09</td>\n",
       "    </tr>\n",
       "  </tbody>\n",
       "</table>\n",
       "<p>310 rows × 3 columns</p>\n",
       "</div>"
      ],
      "text/plain": [
       "         genre   Domestic     Worldwide\n",
       "0    Biography   56671993  1.877332e+08\n",
       "1    Adventure   18335230  6.073880e+07\n",
       "2       Comedy   35014192  3.918778e+07\n",
       "3       Comedy   15322921  8.710045e+07\n",
       "4        Drama    6739492  1.983949e+07\n",
       "..         ...        ...           ...\n",
       "305      Sport   13657115  2.305712e+07\n",
       "306     Comedy  189422889  4.712229e+08\n",
       "307     Sci-Fi  233921534  7.478628e+08\n",
       "308     Sci-Fi  146408305  3.536241e+08\n",
       "309     Comedy  341268248  1.023784e+09\n",
       "\n",
       "[310 rows x 3 columns]"
      ]
     },
     "execution_count": 45,
     "metadata": {},
     "output_type": "execute_result"
    }
   ],
   "source": [
    "df=pd.read_sql_query('''select genre.genre,earning.Domestic,earning.Worldwide from earning join genre on \n",
    "                        earning.movie_id=genre.movie_id where genre.genre is not null and genre.genre!=\"\"''',db)\n",
    "df"
   ]
  },
  {
   "cell_type": "code",
   "execution_count": 46,
   "id": "33113586",
   "metadata": {},
   "outputs": [],
   "source": [
    "df['TotalEarning']=df.Domestic+df.Worldwide"
   ]
  },
  {
   "cell_type": "code",
   "execution_count": 47,
   "id": "6c251a41",
   "metadata": {},
   "outputs": [
    {
     "data": {
      "text/html": [
       "<div>\n",
       "<style scoped>\n",
       "    .dataframe tbody tr th:only-of-type {\n",
       "        vertical-align: middle;\n",
       "    }\n",
       "\n",
       "    .dataframe tbody tr th {\n",
       "        vertical-align: top;\n",
       "    }\n",
       "\n",
       "    .dataframe thead th {\n",
       "        text-align: right;\n",
       "    }\n",
       "</style>\n",
       "<table border=\"1\" class=\"dataframe\">\n",
       "  <thead>\n",
       "    <tr style=\"text-align: right;\">\n",
       "      <th></th>\n",
       "      <th>genre</th>\n",
       "      <th>Domestic</th>\n",
       "      <th>Worldwide</th>\n",
       "      <th>TotalEarning</th>\n",
       "    </tr>\n",
       "  </thead>\n",
       "  <tbody>\n",
       "    <tr>\n",
       "      <th>0</th>\n",
       "      <td>Biography</td>\n",
       "      <td>56671993</td>\n",
       "      <td>1.877332e+08</td>\n",
       "      <td>2.444052e+08</td>\n",
       "    </tr>\n",
       "    <tr>\n",
       "      <th>1</th>\n",
       "      <td>Adventure</td>\n",
       "      <td>18335230</td>\n",
       "      <td>6.073880e+07</td>\n",
       "      <td>7.907403e+07</td>\n",
       "    </tr>\n",
       "    <tr>\n",
       "      <th>2</th>\n",
       "      <td>Comedy</td>\n",
       "      <td>35014192</td>\n",
       "      <td>3.918778e+07</td>\n",
       "      <td>7.420198e+07</td>\n",
       "    </tr>\n",
       "    <tr>\n",
       "      <th>3</th>\n",
       "      <td>Comedy</td>\n",
       "      <td>15322921</td>\n",
       "      <td>8.710045e+07</td>\n",
       "      <td>1.024234e+08</td>\n",
       "    </tr>\n",
       "    <tr>\n",
       "      <th>4</th>\n",
       "      <td>Drama</td>\n",
       "      <td>6739492</td>\n",
       "      <td>1.983949e+07</td>\n",
       "      <td>2.657898e+07</td>\n",
       "    </tr>\n",
       "    <tr>\n",
       "      <th>...</th>\n",
       "      <td>...</td>\n",
       "      <td>...</td>\n",
       "      <td>...</td>\n",
       "      <td>...</td>\n",
       "    </tr>\n",
       "    <tr>\n",
       "      <th>305</th>\n",
       "      <td>Sport</td>\n",
       "      <td>13657115</td>\n",
       "      <td>2.305712e+07</td>\n",
       "      <td>3.671423e+07</td>\n",
       "    </tr>\n",
       "    <tr>\n",
       "      <th>306</th>\n",
       "      <td>Comedy</td>\n",
       "      <td>189422889</td>\n",
       "      <td>4.712229e+08</td>\n",
       "      <td>6.606458e+08</td>\n",
       "    </tr>\n",
       "    <tr>\n",
       "      <th>307</th>\n",
       "      <td>Sci-Fi</td>\n",
       "      <td>233921534</td>\n",
       "      <td>7.478628e+08</td>\n",
       "      <td>9.817843e+08</td>\n",
       "    </tr>\n",
       "    <tr>\n",
       "      <th>308</th>\n",
       "      <td>Sci-Fi</td>\n",
       "      <td>146408305</td>\n",
       "      <td>3.536241e+08</td>\n",
       "      <td>5.000324e+08</td>\n",
       "    </tr>\n",
       "    <tr>\n",
       "      <th>309</th>\n",
       "      <td>Comedy</td>\n",
       "      <td>341268248</td>\n",
       "      <td>1.023784e+09</td>\n",
       "      <td>1.365052e+09</td>\n",
       "    </tr>\n",
       "  </tbody>\n",
       "</table>\n",
       "<p>310 rows × 4 columns</p>\n",
       "</div>"
      ],
      "text/plain": [
       "         genre   Domestic     Worldwide  TotalEarning\n",
       "0    Biography   56671993  1.877332e+08  2.444052e+08\n",
       "1    Adventure   18335230  6.073880e+07  7.907403e+07\n",
       "2       Comedy   35014192  3.918778e+07  7.420198e+07\n",
       "3       Comedy   15322921  8.710045e+07  1.024234e+08\n",
       "4        Drama    6739492  1.983949e+07  2.657898e+07\n",
       "..         ...        ...           ...           ...\n",
       "305      Sport   13657115  2.305712e+07  3.671423e+07\n",
       "306     Comedy  189422889  4.712229e+08  6.606458e+08\n",
       "307     Sci-Fi  233921534  7.478628e+08  9.817843e+08\n",
       "308     Sci-Fi  146408305  3.536241e+08  5.000324e+08\n",
       "309     Comedy  341268248  1.023784e+09  1.365052e+09\n",
       "\n",
       "[310 rows x 4 columns]"
      ]
     },
     "execution_count": 47,
     "metadata": {},
     "output_type": "execute_result"
    }
   ],
   "source": [
    "df"
   ]
  },
  {
   "cell_type": "code",
   "execution_count": 48,
   "id": "755f9260",
   "metadata": {},
   "outputs": [],
   "source": [
    "def GenreEarning(genre,earning):\n",
    "    n=len(genre)\n",
    "    d={}\n",
    "    for i in range(n):\n",
    "        d[genre[i]]=d.get(genre[i],0)+earning[i]\n",
    "    #creating a new dataframe\n",
    "    res_df=pd.DataFrame(list(d.items()))\n",
    "    res_df.columns=['Genre','Earning']\n",
    "    res_df.sort_values(by='Earning',ascending=False,inplace=True)\n",
    "    res_df.reset_index(inplace=True,drop=True)\n",
    "    #calculating sum for percentage\n",
    "    s=res_df.Earning.sum()\n",
    "    res_df['Percentage']=((res_df.Earning/s)*100)\n",
    "    return res_df\n",
    "\n",
    "res_df=GenreEarning(list(df.genre),list(df.TotalEarning))"
   ]
  },
  {
   "cell_type": "code",
   "execution_count": 49,
   "id": "0823f685",
   "metadata": {},
   "outputs": [
    {
     "data": {
      "text/html": [
       "<div>\n",
       "<style scoped>\n",
       "    .dataframe tbody tr th:only-of-type {\n",
       "        vertical-align: middle;\n",
       "    }\n",
       "\n",
       "    .dataframe tbody tr th {\n",
       "        vertical-align: top;\n",
       "    }\n",
       "\n",
       "    .dataframe thead th {\n",
       "        text-align: right;\n",
       "    }\n",
       "</style>\n",
       "<table border=\"1\" class=\"dataframe\">\n",
       "  <thead>\n",
       "    <tr style=\"text-align: right;\">\n",
       "      <th></th>\n",
       "      <th>Genre</th>\n",
       "      <th>Earning</th>\n",
       "      <th>Percentage</th>\n",
       "    </tr>\n",
       "  </thead>\n",
       "  <tbody>\n",
       "    <tr>\n",
       "      <th>0</th>\n",
       "      <td>Adventure</td>\n",
       "      <td>3.669282e+10</td>\n",
       "      <td>23.568695</td>\n",
       "    </tr>\n",
       "    <tr>\n",
       "      <th>1</th>\n",
       "      <td>Action</td>\n",
       "      <td>2.788521e+10</td>\n",
       "      <td>17.911355</td>\n",
       "    </tr>\n",
       "    <tr>\n",
       "      <th>2</th>\n",
       "      <td>Drama</td>\n",
       "      <td>1.861607e+10</td>\n",
       "      <td>11.957554</td>\n",
       "    </tr>\n",
       "    <tr>\n",
       "      <th>3</th>\n",
       "      <td>Sci-Fi</td>\n",
       "      <td>1.548841e+10</td>\n",
       "      <td>9.948582</td>\n",
       "    </tr>\n",
       "    <tr>\n",
       "      <th>4</th>\n",
       "      <td>Comedy</td>\n",
       "      <td>1.197469e+10</td>\n",
       "      <td>7.691638</td>\n",
       "    </tr>\n",
       "    <tr>\n",
       "      <th>5</th>\n",
       "      <td>Animation</td>\n",
       "      <td>1.053621e+10</td>\n",
       "      <td>6.767665</td>\n",
       "    </tr>\n",
       "    <tr>\n",
       "      <th>6</th>\n",
       "      <td>Fantasy</td>\n",
       "      <td>8.022713e+09</td>\n",
       "      <td>5.153185</td>\n",
       "    </tr>\n",
       "    <tr>\n",
       "      <th>7</th>\n",
       "      <td>Thriller</td>\n",
       "      <td>6.881591e+09</td>\n",
       "      <td>4.420214</td>\n",
       "    </tr>\n",
       "    <tr>\n",
       "      <th>8</th>\n",
       "      <td>Biography</td>\n",
       "      <td>5.323303e+09</td>\n",
       "      <td>3.419288</td>\n",
       "    </tr>\n",
       "    <tr>\n",
       "      <th>9</th>\n",
       "      <td>Mystery</td>\n",
       "      <td>3.134103e+09</td>\n",
       "      <td>2.013111</td>\n",
       "    </tr>\n",
       "    <tr>\n",
       "      <th>10</th>\n",
       "      <td>Crime</td>\n",
       "      <td>2.411969e+09</td>\n",
       "      <td>1.549267</td>\n",
       "    </tr>\n",
       "    <tr>\n",
       "      <th>11</th>\n",
       "      <td>Romance</td>\n",
       "      <td>2.263643e+09</td>\n",
       "      <td>1.453993</td>\n",
       "    </tr>\n",
       "    <tr>\n",
       "      <th>12</th>\n",
       "      <td>Family</td>\n",
       "      <td>1.633854e+09</td>\n",
       "      <td>1.049464</td>\n",
       "    </tr>\n",
       "    <tr>\n",
       "      <th>13</th>\n",
       "      <td>History</td>\n",
       "      <td>1.625677e+09</td>\n",
       "      <td>1.044212</td>\n",
       "    </tr>\n",
       "    <tr>\n",
       "      <th>14</th>\n",
       "      <td>Western</td>\n",
       "      <td>1.011694e+09</td>\n",
       "      <td>0.649836</td>\n",
       "    </tr>\n",
       "    <tr>\n",
       "      <th>15</th>\n",
       "      <td>Music</td>\n",
       "      <td>6.757072e+08</td>\n",
       "      <td>0.434023</td>\n",
       "    </tr>\n",
       "    <tr>\n",
       "      <th>16</th>\n",
       "      <td>Musical</td>\n",
       "      <td>5.906195e+08</td>\n",
       "      <td>0.379369</td>\n",
       "    </tr>\n",
       "    <tr>\n",
       "      <th>17</th>\n",
       "      <td>Sport</td>\n",
       "      <td>5.058611e+08</td>\n",
       "      <td>0.324927</td>\n",
       "    </tr>\n",
       "    <tr>\n",
       "      <th>18</th>\n",
       "      <td>War</td>\n",
       "      <td>3.957106e+08</td>\n",
       "      <td>0.254175</td>\n",
       "    </tr>\n",
       "    <tr>\n",
       "      <th>19</th>\n",
       "      <td>Horror</td>\n",
       "      <td>1.470580e+07</td>\n",
       "      <td>0.009446</td>\n",
       "    </tr>\n",
       "  </tbody>\n",
       "</table>\n",
       "</div>"
      ],
      "text/plain": [
       "        Genre       Earning  Percentage\n",
       "0   Adventure  3.669282e+10   23.568695\n",
       "1      Action  2.788521e+10   17.911355\n",
       "2       Drama  1.861607e+10   11.957554\n",
       "3      Sci-Fi  1.548841e+10    9.948582\n",
       "4      Comedy  1.197469e+10    7.691638\n",
       "5   Animation  1.053621e+10    6.767665\n",
       "6     Fantasy  8.022713e+09    5.153185\n",
       "7    Thriller  6.881591e+09    4.420214\n",
       "8   Biography  5.323303e+09    3.419288\n",
       "9     Mystery  3.134103e+09    2.013111\n",
       "10      Crime  2.411969e+09    1.549267\n",
       "11    Romance  2.263643e+09    1.453993\n",
       "12     Family  1.633854e+09    1.049464\n",
       "13    History  1.625677e+09    1.044212\n",
       "14    Western  1.011694e+09    0.649836\n",
       "15      Music  6.757072e+08    0.434023\n",
       "16    Musical  5.906195e+08    0.379369\n",
       "17      Sport  5.058611e+08    0.324927\n",
       "18        War  3.957106e+08    0.254175\n",
       "19     Horror  1.470580e+07    0.009446"
      ]
     },
     "execution_count": 49,
     "metadata": {},
     "output_type": "execute_result"
    }
   ],
   "source": [
    "res_df"
   ]
  },
  {
   "cell_type": "code",
   "execution_count": 66,
   "id": "2cc68cf6",
   "metadata": {},
   "outputs": [
    {
     "name": "stderr",
     "output_type": "stream",
     "text": [
      "<ipython-input-66-f79cb5bb1abf>:5: UserWarning: You have mixed positional and keyword arguments, some input may be discarded.\n",
      "  plt.legend(patches,labels=res_df.Genre,loc='best')\n"
     ]
    },
    {
     "data": {
      "image/png": "[encoded data removed]",
      "text/plain": [
       "<Figure size 432x288 with 1 Axes>"
      ]
     },
     "metadata": {},
     "output_type": "display_data"
    }
   ],
   "source": [
    "#plotting a pie chart\n",
    "import matplotlib.pyplot as plt\n",
    "patches,texts=plt.pie(res_df.Earning,counterclock=False,startangle=150,radius=1.5,shadow=True)\n",
    "plt.title('Earning distribution by genre')\n",
    "plt.legend(patches,labels=res_df.Genre,loc='best')\n",
    "plt.axis('equal')\n",
    "plt.show()"
   ]
  },
  {
   "cell_type": "code",
   "execution_count": 77,
   "id": "04a4bda7",
   "metadata": {},
   "outputs": [
    {
     "name": "stdout",
     "output_type": "stream",
     "text": [
      "Adventure 23.57\n",
      "Action 17.91\n",
      "Drama 11.96\n",
      "Sci-Fi 9.95\n",
      "Comedy 7.69\n",
      "Animation 6.77\n",
      "Fantasy 5.15\n",
      "Thriller 4.42\n",
      "Biography 3.42\n",
      "Mystery 2.01\n",
      "Crime 1.55\n",
      "Romance 1.45\n",
      "Family 1.05\n",
      "History 1.04\n",
      "Western 0.65\n",
      "Music 0.43\n",
      "Musical 0.38\n",
      "Sport 0.32\n",
      "War 0.25\n",
      "Horror 0.01\n"
     ]
    }
   ],
   "source": [
    "#ANS:\n",
    "n=len(res_df)\n",
    "for i in range(n):\n",
    "    print(res_df.iloc[i,0],'%.2f'%res_df.iloc[i,2])"
   ]
  },
  {
   "cell_type": "code",
   "execution_count": 95,
   "id": "b56ab847",
   "metadata": {},
   "outputs": [],
   "source": [
    "#ASS-8:Find the movie which has genre of 'Sci-fi' and 'Mystery' and has a rating >= 8.\n",
    "db=sqlite3.connect(\"IMDB.sqlite\")"
   ]
  },
  {
   "cell_type": "code",
   "execution_count": 96,
   "id": "36cc6342",
   "metadata": {},
   "outputs": [
    {
     "data": {
      "text/html": [
       "<div>\n",
       "<style scoped>\n",
       "    .dataframe tbody tr th:only-of-type {\n",
       "        vertical-align: middle;\n",
       "    }\n",
       "\n",
       "    .dataframe tbody tr th {\n",
       "        vertical-align: top;\n",
       "    }\n",
       "\n",
       "    .dataframe thead th {\n",
       "        text-align: right;\n",
       "    }\n",
       "</style>\n",
       "<table border=\"1\" class=\"dataframe\">\n",
       "  <thead>\n",
       "    <tr style=\"text-align: right;\">\n",
       "      <th></th>\n",
       "      <th>Movie_id</th>\n",
       "      <th>Title</th>\n",
       "      <th>Rating</th>\n",
       "      <th>TotalVotes</th>\n",
       "      <th>MetaCritic</th>\n",
       "      <th>Budget</th>\n",
       "      <th>Runtime</th>\n",
       "      <th>CVotes10</th>\n",
       "      <th>CVotes09</th>\n",
       "      <th>CVotes08</th>\n",
       "      <th>...</th>\n",
       "      <th>Votes3044</th>\n",
       "      <th>Votes3044M</th>\n",
       "      <th>Votes3044F</th>\n",
       "      <th>Votes45A</th>\n",
       "      <th>Votes45AM</th>\n",
       "      <th>Votes45AF</th>\n",
       "      <th>VotesIMDB</th>\n",
       "      <th>Votes1000</th>\n",
       "      <th>VotesUS</th>\n",
       "      <th>VotesnUS</th>\n",
       "    </tr>\n",
       "  </thead>\n",
       "  <tbody>\n",
       "    <tr>\n",
       "      <th>0</th>\n",
       "      <td>36809</td>\n",
       "      <td>12 Years a Slave (2013)</td>\n",
       "      <td>8.1</td>\n",
       "      <td>496092</td>\n",
       "      <td>96</td>\n",
       "      <td>20000000.0</td>\n",
       "      <td>134 min</td>\n",
       "      <td>75556</td>\n",
       "      <td>126223</td>\n",
       "      <td>161460</td>\n",
       "      <td>...</td>\n",
       "      <td>8.0</td>\n",
       "      <td>7.9</td>\n",
       "      <td>8.0</td>\n",
       "      <td>7.8</td>\n",
       "      <td>7.8</td>\n",
       "      <td>8.1</td>\n",
       "      <td>8.0</td>\n",
       "      <td>7.7</td>\n",
       "      <td>8.3</td>\n",
       "      <td>8.0</td>\n",
       "    </tr>\n",
       "    <tr>\n",
       "      <th>1</th>\n",
       "      <td>30114</td>\n",
       "      <td>127 Hours (2010)</td>\n",
       "      <td>7.6</td>\n",
       "      <td>297075</td>\n",
       "      <td>82</td>\n",
       "      <td>18000000.0</td>\n",
       "      <td>94 min</td>\n",
       "      <td>28939</td>\n",
       "      <td>44110</td>\n",
       "      <td>98845</td>\n",
       "      <td>...</td>\n",
       "      <td>7.5</td>\n",
       "      <td>7.5</td>\n",
       "      <td>7.5</td>\n",
       "      <td>7.3</td>\n",
       "      <td>7.3</td>\n",
       "      <td>7.5</td>\n",
       "      <td>7.6</td>\n",
       "      <td>7.0</td>\n",
       "      <td>7.7</td>\n",
       "      <td>7.6</td>\n",
       "    </tr>\n",
       "    <tr>\n",
       "      <th>2</th>\n",
       "      <td>37367</td>\n",
       "      <td>50/50 (2011)</td>\n",
       "      <td>7.7</td>\n",
       "      <td>283935</td>\n",
       "      <td>72</td>\n",
       "      <td>8000000.0</td>\n",
       "      <td>100 min</td>\n",
       "      <td>28304</td>\n",
       "      <td>47501</td>\n",
       "      <td>99524</td>\n",
       "      <td>...</td>\n",
       "      <td>7.6</td>\n",
       "      <td>7.6</td>\n",
       "      <td>7.6</td>\n",
       "      <td>7.4</td>\n",
       "      <td>7.4</td>\n",
       "      <td>7.5</td>\n",
       "      <td>7.4</td>\n",
       "      <td>7.0</td>\n",
       "      <td>7.9</td>\n",
       "      <td>7.6</td>\n",
       "    </tr>\n",
       "    <tr>\n",
       "      <th>3</th>\n",
       "      <td>49473</td>\n",
       "      <td>About Time (2013)</td>\n",
       "      <td>7.8</td>\n",
       "      <td>225412</td>\n",
       "      <td></td>\n",
       "      <td>12000000.0</td>\n",
       "      <td>123 min</td>\n",
       "      <td>38556</td>\n",
       "      <td>43170</td>\n",
       "      <td>70850</td>\n",
       "      <td>...</td>\n",
       "      <td>7.6</td>\n",
       "      <td>7.6</td>\n",
       "      <td>7.7</td>\n",
       "      <td>7.6</td>\n",
       "      <td>7.5</td>\n",
       "      <td>7.8</td>\n",
       "      <td>7.7</td>\n",
       "      <td>6.9</td>\n",
       "      <td>7.8</td>\n",
       "      <td>7.7</td>\n",
       "    </tr>\n",
       "    <tr>\n",
       "      <th>4</th>\n",
       "      <td>14867</td>\n",
       "      <td>Amour (2012)</td>\n",
       "      <td>7.9</td>\n",
       "      <td>76121</td>\n",
       "      <td>94</td>\n",
       "      <td>8900000.0</td>\n",
       "      <td>127 min</td>\n",
       "      <td>11093</td>\n",
       "      <td>15944</td>\n",
       "      <td>22942</td>\n",
       "      <td>...</td>\n",
       "      <td>7.7</td>\n",
       "      <td>7.7</td>\n",
       "      <td>7.9</td>\n",
       "      <td>7.9</td>\n",
       "      <td>7.8</td>\n",
       "      <td>8.1</td>\n",
       "      <td>6.6</td>\n",
       "      <td>7.2</td>\n",
       "      <td>7.9</td>\n",
       "      <td>7.8</td>\n",
       "    </tr>\n",
       "  </tbody>\n",
       "</table>\n",
       "<p>5 rows × 52 columns</p>\n",
       "</div>"
      ],
      "text/plain": [
       "  Movie_id                    Title  Rating  TotalVotes MetaCritic  \\\n",
       "0    36809  12 Years a Slave (2013)     8.1      496092         96   \n",
       "1    30114         127 Hours (2010)     7.6      297075         82   \n",
       "2    37367             50/50 (2011)     7.7      283935         72   \n",
       "3    49473        About Time (2013)     7.8      225412              \n",
       "4    14867             Amour (2012)     7.9       76121         94   \n",
       "\n",
       "       Budget  Runtime CVotes10 CVotes09 CVotes08  ... Votes3044 Votes3044M  \\\n",
       "0  20000000.0  134 min    75556   126223   161460  ...       8.0        7.9   \n",
       "1  18000000.0   94 min    28939    44110    98845  ...       7.5        7.5   \n",
       "2   8000000.0  100 min    28304    47501    99524  ...       7.6        7.6   \n",
       "3  12000000.0  123 min    38556    43170    70850  ...       7.6        7.6   \n",
       "4   8900000.0  127 min    11093    15944    22942  ...       7.7        7.7   \n",
       "\n",
       "  Votes3044F Votes45A Votes45AM Votes45AF VotesIMDB Votes1000 VotesUS VotesnUS  \n",
       "0        8.0      7.8       7.8       8.1       8.0       7.7     8.3      8.0  \n",
       "1        7.5      7.3       7.3       7.5       7.6       7.0     7.7      7.6  \n",
       "2        7.6      7.4       7.4       7.5       7.4       7.0     7.9      7.6  \n",
       "3        7.7      7.6       7.5       7.8       7.7       6.9     7.8      7.7  \n",
       "4        7.9      7.9       7.8       8.1       6.6       7.2     7.9      7.8  \n",
       "\n",
       "[5 rows x 52 columns]"
      ]
     },
     "execution_count": 96,
     "metadata": {},
     "output_type": "execute_result"
    }
   ],
   "source": [
    "imdb.head()"
   ]
  },
  {
   "cell_type": "code",
   "execution_count": 97,
   "id": "c0e14d42",
   "metadata": {},
   "outputs": [
    {
     "data": {
      "text/html": [
       "<div>\n",
       "<style scoped>\n",
       "    .dataframe tbody tr th:only-of-type {\n",
       "        vertical-align: middle;\n",
       "    }\n",
       "\n",
       "    .dataframe tbody tr th {\n",
       "        vertical-align: top;\n",
       "    }\n",
       "\n",
       "    .dataframe thead th {\n",
       "        text-align: right;\n",
       "    }\n",
       "</style>\n",
       "<table border=\"1\" class=\"dataframe\">\n",
       "  <thead>\n",
       "    <tr style=\"text-align: right;\">\n",
       "      <th></th>\n",
       "      <th>Movie_id</th>\n",
       "      <th>genre</th>\n",
       "    </tr>\n",
       "  </thead>\n",
       "  <tbody>\n",
       "    <tr>\n",
       "      <th>0</th>\n",
       "      <td>36809</td>\n",
       "      <td>Biography</td>\n",
       "    </tr>\n",
       "    <tr>\n",
       "      <th>1</th>\n",
       "      <td>30114</td>\n",
       "      <td>Adventure</td>\n",
       "    </tr>\n",
       "    <tr>\n",
       "      <th>2</th>\n",
       "      <td>37367</td>\n",
       "      <td>Comedy</td>\n",
       "    </tr>\n",
       "    <tr>\n",
       "      <th>3</th>\n",
       "      <td>49473</td>\n",
       "      <td>Comedy</td>\n",
       "    </tr>\n",
       "    <tr>\n",
       "      <th>4</th>\n",
       "      <td>14867</td>\n",
       "      <td>Drama</td>\n",
       "    </tr>\n",
       "  </tbody>\n",
       "</table>\n",
       "</div>"
      ],
      "text/plain": [
       "  Movie_id      genre\n",
       "0    36809  Biography\n",
       "1    30114  Adventure\n",
       "2    37367     Comedy\n",
       "3    49473     Comedy\n",
       "4    14867      Drama"
      ]
     },
     "execution_count": 97,
     "metadata": {},
     "output_type": "execute_result"
    }
   ],
   "source": [
    "genre.head()"
   ]
  },
  {
   "cell_type": "code",
   "execution_count": 98,
   "id": "967776ca",
   "metadata": {},
   "outputs": [],
   "source": [
    "df=pd.read_sql_query('''select imdb.movie_id,imdb.title,imdb.rating,genre.genre from imdb join genre on \n",
    "                        imdb.movie_id=genre.movie_id''',db)"
   ]
  },
  {
   "cell_type": "code",
   "execution_count": 99,
   "id": "62ee07c6",
   "metadata": {},
   "outputs": [
    {
     "data": {
      "text/html": [
       "<div>\n",
       "<style scoped>\n",
       "    .dataframe tbody tr th:only-of-type {\n",
       "        vertical-align: middle;\n",
       "    }\n",
       "\n",
       "    .dataframe tbody tr th {\n",
       "        vertical-align: top;\n",
       "    }\n",
       "\n",
       "    .dataframe thead th {\n",
       "        text-align: right;\n",
       "    }\n",
       "</style>\n",
       "<table border=\"1\" class=\"dataframe\">\n",
       "  <thead>\n",
       "    <tr style=\"text-align: right;\">\n",
       "      <th></th>\n",
       "      <th>Movie_id</th>\n",
       "      <th>Title</th>\n",
       "      <th>Rating</th>\n",
       "      <th>genre</th>\n",
       "    </tr>\n",
       "  </thead>\n",
       "  <tbody>\n",
       "    <tr>\n",
       "      <th>0</th>\n",
       "      <td>36809</td>\n",
       "      <td>12 Years a Slave (2013)</td>\n",
       "      <td>8.1</td>\n",
       "      <td>Biography</td>\n",
       "    </tr>\n",
       "    <tr>\n",
       "      <th>1</th>\n",
       "      <td>36809</td>\n",
       "      <td>12 Years a Slave (2013)</td>\n",
       "      <td>8.1</td>\n",
       "      <td>Drama</td>\n",
       "    </tr>\n",
       "    <tr>\n",
       "      <th>2</th>\n",
       "      <td>36809</td>\n",
       "      <td>12 Years a Slave (2013)</td>\n",
       "      <td>8.1</td>\n",
       "      <td>History</td>\n",
       "    </tr>\n",
       "    <tr>\n",
       "      <th>3</th>\n",
       "      <td>30114</td>\n",
       "      <td>127 Hours (2010)</td>\n",
       "      <td>7.6</td>\n",
       "      <td>Adventure</td>\n",
       "    </tr>\n",
       "    <tr>\n",
       "      <th>4</th>\n",
       "      <td>30114</td>\n",
       "      <td>127 Hours (2010)</td>\n",
       "      <td>7.6</td>\n",
       "      <td>Biography</td>\n",
       "    </tr>\n",
       "    <tr>\n",
       "      <th>...</th>\n",
       "      <td>...</td>\n",
       "      <td>...</td>\n",
       "      <td>...</td>\n",
       "      <td>...</td>\n",
       "    </tr>\n",
       "    <tr>\n",
       "      <th>346</th>\n",
       "      <td>42294</td>\n",
       "      <td>X-Men: First Class (2011)</td>\n",
       "      <td>7.8</td>\n",
       "      <td>Adventure</td>\n",
       "    </tr>\n",
       "    <tr>\n",
       "      <th>347</th>\n",
       "      <td>42294</td>\n",
       "      <td>X-Men: First Class (2011)</td>\n",
       "      <td>7.8</td>\n",
       "      <td>Sci-Fi</td>\n",
       "    </tr>\n",
       "    <tr>\n",
       "      <th>348</th>\n",
       "      <td>32217</td>\n",
       "      <td>Zootopia (2016)</td>\n",
       "      <td>8.1</td>\n",
       "      <td>Adventure</td>\n",
       "    </tr>\n",
       "    <tr>\n",
       "      <th>349</th>\n",
       "      <td>32217</td>\n",
       "      <td>Zootopia (2016)</td>\n",
       "      <td>8.1</td>\n",
       "      <td>Animation</td>\n",
       "    </tr>\n",
       "    <tr>\n",
       "      <th>350</th>\n",
       "      <td>32217</td>\n",
       "      <td>Zootopia (2016)</td>\n",
       "      <td>8.1</td>\n",
       "      <td>Comedy</td>\n",
       "    </tr>\n",
       "  </tbody>\n",
       "</table>\n",
       "<p>351 rows × 4 columns</p>\n",
       "</div>"
      ],
      "text/plain": [
       "    Movie_id                      Title  Rating      genre\n",
       "0      36809    12 Years a Slave (2013)     8.1  Biography\n",
       "1      36809    12 Years a Slave (2013)     8.1      Drama\n",
       "2      36809    12 Years a Slave (2013)     8.1    History\n",
       "3      30114           127 Hours (2010)     7.6  Adventure\n",
       "4      30114           127 Hours (2010)     7.6  Biography\n",
       "..       ...                        ...     ...        ...\n",
       "346    42294  X-Men: First Class (2011)     7.8  Adventure\n",
       "347    42294  X-Men: First Class (2011)     7.8     Sci-Fi\n",
       "348    32217            Zootopia (2016)     8.1  Adventure\n",
       "349    32217            Zootopia (2016)     8.1  Animation\n",
       "350    32217            Zootopia (2016)     8.1     Comedy\n",
       "\n",
       "[351 rows x 4 columns]"
      ]
     },
     "execution_count": 99,
     "metadata": {},
     "output_type": "execute_result"
    }
   ],
   "source": [
    "df"
   ]
  },
  {
   "cell_type": "code",
   "execution_count": 100,
   "id": "1e477445",
   "metadata": {},
   "outputs": [],
   "source": [
    "#Filtering dataframe\n",
    "df=df[((df.genre=='Sci-Fi') | (df.genre=='Mystery')) & (df.Rating>=8)]"
   ]
  },
  {
   "cell_type": "code",
   "execution_count": 101,
   "id": "9512244f",
   "metadata": {},
   "outputs": [
    {
     "data": {
      "text/html": [
       "<div>\n",
       "<style scoped>\n",
       "    .dataframe tbody tr th:only-of-type {\n",
       "        vertical-align: middle;\n",
       "    }\n",
       "\n",
       "    .dataframe tbody tr th {\n",
       "        vertical-align: top;\n",
       "    }\n",
       "\n",
       "    .dataframe thead th {\n",
       "        text-align: right;\n",
       "    }\n",
       "</style>\n",
       "<table border=\"1\" class=\"dataframe\">\n",
       "  <thead>\n",
       "    <tr style=\"text-align: right;\">\n",
       "      <th></th>\n",
       "      <th>Movie_id</th>\n",
       "      <th>Title</th>\n",
       "      <th>Rating</th>\n",
       "      <th>genre</th>\n",
       "    </tr>\n",
       "  </thead>\n",
       "  <tbody>\n",
       "    <tr>\n",
       "      <th>19</th>\n",
       "      <td>31722</td>\n",
       "      <td>Arrival (2016)</td>\n",
       "      <td>8.0</td>\n",
       "      <td>Mystery</td>\n",
       "    </tr>\n",
       "    <tr>\n",
       "      <th>20</th>\n",
       "      <td>31722</td>\n",
       "      <td>Arrival (2016)</td>\n",
       "      <td>8.0</td>\n",
       "      <td>Sci-Fi</td>\n",
       "    </tr>\n",
       "    <tr>\n",
       "      <th>98</th>\n",
       "      <td>13277</td>\n",
       "      <td>Gone Girl (2014)</td>\n",
       "      <td>8.1</td>\n",
       "      <td>Mystery</td>\n",
       "    </tr>\n",
       "    <tr>\n",
       "      <th>104</th>\n",
       "      <td>11289</td>\n",
       "      <td>Guardians of the Galaxy (2014)</td>\n",
       "      <td>8.1</td>\n",
       "      <td>Sci-Fi</td>\n",
       "    </tr>\n",
       "    <tr>\n",
       "      <th>116</th>\n",
       "      <td>21768</td>\n",
       "      <td>Her (2013)</td>\n",
       "      <td>8.0</td>\n",
       "      <td>Sci-Fi</td>\n",
       "    </tr>\n",
       "    <tr>\n",
       "      <th>137</th>\n",
       "      <td>46824</td>\n",
       "      <td>Inception (2010)</td>\n",
       "      <td>8.8</td>\n",
       "      <td>Sci-Fi</td>\n",
       "    </tr>\n",
       "    <tr>\n",
       "      <th>143</th>\n",
       "      <td>46900</td>\n",
       "      <td>Interstellar (2014)</td>\n",
       "      <td>8.6</td>\n",
       "      <td>Sci-Fi</td>\n",
       "    </tr>\n",
       "    <tr>\n",
       "      <th>167</th>\n",
       "      <td>36478</td>\n",
       "      <td>Mad Max: Fury Road (2015)</td>\n",
       "      <td>8.1</td>\n",
       "      <td>Sci-Fi</td>\n",
       "    </tr>\n",
       "    <tr>\n",
       "      <th>200</th>\n",
       "      <td>37979</td>\n",
       "      <td>Prisoners (2013)</td>\n",
       "      <td>8.1</td>\n",
       "      <td>Mystery</td>\n",
       "    </tr>\n",
       "    <tr>\n",
       "      <th>217</th>\n",
       "      <td>36011</td>\n",
       "      <td>Shutter Island (2010)</td>\n",
       "      <td>8.1</td>\n",
       "      <td>Mystery</td>\n",
       "    </tr>\n",
       "    <tr>\n",
       "      <th>251</th>\n",
       "      <td>10454</td>\n",
       "      <td>The Avengers (2012)</td>\n",
       "      <td>8.1</td>\n",
       "      <td>Sci-Fi</td>\n",
       "    </tr>\n",
       "    <tr>\n",
       "      <th>299</th>\n",
       "      <td>24887</td>\n",
       "      <td>The Martian (2015)</td>\n",
       "      <td>8.0</td>\n",
       "      <td>Sci-Fi</td>\n",
       "    </tr>\n",
       "    <tr>\n",
       "      <th>344</th>\n",
       "      <td>27783</td>\n",
       "      <td>X-Men: Days of Future Past (2014)</td>\n",
       "      <td>8.0</td>\n",
       "      <td>Sci-Fi</td>\n",
       "    </tr>\n",
       "  </tbody>\n",
       "</table>\n",
       "</div>"
      ],
      "text/plain": [
       "    Movie_id                              Title  Rating    genre\n",
       "19     31722                     Arrival (2016)     8.0  Mystery\n",
       "20     31722                     Arrival (2016)     8.0   Sci-Fi\n",
       "98     13277                   Gone Girl (2014)     8.1  Mystery\n",
       "104    11289     Guardians of the Galaxy (2014)     8.1   Sci-Fi\n",
       "116    21768                         Her (2013)     8.0   Sci-Fi\n",
       "137    46824                   Inception (2010)     8.8   Sci-Fi\n",
       "143    46900                Interstellar (2014)     8.6   Sci-Fi\n",
       "167    36478          Mad Max: Fury Road (2015)     8.1   Sci-Fi\n",
       "200    37979                   Prisoners (2013)     8.1  Mystery\n",
       "217    36011              Shutter Island (2010)     8.1  Mystery\n",
       "251    10454                The Avengers (2012)     8.1   Sci-Fi\n",
       "299    24887                 The Martian (2015)     8.0   Sci-Fi\n",
       "344    27783  X-Men: Days of Future Past (2014)     8.0   Sci-Fi"
      ]
     },
     "execution_count": 101,
     "metadata": {},
     "output_type": "execute_result"
    }
   ],
   "source": [
    "df"
   ]
  },
  {
   "cell_type": "code",
   "execution_count": 104,
   "id": "25f26a2d",
   "metadata": {},
   "outputs": [
    {
     "name": "stdout",
     "output_type": "stream",
     "text": [
      "Arrival (2016)\n"
     ]
    }
   ],
   "source": [
    "def FindMoviebyGenre(title,genre):\n",
    "    n=len(title)\n",
    "    d={}\n",
    "    for i in range(n):\n",
    "        if title[i] not in d:\n",
    "            d[title[i]]=[genre[i]]\n",
    "        else:\n",
    "            d[title[i]].append(genre[i])\n",
    "        if len(d[title[i]])==2:\n",
    "            return title[i]\n",
    "\n",
    "ans=FindMoviebyGenre(list(df.Title),list(df.genre))\n",
    "print(ans)"
   ]
  }
 ],
 "metadata": {
  "kernelspec": {
   "display_name": "Python 3",
   "language": "python",
   "name": "python3"
  },
  "language_info": {
   "codemirror_mode": {
    "name": "ipython",
    "version": 3
   },
   "file_extension": ".py",
   "mimetype": "text/x-python",
   "name": "python",
   "nbconvert_exporter": "python",
   "pygments_lexer": "ipython3",
   "version": "3.8.8"
  }
 },
 "nbformat": 4,
 "nbformat_minor": 5
}
