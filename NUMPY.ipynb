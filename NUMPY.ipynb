{
 "cells": [
  {
   "cell_type": "markdown",
   "metadata": {},
   "source": [
    "# NUMPY (LIBRARY FOR LINEAR ALGEBRA)"
   ]
  },
  {
   "cell_type": "markdown",
   "metadata": {},
   "source": [
    "## STANDS FOR NUMERICAL PYTHON"
   ]
  },
  {
   "cell_type": "markdown",
   "metadata": {},
   "source": [
    "### ADVANTAGES OF USING NUMPY"
   ]
  },
  {
   "cell_type": "code",
   "execution_count": 2,
   "metadata": {},
   "outputs": [],
   "source": [
    "import numpy as np\n",
    "import sys"
   ]
  },
  {
   "cell_type": "code",
   "execution_count": 10,
   "metadata": {},
   "outputs": [
    {
     "name": "stdout",
     "output_type": "stream",
     "text": [
      "[0, 1, 2, 3, 4, 5, 6, 7, 8, 9, 10, 11, 12, 13, 14, 15, 16, 17, 18, 19, 20, 21, 22, 23, 24, 25, 26, 27, 28, 29, 30, 31, 32, 33, 34, 35, 36, 37, 38, 39, 40, 41, 42, 43, 44, 45, 46, 47, 48, 49, 50, 51, 52, 53, 54, 55, 56, 57, 58, 59, 60, 61, 62, 63, 64, 65, 66, 67, 68, 69, 70, 71, 72, 73, 74, 75, 76, 77, 78, 79, 80, 81, 82, 83, 84, 85, 86, 87, 88, 89, 90, 91, 92, 93, 94, 95, 96, 97, 98, 99]\n",
      "[ 0  1  2  3  4  5  6  7  8  9 10 11 12 13 14 15 16 17 18 19 20 21 22 23\n",
      " 24 25 26 27 28 29 30 31 32 33 34 35 36 37 38 39 40 41 42 43 44 45 46 47\n",
      " 48 49 50 51 52 53 54 55 56 57 58 59 60 61 62 63 64 65 66 67 68 69 70 71\n",
      " 72 73 74 75 76 77 78 79 80 81 82 83 84 85 86 87 88 89 90 91 92 93 94 95\n",
      " 96 97 98 99]\n",
      "NORMAL LIST :2800\n",
      "NUMPY ARRAY :400\n"
     ]
    }
   ],
   "source": [
    "#NUMPY ARRAYS TAKE LESSER SPACE THAN NORMAL LISTS\n",
    "a=[int(i) for i in range(100)]\n",
    "b=np.arange(100)#creates a numpy array with 100 elements(0-99)\n",
    "print(a)\n",
    "print(b)\n",
    "\n",
    "#get size of one element in list\n",
    "t=5\n",
    "#get size of 100 integers(for a normal list)\n",
    "print('NORMAL LIST :'+str(sys.getsizeof(t)*100))#get size of fxn returns size of object\n",
    "\n",
    "#get size of one element in numpy array\n",
    "k=b.itemsize#returns size of one element in a numpy array\n",
    "#get size of 100 integers stored in numpy array\n",
    "print(\"NUMPY ARRAY :\"+str(k*100))"
   ]
  },
  {
   "cell_type": "code",
   "execution_count": 11,
   "metadata": {},
   "outputs": [],
   "source": [
    "import time"
   ]
  },
  {
   "cell_type": "code",
   "execution_count": 18,
   "metadata": {},
   "outputs": [
    {
     "name": "stdout",
     "output_type": "stream",
     "text": [
      "NORMAL LIST : 34.97958183288574\n",
      "NUMPY ARRAY : 1.0249614715576172\n"
     ]
    }
   ],
   "source": [
    "#NUMPY ARRAYS ARE FASTER THAN LISTS\n",
    "def additionUsingList(size):\n",
    "    t1=time.time()\n",
    "    a=range(size)\n",
    "    b=range(size)\n",
    "    c=[a[i]+b[i] for i in range(size)]\n",
    "    t2=time.time()\n",
    "    return t2-t1\n",
    "\n",
    "def additionUsingNumpy(size):\n",
    "    t1=time.time()\n",
    "    a=np.arange(size)\n",
    "    b=np.arange(size)\n",
    "    c=a+b #make a list after adding each element of a and b and store them in a list\n",
    "    t2=time.time()\n",
    "    return t2-t1\n",
    "size=100000\n",
    "#WE ARE MULTIPLYING BY 100 TO GET THE TIME IN MILLISECONDS\n",
    "print(\"NORMAL LIST :\",(additionUsingList(size)*1000))\n",
    "print(\"NUMPY ARRAY :\",(additionUsingNumpy(size)*1000))    "
   ]
  },
  {
   "cell_type": "markdown",
   "metadata": {},
   "source": [
    "## NUMPY FUNCTIONS(USING NUMPY)"
   ]
  },
  {
   "cell_type": "code",
   "execution_count": 23,
   "metadata": {},
   "outputs": [
    {
     "name": "stdout",
     "output_type": "stream",
     "text": [
      "[1 2 3]\n",
      "<class 'numpy.ndarray'>\n"
     ]
    }
   ],
   "source": [
    "a=[1,2,3]\n",
    "b=np.array(a,dtype=int)#used to create a numpy array by passing an iterable\n",
    "#dtype parameter is used to specify the datatype with which we want to create \n",
    "#array\n",
    "print(b)\n",
    "print(type(b))"
   ]
  },
  {
   "cell_type": "code",
   "execution_count": 24,
   "metadata": {},
   "outputs": [
    {
     "name": "stdout",
     "output_type": "stream",
     "text": [
      "['1' '2' '3' '5' '6.5']\n"
     ]
    }
   ],
   "source": [
    "#lists can have multi data types\n",
    "#lets try to create a numpy array now\n",
    "a=[1,2,3,'5',6.5]\n",
    "b=np.array(a)\n",
    "print(b)#We are getting a numpy array where all elements have changed to string\n",
    "#this is because numpy arrays have a property of storing homogeneous elements \n",
    "#i.e. of the same datatype so we are getting a numpy array of strings"
   ]
  },
  {
   "cell_type": "code",
   "execution_count": 25,
   "metadata": {},
   "outputs": [
    {
     "name": "stdout",
     "output_type": "stream",
     "text": [
      "[1 2 3 5 6]\n"
     ]
    }
   ],
   "source": [
    "#but we can change that using dtype parameter\n",
    "a=[1,2,3,'5',6.5]\n",
    "b=np.array(a,dtype=int)\n",
    "print(b)"
   ]
  },
  {
   "cell_type": "code",
   "execution_count": 26,
   "metadata": {},
   "outputs": [
    {
     "name": "stdout",
     "output_type": "stream",
     "text": [
      "['1' '2' '3' '5' 'av' 'a']\n"
     ]
    }
   ],
   "source": [
    "#now lets try to create a numpy array from the given list\n",
    "a=[1,2,3,'5','av','a']\n",
    "b=np.array(a)\n",
    "print(b)"
   ]
  },
  {
   "cell_type": "code",
   "execution_count": 27,
   "metadata": {},
   "outputs": [
    {
     "ename": "ValueError",
     "evalue": "invalid literal for int() with base 10: 'av'",
     "output_type": "error",
     "traceback": [
      "\u001b[1;31m---------------------------------------------------------------------------\u001b[0m",
      "\u001b[1;31mValueError\u001b[0m                                Traceback (most recent call last)",
      "\u001b[1;32m<ipython-input-27-9e8bf0b2c375>\u001b[0m in \u001b[0;36m<module>\u001b[1;34m\u001b[0m\n\u001b[0;32m      2\u001b[0m \u001b[1;31m#converted to int\u001b[0m\u001b[1;33m\u001b[0m\u001b[1;33m\u001b[0m\u001b[1;33m\u001b[0m\u001b[0m\n\u001b[0;32m      3\u001b[0m \u001b[0ma\u001b[0m\u001b[1;33m=\u001b[0m\u001b[1;33m[\u001b[0m\u001b[1;36m1\u001b[0m\u001b[1;33m,\u001b[0m\u001b[1;36m2\u001b[0m\u001b[1;33m,\u001b[0m\u001b[1;36m3\u001b[0m\u001b[1;33m,\u001b[0m\u001b[1;34m'5'\u001b[0m\u001b[1;33m,\u001b[0m\u001b[1;34m'av'\u001b[0m\u001b[1;33m,\u001b[0m\u001b[1;34m'a'\u001b[0m\u001b[1;33m]\u001b[0m\u001b[1;33m\u001b[0m\u001b[1;33m\u001b[0m\u001b[0m\n\u001b[1;32m----> 4\u001b[1;33m \u001b[0mb\u001b[0m\u001b[1;33m=\u001b[0m\u001b[0mnp\u001b[0m\u001b[1;33m.\u001b[0m\u001b[0marray\u001b[0m\u001b[1;33m(\u001b[0m\u001b[0ma\u001b[0m\u001b[1;33m,\u001b[0m\u001b[0mdtype\u001b[0m\u001b[1;33m=\u001b[0m\u001b[0mint\u001b[0m\u001b[1;33m)\u001b[0m\u001b[1;33m\u001b[0m\u001b[1;33m\u001b[0m\u001b[0m\n\u001b[0m\u001b[0;32m      5\u001b[0m \u001b[0mprint\u001b[0m\u001b[1;33m(\u001b[0m\u001b[0mb\u001b[0m\u001b[1;33m)\u001b[0m\u001b[1;33m\u001b[0m\u001b[1;33m\u001b[0m\u001b[0m\n",
      "\u001b[1;31mValueError\u001b[0m: invalid literal for int() with base 10: 'av'"
     ]
    }
   ],
   "source": [
    "#but if we try to specify dtype as int,we get an error as 'av' and 'a' cannot\n",
    "#converted to int\n",
    "a=[1,2,3,'5','av','a']\n",
    "b=np.array(a,dtype=int)\n",
    "print(b)\n"
   ]
  },
  {
   "cell_type": "code",
   "execution_count": 31,
   "metadata": {},
   "outputs": [
    {
     "data": {
      "text/plain": [
       "[1, 2, 3, '5', 'av', 'a', 1, 2, 3, '5', 'av', 'a', 1, 2, 3, '5', 'av', 'a']"
      ]
     },
     "execution_count": 31,
     "metadata": {},
     "output_type": "execute_result"
    }
   ],
   "source": [
    "a*3#repeat list "
   ]
  },
  {
   "cell_type": "code",
   "execution_count": 34,
   "metadata": {},
   "outputs": [
    {
     "name": "stdout",
     "output_type": "stream",
     "text": [
      "['1' '2' '3' '5' 'av' 'a' '1' '2' '3' '5' 'av' 'a' '1' '2' '3' '5' 'av'\n",
      " 'a']\n"
     ]
    }
   ],
   "source": [
    "#creating numpy array using repeat list\n",
    "b=np.array(a*3)\n",
    "print(b)"
   ]
  },
  {
   "cell_type": "markdown",
   "metadata": {},
   "source": [
    "### SOME MORE USEFUL FUNCTIONS OF NUMPY FOR CREATING ARRAY"
   ]
  },
  {
   "cell_type": "code",
   "execution_count": 35,
   "metadata": {},
   "outputs": [
    {
     "name": "stdout",
     "output_type": "stream",
     "text": [
      "[1. 1. 1.]\n"
     ]
    }
   ],
   "source": [
    "#create an array with only ones\n",
    "a=np.ones(3)\n",
    "print(a)#default datatype =flaot"
   ]
  },
  {
   "cell_type": "code",
   "execution_count": 40,
   "metadata": {},
   "outputs": [
    {
     "name": "stdout",
     "output_type": "stream",
     "text": [
      "[1 1 1]\n"
     ]
    }
   ],
   "source": [
    "a=np.ones(3,dtype=int)\n",
    "print(a)#change datatype to int"
   ]
  },
  {
   "cell_type": "code",
   "execution_count": 38,
   "metadata": {},
   "outputs": [
    {
     "name": "stdout",
     "output_type": "stream",
     "text": [
      "[0. 0. 0. 0.]\n"
     ]
    }
   ],
   "source": [
    "#create an array with only zeros\n",
    "a=np.zeros(4)\n",
    "print(a)#default datatype =flaot"
   ]
  },
  {
   "cell_type": "code",
   "execution_count": 42,
   "metadata": {},
   "outputs": [
    {
     "name": "stdout",
     "output_type": "stream",
     "text": [
      "[0 0 0]\n"
     ]
    }
   ],
   "source": [
    "a=np.zeros(3,dtype=int)\n",
    "print(a)#change datatype to int"
   ]
  },
  {
   "cell_type": "code",
   "execution_count": 45,
   "metadata": {},
   "outputs": [
    {
     "name": "stdout",
     "output_type": "stream",
     "text": [
      "[[0 0 0 0]\n",
      " [0 0 0 0]\n",
      " [0 0 0 0]]\n",
      "\n",
      "[[1 1 1 1]\n",
      " [1 1 1 1]\n",
      " [1 1 1 1]]\n"
     ]
    }
   ],
   "source": [
    "#CREATE 2-dimensional arrays by passing the dimensions\n",
    "a=np.zeros((3,4),dtype=int)#passing a tuple as dimensions\n",
    "print(a,end='\\n\\n')\n",
    "b=np.ones((3,4),dtype=int)#passing a tuple as dimensions\n",
    "print(b)\n"
   ]
  },
  {
   "cell_type": "code",
   "execution_count": 48,
   "metadata": {},
   "outputs": [
    {
     "name": "stdout",
     "output_type": "stream",
     "text": [
      "[5 5 5]\n"
     ]
    }
   ],
   "source": [
    "#np.full() method: make an array with all the same elements and of specific size\n",
    "#by specifying the size and the element for the array\n",
    "b=np.full(3,5)\n",
    "print(b)#default dtype is int"
   ]
  },
  {
   "cell_type": "code",
   "execution_count": 50,
   "metadata": {},
   "outputs": [
    {
     "name": "stdout",
     "output_type": "stream",
     "text": [
      "[[5. 5. 5. 5. 5.]\n",
      " [5. 5. 5. 5. 5.]\n",
      " [5. 5. 5. 5. 5.]\n",
      " [5. 5. 5. 5. 5.]\n",
      " [5. 5. 5. 5. 5.]]\n"
     ]
    }
   ],
   "source": [
    "#creating a 2d array\n",
    "b=np.full((5,5),5,dtype=float)#pass a tuple as dimensions\n",
    "print(b)#changed dtype to float"
   ]
  },
  {
   "cell_type": "code",
   "execution_count": 53,
   "metadata": {},
   "outputs": [
    {
     "name": "stdout",
     "output_type": "stream",
     "text": [
      "[8.45569488e-307 3.56011818e-307 1.61323966e-307 4.67296746e-307\n",
      " 1.69121096e-306]\n",
      "<class 'numpy.float64'>\n"
     ]
    }
   ],
   "source": [
    "#make a numpy array by specifying dimensions filled with random values\n",
    "a=np.empty(5)\n",
    "print(a)#default dtype is float"
   ]
  },
  {
   "cell_type": "code",
   "execution_count": 63,
   "metadata": {},
   "outputs": [
    {
     "name": "stdout",
     "output_type": "stream",
     "text": [
      "[[-248083944        478        108          0          0          0]\n",
      " [         0          0          0    4259932 1868767867  975332708]\n",
      " [1919099682 1702125925  840982816 1918967908  544825714 1752459639]\n",
      " [1851879968  544042852 1970037110 1851552613 1886272865 1886217518]\n",
      " [ 673741172  691219507 2037670956 1765631344 1546220654 1769107566]\n",
      " [1630041198  573317673 1667594341 1869182069 1868783470  578055797]]\n"
     ]
    }
   ],
   "source": [
    "#create a 2d array with random values\n",
    "a=np.empty((6,6),dtype=int)\n",
    "print(a)"
   ]
  },
  {
   "cell_type": "code",
   "execution_count": 64,
   "metadata": {},
   "outputs": [
    {
     "name": "stdout",
     "output_type": "stream",
     "text": [
      "[[1 2 3]\n",
      " [4 5 6]\n",
      " [7 8 9]]\n"
     ]
    }
   ],
   "source": [
    "#ASSIGMENT: CREATE NUMPY ARRAY USING A 2d list\n",
    "a=[[1,2,3],\n",
    "   [4,5,6],\n",
    "   [7,8,9]]\n",
    "b=np.array(a)\n",
    "print(b)"
   ]
  },
  {
   "cell_type": "code",
   "execution_count": 66,
   "metadata": {},
   "outputs": [
    {
     "name": "stdout",
     "output_type": "stream",
     "text": [
      "[0 0 0 0 5 0 0 0 0 0]\n"
     ]
    }
   ],
   "source": [
    "#ASS: create a numpy array of size 10 with all values 0 and fifth value as 1\n",
    "a=np.zeros(10,dtype=int)\n",
    "a[4]=5\n",
    "print(a)"
   ]
  },
  {
   "cell_type": "code",
   "execution_count": 4,
   "metadata": {},
   "outputs": [
    {
     "name": "stdout",
     "output_type": "stream",
     "text": [
      "[0 1 2 3 4 5 6 7 8 9]\n",
      "[2 4 6 8]\n"
     ]
    }
   ],
   "source": [
    "#np.arange()= gives evenly space values within an interval\n",
    "'''\n",
    "start(optional,default=0)\n",
    "stop\n",
    "step(optional,default=1)\n",
    "-->last number is not included\n",
    "'''\n",
    "a=np.arange(10)\n",
    "print(a)\n",
    "b=np.arange(2,10,2)\n",
    "print(b)"
   ]
  },
  {
   "cell_type": "code",
   "execution_count": 10,
   "metadata": {},
   "outputs": [
    {
     "name": "stdout",
     "output_type": "stream",
     "text": [
      "[ 2.          2.16326531  2.32653061  2.48979592  2.65306122  2.81632653\n",
      "  2.97959184  3.14285714  3.30612245  3.46938776  3.63265306  3.79591837\n",
      "  3.95918367  4.12244898  4.28571429  4.44897959  4.6122449   4.7755102\n",
      "  4.93877551  5.10204082  5.26530612  5.42857143  5.59183673  5.75510204\n",
      "  5.91836735  6.08163265  6.24489796  6.40816327  6.57142857  6.73469388\n",
      "  6.89795918  7.06122449  7.2244898   7.3877551   7.55102041  7.71428571\n",
      "  7.87755102  8.04081633  8.20408163  8.36734694  8.53061224  8.69387755\n",
      "  8.85714286  9.02040816  9.18367347  9.34693878  9.51020408  9.67346939\n",
      "  9.83673469 10.        ]\n",
      "0.16326530612244872\n",
      "0.16326530612244916\n",
      "[ 2  4  6  8 10]\n"
     ]
    }
   ],
   "source": [
    "'''\n",
    "np.linspace()=also gives evenly spaced values in an interval,start & stop \n",
    "is inclusive\n",
    "start\n",
    "stop\n",
    "num(optional)=no. of samples we want to get,default is 50\n",
    "endpoint(optional)=default is true,if set to false stop is not included\n",
    "'''\n",
    "a=np.linspace(2,10)\n",
    "print(a)\n",
    "#calculate step value\n",
    "print(a[2]-a[1])\n",
    "print(a[3]-a[2])\n",
    "b=np.linspace(2,10,5,dtype=int)#changing dtype to int\n",
    "print(b)"
   ]
  },
  {
   "cell_type": "code",
   "execution_count": 11,
   "metadata": {},
   "outputs": [
    {
     "name": "stdout",
     "output_type": "stream",
     "text": [
      "[2 3 5 6 8]\n"
     ]
    }
   ],
   "source": [
    "b=np.linspace(2,10,5,dtype=int,endpoint=False)#changing dtype to int\n",
    "print(b)"
   ]
  },
  {
   "cell_type": "code",
   "execution_count": 14,
   "metadata": {},
   "outputs": [
    {
     "name": "stdout",
     "output_type": "stream",
     "text": [
      "[[1. 0. 0.]\n",
      " [0. 1. 0.]\n",
      " [0. 0. 1.]]\n",
      "[[1 0 0]\n",
      " [0 1 0]\n",
      " [0 0 1]]\n"
     ]
    }
   ],
   "source": [
    "'''np.identity()=gives an identity matrix (square size)\n",
    "'''\n",
    "a=np.identity(3)\n",
    "print(a)\n",
    "a=np.identity(3,dtype=int)\n",
    "print(a)"
   ]
  },
  {
   "cell_type": "code",
   "execution_count": 19,
   "metadata": {},
   "outputs": [
    {
     "name": "stdout",
     "output_type": "stream",
     "text": [
      "[[1 0 0]\n",
      " [0 1 0]\n",
      " [0 0 1]]\n",
      "[[1 0 0 0 0]\n",
      " [0 1 0 0 0]\n",
      " [0 0 1 0 0]]\n"
     ]
    }
   ],
   "source": [
    "'''np.eye()=can give a rectangular or square matrix with diagonal elements as 1\n",
    "\n",
    "'''\n",
    "a=np.eye(3,dtype=int)\n",
    "print(a)\n",
    "a=np.eye(3,5,dtype=int)\n",
    "print(a)"
   ]
  },
  {
   "cell_type": "code",
   "execution_count": 22,
   "metadata": {},
   "outputs": [
    {
     "name": "stdout",
     "output_type": "stream",
     "text": [
      "[0.15451476 0.46443083 0.79453979 0.42313304 0.66567595]\n",
      "\n",
      "[[0.83468355 0.29046655 0.4045416  0.25057567 0.93833264 0.64796051]\n",
      " [0.51855868 0.98426169 0.73578651 0.97963121 0.27190209 0.7351323 ]\n",
      " [0.20276909 0.89457247 0.52640544 0.18972866 0.10838829 0.70467673]\n",
      " [0.83843662 0.96982441 0.90437236 0.19964159 0.61817771 0.10003935]\n",
      " [0.19194214 0.12473534 0.34157856 0.07738273 0.41392851 0.22705044]]\n"
     ]
    }
   ],
   "source": [
    "'''np.random.rand()= gives random values in the range 0 to 1\n",
    "takes size\n",
    "\n",
    "'''\n",
    "a=np.random.rand(5)\n",
    "print(a,end='\\n\\n')\n",
    "b=np.random.rand(5,6)\n",
    "print(b)"
   ]
  },
  {
   "cell_type": "code",
   "execution_count": 26,
   "metadata": {},
   "outputs": [
    {
     "name": "stdout",
     "output_type": "stream",
     "text": [
      "[[8.9092126  6.53798022 5.04275936]\n",
      " [7.32006478 3.73577552 7.87876058]]\n"
     ]
    }
   ],
   "source": [
    "#get random values in the range 0-10\n",
    "a=np.random.rand(2,3)*10#scalar multiplication of matrix (not repetition)\n",
    "print(a)"
   ]
  },
  {
   "cell_type": "code",
   "execution_count": 30,
   "metadata": {},
   "outputs": [
    {
     "name": "stdout",
     "output_type": "stream",
     "text": [
      "[0 0 1 0 0]\n"
     ]
    }
   ],
   "source": [
    "#np.random.randint()=generates integer random values\n",
    "#low:lower interval,by default 0\n",
    "#high:upper interval\n",
    "#size\n",
    "a=np.random.randint(2,size=5)\n",
    "print(a)#if specified only one value it is taken as upper bound"
   ]
  },
  {
   "cell_type": "code",
   "execution_count": 32,
   "metadata": {},
   "outputs": [
    {
     "name": "stdout",
     "output_type": "stream",
     "text": [
      "[[2 6 1 1]\n",
      " [5 7 0 2]\n",
      " [6 5 7 6]\n",
      " [7 4 1 0]\n",
      " [1 2 1 4]]\n"
     ]
    }
   ],
   "source": [
    "a=np.random.randint(8,size=(5,4))\n",
    "print(a)"
   ]
  },
  {
   "cell_type": "code",
   "execution_count": 33,
   "metadata": {},
   "outputs": [
    {
     "name": "stdout",
     "output_type": "stream",
     "text": [
      "[9 8 9 8 8]\n"
     ]
    }
   ],
   "source": [
    "a=np.random.randint(8,10,size=5)#generate in the range 8,9\n",
    "print(a)"
   ]
  },
  {
   "cell_type": "code",
   "execution_count": 35,
   "metadata": {},
   "outputs": [
    {
     "name": "stdout",
     "output_type": "stream",
     "text": [
      "(5,)\n"
     ]
    }
   ],
   "source": [
    "print(a.shape)#tells us dimensions of matrix"
   ]
  },
  {
   "cell_type": "code",
   "execution_count": 42,
   "metadata": {},
   "outputs": [
    {
     "data": {
      "text/plain": [
       "3"
      ]
     },
     "execution_count": 42,
     "metadata": {},
     "output_type": "execute_result"
    }
   ],
   "source": [
    "#to generate one random value integer\n",
    "np.random.randint(10)"
   ]
  },
  {
   "cell_type": "code",
   "execution_count": 45,
   "metadata": {},
   "outputs": [
    {
     "name": "stdout",
     "output_type": "stream",
     "text": [
      "[ 9.          9.81632653 10.63265306 11.44897959 12.26530612 13.08163265\n",
      " 13.89795918 14.71428571 15.53061224 16.34693878 17.16326531 17.97959184\n",
      " 18.79591837 19.6122449  20.42857143 21.24489796 22.06122449 22.87755102\n",
      " 23.69387755 24.51020408 25.32653061 26.14285714 26.95918367 27.7755102\n",
      " 28.59183673 29.40816327 30.2244898  31.04081633 31.85714286 32.67346939\n",
      " 33.48979592 34.30612245 35.12244898 35.93877551 36.75510204 37.57142857\n",
      " 38.3877551  39.20408163 40.02040816 40.83673469 41.65306122 42.46938776\n",
      " 43.28571429 44.10204082 44.91836735 45.73469388 46.55102041 47.36734694\n",
      " 48.18367347 49.        ]\n"
     ]
    }
   ],
   "source": [
    "#ASS:create an array with inclusive values ranging from 9 to 49\n",
    "a=np.linspace(9,49)\n",
    "print(a)"
   ]
  },
  {
   "cell_type": "code",
   "execution_count": 47,
   "metadata": {},
   "outputs": [
    {
     "name": "stdout",
     "output_type": "stream",
     "text": [
      "[[1 0 0 0 0 0]\n",
      " [0 1 0 0 0 0]\n",
      " [0 0 1 0 0 0]\n",
      " [0 0 0 1 0 0]\n",
      " [0 0 0 0 1 0]]\n"
     ]
    }
   ],
   "source": [
    "#ASS:create an identity matrix of size 5,6\n",
    "a=np.eye(5,6,dtype=int)\n",
    "print(a)"
   ]
  },
  {
   "cell_type": "code",
   "execution_count": 58,
   "metadata": {},
   "outputs": [
    {
     "name": "stdout",
     "output_type": "stream",
     "text": [
      "[0.         0.55555556 1.11111111 1.66666667 2.22222222 2.77777778\n",
      " 3.33333333 3.88888889 4.44444444 5.        ]\n",
      "0.56\n",
      "1.11\n",
      "1.67\n",
      "2.22\n",
      "2.78\n",
      "3.33\n",
      "3.89\n",
      "4.44\n",
      "5.00\n"
     ]
    }
   ],
   "source": [
    "#ASS:cut a rope into 9 parts of 5m AND RETURN THE POINTS WHERE THEY NEED \n",
    "#TO BE CUT\n",
    "a=np.linspace(0,5,10)\n",
    "print(a)\n",
    "for i in range(1,10):\n",
    "    print('%.2f'%a[i])"
   ]
  },
  {
   "cell_type": "markdown",
   "metadata": {},
   "source": [
    "## EXAMINING NUMPY ARRAY and slicing them"
   ]
  },
  {
   "cell_type": "code",
   "execution_count": 59,
   "metadata": {},
   "outputs": [],
   "source": [
    "import numpy as np"
   ]
  },
  {
   "cell_type": "code",
   "execution_count": 60,
   "metadata": {},
   "outputs": [
    {
     "name": "stdout",
     "output_type": "stream",
     "text": [
      "[1, 2, 3, 4, 5]\n",
      "[1 2 3 4 5]\n"
     ]
    }
   ],
   "source": [
    "'''\n",
    "numpy objects contain 4 different types of data\n",
    "data:reference to first element of array\n",
    "shape:dimensions\n",
    "dtype=datatype\n",
    "strides=number of bytes to be skipped to get to the next element\n",
    "'''\n",
    "#1d array\n",
    "li=[1,2,3,4,5]\n",
    "a=np.array(li)\n",
    "print(li)\n",
    "print(a)\n"
   ]
  },
  {
   "cell_type": "code",
   "execution_count": 61,
   "metadata": {},
   "outputs": [
    {
     "name": "stdout",
     "output_type": "stream",
     "text": [
      "<memory at 0x0000023095FF6280>\n",
      "(5,)\n",
      "int32\n",
      "(4,)\n"
     ]
    }
   ],
   "source": [
    "print(a.data)\n",
    "print(a.shape)\n",
    "print(a.dtype)\n",
    "print(a.strides)"
   ]
  },
  {
   "cell_type": "code",
   "execution_count": 68,
   "metadata": {},
   "outputs": [
    {
     "name": "stdout",
     "output_type": "stream",
     "text": [
      "[[1, 2, 3, 4], [5, 6, 7, 8], [9, 10, 11, 12], [13, 14, 15, 16]]\n",
      "\n",
      "[[ 1  2  3  4]\n",
      " [ 5  6  7  8]\n",
      " [ 9 10 11 12]\n",
      " [13 14 15 16]]\n"
     ]
    }
   ],
   "source": [
    "#2d array\n",
    "li=[[1,2,3,4],[5,6,7,8],[9,10,11,12],[13,14,15,16]]\n",
    "a=np.array(li)\n",
    "print(li,end='\\n\\n')\n",
    "print(a)\n"
   ]
  },
  {
   "cell_type": "code",
   "execution_count": 69,
   "metadata": {},
   "outputs": [
    {
     "name": "stdout",
     "output_type": "stream",
     "text": [
      "<memory at 0x0000023095FF2E10>\n",
      "(4, 4)\n",
      "int32\n",
      "(16, 4)\n"
     ]
    }
   ],
   "source": [
    "print(a.data)\n",
    "print(a.shape)\n",
    "print(a.dtype)\n",
    "print(a.strides)#we are getting 16,4 because to reach next row we need to skip\n",
    "#16 bytes of data and to go to the next element in same row we need to skip 4 \n",
    "#bytes"
   ]
  },
  {
   "cell_type": "markdown",
   "metadata": {},
   "source": [
    "### just like lists we can access elements by providing indexes"
   ]
  },
  {
   "cell_type": "code",
   "execution_count": 71,
   "metadata": {},
   "outputs": [
    {
     "name": "stdout",
     "output_type": "stream",
     "text": [
      "4\n",
      "4\n"
     ]
    }
   ],
   "source": [
    "#1d array\n",
    "li=[1,2,3,4,5]\n",
    "a=np.array(li)\n",
    "print(li[3])\n",
    "print(a[3])\n"
   ]
  },
  {
   "cell_type": "code",
   "execution_count": 77,
   "metadata": {},
   "outputs": [
    {
     "name": "stdout",
     "output_type": "stream",
     "text": [
      "12\n",
      "12\n",
      "12\n"
     ]
    }
   ],
   "source": [
    "#2d array\n",
    "li=[[1,2,3,4],[5,6,7,8],[9,10,11,12],[13,14,15,16]]\n",
    "a=np.array(li)\n",
    "print(li[2][3])\n",
    "print(a[2][3])#we can access elements by specifying row numbers in separate \n",
    "#brackets like lists\n",
    "print(a[2,3])# or we can access them by providing row and column separated by a\n",
    "#comma in a bracket in a numpy array"
   ]
  },
  {
   "cell_type": "markdown",
   "metadata": {},
   "source": [
    "### Slicing elements"
   ]
  },
  {
   "cell_type": "code",
   "execution_count": 78,
   "metadata": {},
   "outputs": [
    {
     "name": "stdout",
     "output_type": "stream",
     "text": [
      "[1, 2, 3, 4, 5]\n",
      "[1 2 3 4 5]\n"
     ]
    }
   ],
   "source": [
    "#1d array\n",
    "li=[1,2,3,4,5]\n",
    "a=np.array(li)\n",
    "print(li)\n",
    "print(a)"
   ]
  },
  {
   "cell_type": "code",
   "execution_count": 80,
   "metadata": {},
   "outputs": [
    {
     "name": "stdout",
     "output_type": "stream",
     "text": [
      "[2, 3, 4]\n",
      "[3 4]\n"
     ]
    }
   ],
   "source": [
    "#access elements 2 to 4\n",
    "print(li[1:4])\n",
    "print(a[2:4])"
   ]
  },
  {
   "cell_type": "code",
   "execution_count": 81,
   "metadata": {},
   "outputs": [
    {
     "name": "stdout",
     "output_type": "stream",
     "text": [
      "[[1, 2, 3, 4], [5, 6, 7, 8], [9, 10, 11, 12], [13, 14, 15, 16]]\n",
      "\n",
      "[[ 1  2  3  4]\n",
      " [ 5  6  7  8]\n",
      " [ 9 10 11 12]\n",
      " [13 14 15 16]]\n"
     ]
    }
   ],
   "source": [
    "li=[[1,2,3,4],[5,6,7,8],[9,10,11,12],[13,14,15,16]]\n",
    "a=np.array(li)\n",
    "print(li,end='\\n\\n')\n",
    "print(a)"
   ]
  },
  {
   "cell_type": "code",
   "execution_count": 83,
   "metadata": {},
   "outputs": [
    {
     "name": "stdout",
     "output_type": "stream",
     "text": [
      "10\n",
      "10\n"
     ]
    }
   ],
   "source": [
    "#access 10\n",
    "print(li[2][1])\n",
    "print(a[2,1])"
   ]
  },
  {
   "cell_type": "code",
   "execution_count": 88,
   "metadata": {},
   "outputs": [
    {
     "name": "stdout",
     "output_type": "stream",
     "text": [
      "[5, 6, 7]\n",
      "[5 6 7]\n",
      "[5 6 7]\n"
     ]
    }
   ],
   "source": [
    "#access 5,6,7 i.e. elements in same row\n",
    "print(li[1][:3])\n",
    "print(a[1,:3])\n",
    "print(a[1][:3])\n"
   ]
  },
  {
   "cell_type": "code",
   "execution_count": 89,
   "metadata": {},
   "outputs": [
    {
     "ename": "IndexError",
     "evalue": "list index out of range",
     "output_type": "error",
     "traceback": [
      "\u001b[1;31m---------------------------------------------------------------------------\u001b[0m",
      "\u001b[1;31mIndexError\u001b[0m                                Traceback (most recent call last)",
      "\u001b[1;32m<ipython-input-89-a729037b8f95>\u001b[0m in \u001b[0;36m<module>\u001b[1;34m\u001b[0m\n\u001b[0;32m      1\u001b[0m \u001b[1;31m#access 4,8 ,12:elements in the same column\u001b[0m\u001b[1;33m\u001b[0m\u001b[1;33m\u001b[0m\u001b[1;33m\u001b[0m\u001b[0m\n\u001b[1;32m----> 2\u001b[1;33m \u001b[0mprint\u001b[0m\u001b[1;33m(\u001b[0m\u001b[0mli\u001b[0m\u001b[1;33m[\u001b[0m\u001b[1;36m0\u001b[0m\u001b[1;33m:\u001b[0m\u001b[1;36m3\u001b[0m\u001b[1;33m]\u001b[0m\u001b[1;33m[\u001b[0m\u001b[1;36m3\u001b[0m\u001b[1;33m]\u001b[0m\u001b[1;33m)\u001b[0m\u001b[1;33m\u001b[0m\u001b[1;33m\u001b[0m\u001b[0m\n\u001b[0m",
      "\u001b[1;31mIndexError\u001b[0m: list index out of range"
     ]
    }
   ],
   "source": [
    "#access 4,8 ,12:elements in the same column\n",
    "print(li[0:3][3])#this gives an error,see why in the next cell"
   ]
  },
  {
   "cell_type": "code",
   "execution_count": 90,
   "metadata": {},
   "outputs": [
    {
     "name": "stdout",
     "output_type": "stream",
     "text": [
      "[[1, 2, 3, 4], [5, 6, 7, 8], [9, 10, 11, 12]]\n"
     ]
    },
    {
     "ename": "IndexError",
     "evalue": "list index out of range",
     "output_type": "error",
     "traceback": [
      "\u001b[1;31m---------------------------------------------------------------------------\u001b[0m",
      "\u001b[1;31mIndexError\u001b[0m                                Traceback (most recent call last)",
      "\u001b[1;32m<ipython-input-90-dfda390f8d52>\u001b[0m in \u001b[0;36m<module>\u001b[1;34m\u001b[0m\n\u001b[0;32m      1\u001b[0m \u001b[0mx\u001b[0m\u001b[1;33m=\u001b[0m\u001b[0mli\u001b[0m\u001b[1;33m[\u001b[0m\u001b[1;36m0\u001b[0m\u001b[1;33m:\u001b[0m\u001b[1;36m3\u001b[0m\u001b[1;33m]\u001b[0m\u001b[1;33m\u001b[0m\u001b[1;33m\u001b[0m\u001b[0m\n\u001b[0;32m      2\u001b[0m \u001b[0mprint\u001b[0m\u001b[1;33m(\u001b[0m\u001b[0mx\u001b[0m\u001b[1;33m)\u001b[0m\u001b[1;33m\u001b[0m\u001b[1;33m\u001b[0m\u001b[0m\n\u001b[1;32m----> 3\u001b[1;33m \u001b[0mprint\u001b[0m\u001b[1;33m(\u001b[0m\u001b[0mx\u001b[0m\u001b[1;33m[\u001b[0m\u001b[1;36m3\u001b[0m\u001b[1;33m]\u001b[0m\u001b[1;33m)\u001b[0m\u001b[1;33m\u001b[0m\u001b[1;33m\u001b[0m\u001b[0m\n\u001b[0m",
      "\u001b[1;31mIndexError\u001b[0m: list index out of range"
     ]
    }
   ],
   "source": [
    "x=li[0:3]\n",
    "print(x)\n",
    "print(x[3])#so first list is converted to sliced list and then we can access\n",
    "# element but there are indexes till 2 in x so we get an error"
   ]
  },
  {
   "cell_type": "code",
   "execution_count": 94,
   "metadata": {},
   "outputs": [
    {
     "name": "stdout",
     "output_type": "stream",
     "text": [
      "[[1, 2, 3, 4], [5, 6, 7, 8], [9, 10, 11, 12]]\n",
      "output: [9, 10, 11, 12]\n"
     ]
    }
   ],
   "source": [
    "x=li[0:3]\n",
    "print(x)\n",
    "\n",
    "print('output:',x[2])"
   ]
  },
  {
   "cell_type": "code",
   "execution_count": 92,
   "metadata": {},
   "outputs": [
    {
     "name": "stdout",
     "output_type": "stream",
     "text": [
      "[9, 10, 11, 12]\n"
     ]
    }
   ],
   "source": [
    "print(li[0:3][2])#so we are not getting the output we wanted which was 4,8,12"
   ]
  },
  {
   "cell_type": "code",
   "execution_count": 100,
   "metadata": {},
   "outputs": [
    {
     "name": "stdout",
     "output_type": "stream",
     "text": [
      "[ 4  8 12]\n"
     ]
    }
   ],
   "source": [
    "#but numpy arrays can make our life easy for accessing elements in same column\n",
    "print(a[:3,3])#accessing 3rd index for rows 0 to 2"
   ]
  },
  {
   "cell_type": "code",
   "execution_count": 102,
   "metadata": {},
   "outputs": [
    {
     "name": "stdout",
     "output_type": "stream",
     "text": [
      "[[10 11]\n",
      " [14 15]]\n"
     ]
    }
   ],
   "source": [
    "#extract 10 11 14 15 using numpy\n",
    "print(a[2:4,1:3])"
   ]
  },
  {
   "cell_type": "code",
   "execution_count": 103,
   "metadata": {},
   "outputs": [
    {
     "name": "stdout",
     "output_type": "stream",
     "text": [
      "[[13, 14, 15, 16]]\n"
     ]
    }
   ],
   "source": [
    "#trying to do it using list\n",
    "print(li[2:4][1:3])#did not work"
   ]
  },
  {
   "cell_type": "markdown",
   "metadata": {},
   "source": [
    "#### NUMPY MAKES OUR LIFE VERY EASY for working on matrices"
   ]
  },
  {
   "cell_type": "code",
   "execution_count": 110,
   "metadata": {},
   "outputs": [
    {
     "name": "stdout",
     "output_type": "stream",
     "text": [
      "[[1, 2, 3, 4, 5], [6, 7, 8, 9, 10], [11, 12, 13, 14, 15], [16, 17, 18, 19, 20]]\n",
      "[[ 1  2  3  4  5]\n",
      " [ 6  7  8  9 10]\n",
      " [11 12 13 14 15]\n",
      " [16 17 18 19 20]]\n"
     ]
    }
   ],
   "source": [
    "#ASSIGNMENT: access elements in numpy array\n",
    "li=[]\n",
    "ctr=1\n",
    "for i in range(4):\n",
    "    temp=[]\n",
    "    for j in range(5):\n",
    "        temp.append(ctr)\n",
    "        ctr+=1\n",
    "    li.append(temp)\n",
    "print(li)\n",
    "a=np.array(li)\n",
    "print(a)"
   ]
  },
  {
   "cell_type": "code",
   "execution_count": 111,
   "metadata": {},
   "outputs": [
    {
     "name": "stdout",
     "output_type": "stream",
     "text": [
      "[11 12 13]\n"
     ]
    }
   ],
   "source": [
    "#access 11,12,13\n",
    "print(a[2,0:3])"
   ]
  },
  {
   "cell_type": "code",
   "execution_count": 112,
   "metadata": {},
   "outputs": [
    {
     "name": "stdout",
     "output_type": "stream",
     "text": [
      "[ 9 14 19]\n"
     ]
    }
   ],
   "source": [
    "#access 9,14,19\n",
    "print(a[1:4,3])"
   ]
  },
  {
   "cell_type": "code",
   "execution_count": 113,
   "metadata": {},
   "outputs": [
    {
     "name": "stdout",
     "output_type": "stream",
     "text": [
      "[[11 12 13 14 15]\n",
      " [16 17 18 19 20]]\n"
     ]
    }
   ],
   "source": [
    "#access 3rd and 4th row\n",
    "print(a[2:4])"
   ]
  },
  {
   "cell_type": "code",
   "execution_count": 114,
   "metadata": {},
   "outputs": [
    {
     "name": "stdout",
     "output_type": "stream",
     "text": [
      "[[ 7  8]\n",
      " [12 13]]\n"
     ]
    }
   ],
   "source": [
    "#access 7,8,12,13\n",
    "print(a[1:3,1:3])"
   ]
  },
  {
   "cell_type": "markdown",
   "metadata": {},
   "source": [
    "### MATHEMATICAL OPERATIONS comparison of NUMPY WITH NORMAL LISTS"
   ]
  },
  {
   "cell_type": "code",
   "execution_count": 4,
   "metadata": {},
   "outputs": [
    {
     "name": "stdout",
     "output_type": "stream",
     "text": [
      "[1, 2, 3, 4, 5]\n",
      "[17  6  7  2  7]\n",
      "[9 3 2 9 3 9 2]\n"
     ]
    }
   ],
   "source": [
    "li=[1,2,3,4,5]\n",
    "a=np.random.randint(1,20,5)\n",
    "b=np.random.randint(1,10,7)\n",
    "print(li)\n",
    "print(a)\n",
    "print(b)\n"
   ]
  },
  {
   "cell_type": "code",
   "execution_count": 5,
   "metadata": {},
   "outputs": [
    {
     "name": "stdout",
     "output_type": "stream",
     "text": [
      "[2, 3, 4, 5, 6]\n"
     ]
    }
   ],
   "source": [
    "#adding 1 to each element in a list\n",
    "li= [i+1 for i in li]\n",
    "print(li)"
   ]
  },
  {
   "cell_type": "code",
   "execution_count": 6,
   "metadata": {},
   "outputs": [
    {
     "name": "stdout",
     "output_type": "stream",
     "text": [
      "[18  7  8  3  8]\n",
      "[14  8  7 14  8 14  7]\n"
     ]
    }
   ],
   "source": [
    "#adding 1 to each element in numpy array\n",
    "a=a+1\n",
    "b=b+5\n",
    "print(a)\n",
    "print(b)"
   ]
  },
  {
   "cell_type": "code",
   "execution_count": 9,
   "metadata": {},
   "outputs": [
    {
     "name": "stdout",
     "output_type": "stream",
     "text": [
      "[9 4 7 2 3 3 5]\n",
      "[23 12 14 16 11 17 12]\n"
     ]
    }
   ],
   "source": [
    "#adding two matrices(can only be added if dimension is same)\n",
    "c=np.random.randint(1,10,7)\n",
    "d=b+c\n",
    "print(c)\n",
    "print(d)"
   ]
  },
  {
   "cell_type": "code",
   "execution_count": 10,
   "metadata": {},
   "outputs": [
    {
     "name": "stdout",
     "output_type": "stream",
     "text": [
      "[ 5  4  0 12  5 11  2]\n"
     ]
    }
   ],
   "source": [
    "#subtracting matrices value by value\n",
    "d=b-c\n",
    "print(d)"
   ]
  },
  {
   "cell_type": "code",
   "execution_count": 11,
   "metadata": {},
   "outputs": [
    {
     "name": "stdout",
     "output_type": "stream",
     "text": [
      "[126  32  49  28  24  42  35]\n"
     ]
    }
   ],
   "source": [
    "#multiplying matrices value by value\n",
    "d=b*c\n",
    "print(d)"
   ]
  },
  {
   "cell_type": "code",
   "execution_count": 12,
   "metadata": {},
   "outputs": [
    {
     "name": "stdout",
     "output_type": "stream",
     "text": [
      "[1.55555556 2.         1.         7.         2.66666667 4.66666667\n",
      " 1.4       ]\n"
     ]
    }
   ],
   "source": [
    "#dividing matrices value by value\n",
    "d=b/c\n",
    "print(d)"
   ]
  },
  {
   "cell_type": "code",
   "execution_count": 13,
   "metadata": {},
   "outputs": [
    {
     "name": "stdout",
     "output_type": "stream",
     "text": [
      "[1 2 1 7 2 4 1]\n"
     ]
    }
   ],
   "source": [
    "#dividing matrices value by value(floor division)\n",
    "d=b//c\n",
    "print(d)"
   ]
  },
  {
   "cell_type": "code",
   "execution_count": 14,
   "metadata": {},
   "outputs": [
    {
     "name": "stdout",
     "output_type": "stream",
     "text": [
      "[-813789696       4096     823543        196        512       2744\n",
      "      16807]\n"
     ]
    }
   ],
   "source": [
    "#exponientiate one matrix to another\n",
    "d=b**c\n",
    "print(d)"
   ]
  },
  {
   "cell_type": "code",
   "execution_count": 15,
   "metadata": {},
   "outputs": [
    {
     "name": "stdout",
     "output_type": "stream",
     "text": [
      "44\n"
     ]
    }
   ],
   "source": [
    "#get sum of array\n",
    "print(a.sum())"
   ]
  },
  {
   "cell_type": "code",
   "execution_count": 16,
   "metadata": {},
   "outputs": [
    {
     "name": "stdout",
     "output_type": "stream",
     "text": [
      "8.8\n"
     ]
    }
   ],
   "source": [
    "#get mean or average\n",
    "print(a.mean())"
   ]
  },
  {
   "cell_type": "code",
   "execution_count": 17,
   "metadata": {},
   "outputs": [
    {
     "name": "stdout",
     "output_type": "stream",
     "text": [
      "3\n"
     ]
    }
   ],
   "source": [
    "#get min element\n",
    "print(a.min())"
   ]
  },
  {
   "cell_type": "code",
   "execution_count": 18,
   "metadata": {},
   "outputs": [
    {
     "name": "stdout",
     "output_type": "stream",
     "text": [
      "[18  7  8  3  8]\n",
      "3\n"
     ]
    }
   ],
   "source": [
    "#get index of min element\n",
    "print(a)\n",
    "print(a.argmin())#3 is present at index 3"
   ]
  },
  {
   "cell_type": "code",
   "execution_count": 19,
   "metadata": {},
   "outputs": [
    {
     "name": "stdout",
     "output_type": "stream",
     "text": [
      "18\n"
     ]
    }
   ],
   "source": [
    "#get max element\n",
    "print(a.max())"
   ]
  },
  {
   "cell_type": "code",
   "execution_count": 20,
   "metadata": {},
   "outputs": [
    {
     "name": "stdout",
     "output_type": "stream",
     "text": [
      "[18  7  8  3  8]\n",
      "0\n"
     ]
    }
   ],
   "source": [
    "#get index of max element\n",
    "print(a)\n",
    "print(a.argmax())#18 is present at index 0"
   ]
  },
  {
   "cell_type": "markdown",
   "metadata": {},
   "source": [
    "#### LOGICAL  and COMPARISON OPERATIONS ON MATRICES"
   ]
  },
  {
   "cell_type": "code",
   "execution_count": 23,
   "metadata": {},
   "outputs": [
    {
     "name": "stdout",
     "output_type": "stream",
     "text": [
      "[14  8  7 14  8 14  7]\n",
      "[9 4 7 2 3 3 5]\n"
     ]
    }
   ],
   "source": [
    "print(b)\n",
    "print(c)"
   ]
  },
  {
   "cell_type": "code",
   "execution_count": 25,
   "metadata": {},
   "outputs": [
    {
     "name": "stdout",
     "output_type": "stream",
     "text": [
      "[ True  True False  True  True  True  True]\n"
     ]
    }
   ],
   "source": [
    "print(b>c)#compares element wise(but dimension of arrays should be same)"
   ]
  },
  {
   "cell_type": "code",
   "execution_count": 26,
   "metadata": {},
   "outputs": [
    {
     "name": "stdout",
     "output_type": "stream",
     "text": [
      "[False False  True False False False False]\n"
     ]
    }
   ],
   "source": [
    "print(b==c)"
   ]
  },
  {
   "cell_type": "code",
   "execution_count": 27,
   "metadata": {},
   "outputs": [
    {
     "name": "stdout",
     "output_type": "stream",
     "text": [
      "[False False False False False False False]\n"
     ]
    }
   ],
   "source": [
    "print(b<c)"
   ]
  },
  {
   "cell_type": "code",
   "execution_count": 33,
   "metadata": {},
   "outputs": [
    {
     "name": "stdout",
     "output_type": "stream",
     "text": [
      "[ True  True  True  True  True  True  True]\n",
      "[False False False False False False False]\n"
     ]
    }
   ],
   "source": [
    "#logical operations on matrix\n",
    "print(np.logical_or(b,c))#logical or\n",
    "print(np.logical_and(b,c))#logical and\n"
   ]
  },
  {
   "cell_type": "code",
   "execution_count": 35,
   "metadata": {},
   "outputs": [
    {
     "name": "stdout",
     "output_type": "stream",
     "text": [
      "[False False False False False]\n",
      "[False False  True False False]\n"
     ]
    }
   ],
   "source": [
    "#logical not of an array tells how many elements are 0\n",
    "print(np.logical_not(a))\n",
    "a[2]=0#updating 2nd index to 2\n",
    "print(np.logical_not(a))"
   ]
  },
  {
   "cell_type": "markdown",
   "metadata": {},
   "source": [
    "## BOOLEAN INDEXING"
   ]
  },
  {
   "cell_type": "code",
   "execution_count": 36,
   "metadata": {},
   "outputs": [
    {
     "name": "stdout",
     "output_type": "stream",
     "text": [
      "[ 4  7  1 10  4 10 18  9 19]\n"
     ]
    }
   ],
   "source": [
    "a=np.random.randint(1,20,9)\n",
    "print(a)"
   ]
  },
  {
   "cell_type": "code",
   "execution_count": 40,
   "metadata": {},
   "outputs": [
    {
     "name": "stdout",
     "output_type": "stream",
     "text": [
      "[ True  True  True False  True False False  True False]\n"
     ]
    }
   ],
   "source": [
    "b=a<10\n",
    "print(b)"
   ]
  },
  {
   "cell_type": "code",
   "execution_count": 41,
   "metadata": {},
   "outputs": [
    {
     "name": "stdout",
     "output_type": "stream",
     "text": [
      "[4 7 1 4 9]\n"
     ]
    }
   ],
   "source": [
    "#if a boolean array is passed instead of index we will get only those elements\n",
    "#for which the boolean index is true\n",
    "print(a[b])#b is the boolean array"
   ]
  },
  {
   "cell_type": "code",
   "execution_count": 43,
   "metadata": {},
   "outputs": [
    {
     "name": "stdout",
     "output_type": "stream",
     "text": [
      "[4 7 1 4 9]\n"
     ]
    }
   ],
   "source": [
    "#we can do it directly also by specifying conditions\n",
    "ans=a[a<10]\n",
    "print(ans)"
   ]
  },
  {
   "cell_type": "code",
   "execution_count": 48,
   "metadata": {},
   "outputs": [
    {
     "name": "stdout",
     "output_type": "stream",
     "text": [
      "[ 7 10 10 18  9]\n"
     ]
    }
   ],
   "source": [
    "#using more than one condition\n",
    "ans=a[(a>5) & (a<19)]#logical and for conditions\n",
    "print(ans)"
   ]
  },
  {
   "cell_type": "code",
   "execution_count": 53,
   "metadata": {},
   "outputs": [
    {
     "name": "stdout",
     "output_type": "stream",
     "text": [
      "[18 15 12  6 23 11 22 17 12]\n",
      "[15 15 15 15 23 11 22 17 12]\n",
      "[15 15 15 15 23 11 22 17 12]\n"
     ]
    }
   ],
   "source": [
    "#changing multiple values in array\n",
    "b=np.random.randint(5,25,9)\n",
    "c=b\n",
    "print(b)\n",
    "c[:4]=15#makes all elements lesser than 4th index to 15\n",
    "print(c)\n",
    "print(b)#so numpy arrays are also mutable b and c point to the same array"
   ]
  },
  {
   "cell_type": "code",
   "execution_count": 55,
   "metadata": {},
   "outputs": [
    {
     "name": "stdout",
     "output_type": "stream",
     "text": [
      "[ 6 24 15 13 24 21  8 18 16]\n",
      "[  6 100  15  13 100 100   8 100 100]\n"
     ]
    }
   ],
   "source": [
    "#updating values based on some condition\n",
    "b=np.random.randint(5,25,9)\n",
    "print(b)\n",
    "b[b>15]=100\n",
    "print(b)"
   ]
  },
  {
   "cell_type": "code",
   "execution_count": 56,
   "metadata": {},
   "outputs": [
    {
     "name": "stdout",
     "output_type": "stream",
     "text": [
      "(array([1, 4, 5, 7, 8], dtype=int64),)\n"
     ]
    }
   ],
   "source": [
    "#get indexes where condition is satisfied\n",
    "print(np.where(b==100))#np.where gives us indexes based on some condition\n",
    "#where it is being satisfied"
   ]
  },
  {
   "cell_type": "code",
   "execution_count": 60,
   "metadata": {},
   "outputs": [
    {
     "name": "stdout",
     "output_type": "stream",
     "text": [
      "['t' 'b' 'r' 'd' 'e' 'f' 'z' 'a' 'k']\n",
      "[  6 100  15  13 100 100   8 100 100]\n",
      "['b' 'e' 'f' 'a' 'k']\n"
     ]
    }
   ],
   "source": [
    "#combining conditions of 2 arrays\n",
    "a=np.array(['t','b','r','d','e','f','z','a','k'])\n",
    "#dimensions should be same for a and b\n",
    "print(a)\n",
    "print(b)\n",
    "#combine 2 arrays\n",
    "ind=np.where(b==100)\n",
    "\n",
    "print(a[ind])"
   ]
  },
  {
   "cell_type": "code",
   "execution_count": 65,
   "metadata": {},
   "outputs": [
    {
     "name": "stdout",
     "output_type": "stream",
     "text": [
      "[array([0, 1, 4], dtype=int64)]\n"
     ]
    }
   ],
   "source": [
    "#ASSIGNMENT NON ZERO ELEMENTS INDEX\n",
    "a=np.array([1,2,0,0,4,0])\n",
    "print(list(np.where(a!=0)))"
   ]
  },
  {
   "cell_type": "code",
   "execution_count": 67,
   "metadata": {},
   "outputs": [
    {
     "name": "stdout",
     "output_type": "stream",
     "text": [
      "[ 1  3  5  7  9 11 13 15 17 19]\n",
      "(array([1, 4, 7], dtype=int64),)\n"
     ]
    }
   ],
   "source": [
    "# ASS:- FIND INDEX OF ELEMENTS WHICH ARE MULTIPLE OF 3\n",
    "a=np.linspace(1,19,10,dtype=int)\n",
    "print(a)\n",
    "print(np.where(a%3==0))"
   ]
  },
  {
   "cell_type": "code",
   "execution_count": 69,
   "metadata": {},
   "outputs": [
    {
     "name": "stdout",
     "output_type": "stream",
     "text": [
      "[ 1  2  3  4  5  6  7  8  9 10]\n",
      "[-1  2 -1  4 -1  6 -1  8 -1 10]\n"
     ]
    }
   ],
   "source": [
    "# ASS:- replace odd digits with -1 and print the array\n",
    "a=np.linspace(1,10,10,dtype=int)\n",
    "print(a)\n",
    "a[a%2!=0]=-1\n",
    "print(a)"
   ]
  },
  {
   "cell_type": "code",
   "execution_count": 4,
   "metadata": {},
   "outputs": [
    {
     "name": "stdout",
     "output_type": "stream",
     "text": [
      "6\n",
      "[11  2 13  1 15  6  0  8 19]\n"
     ]
    }
   ],
   "source": [
    "# ASS:- replace the first occurence of maximum value by 0\n",
    "a=np.array([11,2,13,1,15,6,27,8,19])\n",
    "ind=a.argmax()#get index of maximum element\n",
    "print(ind)\n",
    "a[ind]=0\n",
    "print(a)"
   ]
  },
  {
   "cell_type": "code",
   "execution_count": 77,
   "metadata": {},
   "outputs": [
    {
     "name": "stdout",
     "output_type": "stream",
     "text": [
      "[ 1  2  3  4  5  6  7  8  9 10]\n",
      "[ 1  2 -3 -4 -5 -6 -7 -8  9 10]\n"
     ]
    }
   ],
   "source": [
    "# ASS:- negate all elements which are between 3 and 8\n",
    "a=np.linspace(1,10,10,dtype=int)\n",
    "print(a)\n",
    "a[(a>=3) & (a<=8)]=-a[(a>=3) & (a<=8)]\n",
    "print(a)"
   ]
  },
  {
   "cell_type": "code",
   "execution_count": 95,
   "metadata": {},
   "outputs": [
    {
     "name": "stdout",
     "output_type": "stream",
     "text": [
      "[19 18 19 10 19 10 16 11 12 15]\n",
      "[153 162 171 157 167 145 163 176 145 150]\n",
      "(array([1, 2, 3, 4, 6, 7], dtype=int64),)\n",
      "18 162\n",
      "19 171\n",
      "10 157\n",
      "19 167\n",
      "16 163\n",
      "11 176\n"
     ]
    }
   ],
   "source": [
    "#ASS:- print age and heights of those students which are above 155 cm\n",
    "age=np.random.randint(10,22,size=10)\n",
    "height=np.random.randint(140,180,size=10)\n",
    "print(age)\n",
    "print(height)\n",
    "ind=np.where(height>155)#get index of those students whose height is above 155\n",
    "print(ind)#index is a tuple where at 0th index we have indexes\n",
    "for i in ind[0]:\n",
    "    print(age[i],height[i])"
   ]
  },
  {
   "cell_type": "markdown",
   "metadata": {},
   "source": [
    "## BOOLEAN INDEXING ON 2d arrays"
   ]
  },
  {
   "cell_type": "code",
   "execution_count": 16,
   "metadata": {},
   "outputs": [
    {
     "name": "stdout",
     "output_type": "stream",
     "text": [
      "[[21 13 26 28 17 28]\n",
      " [13 18 24  7  8 21]\n",
      " [ 8  5 24  2 16 28]\n",
      " [11 21 16  3  2  8]\n",
      " [ 8  2 21 13 27 25]]\n"
     ]
    }
   ],
   "source": [
    "a=np.random.randint(1,30,(5,6))#if end is not given then we need to specify\n",
    "#explicitly, if it is there then third parameter signifies size\n",
    "print(a)"
   ]
  },
  {
   "cell_type": "code",
   "execution_count": 17,
   "metadata": {},
   "outputs": [
    {
     "name": "stdout",
     "output_type": "stream",
     "text": [
      "[[ True False  True  True False  True]\n",
      " [False False  True False False  True]\n",
      " [False False  True False False  True]\n",
      " [False  True False False False False]\n",
      " [False False  True False  True  True]]\n"
     ]
    }
   ],
   "source": [
    "boolean=a>20\n",
    "print(boolean)"
   ]
  },
  {
   "cell_type": "code",
   "execution_count": 18,
   "metadata": {},
   "outputs": [
    {
     "name": "stdout",
     "output_type": "stream",
     "text": [
      "[21 26 28 28 24 21 24 28 21 21 27 25]\n"
     ]
    }
   ],
   "source": [
    "print(a[boolean])#we get the ans as 1d array\n",
    "#note:- if dimension of boolean array is not same as the original array we get \n",
    "#error"
   ]
  },
  {
   "cell_type": "code",
   "execution_count": 19,
   "metadata": {},
   "outputs": [
    {
     "ename": "IndexError",
     "evalue": "boolean index did not match indexed array along dimension 0; dimension is 2 but corresponding boolean dimension is 5",
     "output_type": "error",
     "traceback": [
      "\u001b[1;31m---------------------------------------------------------------------------\u001b[0m",
      "\u001b[1;31mIndexError\u001b[0m                                Traceback (most recent call last)",
      "\u001b[1;32m<ipython-input-19-358d61b52eaf>\u001b[0m in \u001b[0;36m<module>\u001b[1;34m\u001b[0m\n\u001b[0;32m      1\u001b[0m \u001b[0mc\u001b[0m\u001b[1;33m=\u001b[0m\u001b[0mnp\u001b[0m\u001b[1;33m.\u001b[0m\u001b[0mrandom\u001b[0m\u001b[1;33m.\u001b[0m\u001b[0mrandint\u001b[0m\u001b[1;33m(\u001b[0m\u001b[1;36m1\u001b[0m\u001b[1;33m,\u001b[0m\u001b[1;36m10\u001b[0m\u001b[1;33m,\u001b[0m\u001b[1;33m(\u001b[0m\u001b[1;36m2\u001b[0m\u001b[1;33m,\u001b[0m\u001b[1;36m2\u001b[0m\u001b[1;33m)\u001b[0m\u001b[1;33m)\u001b[0m\u001b[1;33m\u001b[0m\u001b[1;33m\u001b[0m\u001b[0m\n\u001b[1;32m----> 2\u001b[1;33m \u001b[0mc\u001b[0m\u001b[1;33m[\u001b[0m\u001b[0mboolean\u001b[0m\u001b[1;33m]\u001b[0m\u001b[1;31m#error\u001b[0m\u001b[1;33m\u001b[0m\u001b[1;33m\u001b[0m\u001b[0m\n\u001b[0m",
      "\u001b[1;31mIndexError\u001b[0m: boolean index did not match indexed array along dimension 0; dimension is 2 but corresponding boolean dimension is 5"
     ]
    }
   ],
   "source": [
    "c=np.random.randint(1,10,(2,2))\n",
    "c[boolean]#error"
   ]
  },
  {
   "cell_type": "code",
   "execution_count": 20,
   "metadata": {},
   "outputs": [
    {
     "name": "stdout",
     "output_type": "stream",
     "text": [
      "[[100  13 100 100  17 100]\n",
      " [ 13  18 100   7   8 100]\n",
      " [  8   5 100   2  16 100]\n",
      " [ 11 100  16   3   2   8]\n",
      " [  8   2 100  13 100 100]]\n"
     ]
    }
   ],
   "source": [
    "#example change elements greater than 20\n",
    "a[a>20]=100#same as 1d array\n",
    "print(a)"
   ]
  },
  {
   "cell_type": "code",
   "execution_count": 21,
   "metadata": {},
   "outputs": [
    {
     "name": "stdout",
     "output_type": "stream",
     "text": [
      "[[100  13 100 100  17 100]\n",
      " [ 13  18 100   7   8 100]\n",
      " [  8   5 100   2  16 100]\n",
      " [ 11 100  16   3   2   8]\n",
      " [  8   2 100  13 100 100]]\n"
     ]
    }
   ],
   "source": [
    "print(a)"
   ]
  },
  {
   "cell_type": "code",
   "execution_count": 22,
   "metadata": {},
   "outputs": [
    {
     "name": "stdout",
     "output_type": "stream",
     "text": [
      "[ True False False False False]\n",
      "[[100  13 100  99  17 100]\n",
      " [ 13  18 100   7   8 100]\n",
      " [  8   5 100   2  16 100]\n",
      " [ 11 100  16   3   2   8]\n",
      " [  8   2 100  13 100 100]]\n"
     ]
    }
   ],
   "source": [
    "#change values of column 3 where value is 100\n",
    "boolean_arr=a[:,3]==100\n",
    "print(boolean_arr)\n",
    "a[boolean_arr,3]=99#3 is the column number\n",
    "print(a)"
   ]
  },
  {
   "cell_type": "code",
   "execution_count": 23,
   "metadata": {},
   "outputs": [],
   "source": [
    "#note:- always use boolean arrays for manipulating indexes"
   ]
  },
  {
   "cell_type": "code",
   "execution_count": 24,
   "metadata": {},
   "outputs": [
    {
     "name": "stdout",
     "output_type": "stream",
     "text": [
      "[[21 20 19 18 17]\n",
      " [16 15 14 13 12]\n",
      " [11 10  9  8  7]\n",
      " [ 6  5  4  3  2]]\n",
      "\n",
      "[[21  5 19 18 17]\n",
      " [16 10 14 13 12]\n",
      " [11 15  9  8  7]\n",
      " [ 6 20  4  3  2]]\n"
     ]
    }
   ],
   "source": [
    "#ASS:- sort the 1st column of numpy array in ascending order\n",
    "a=[[21,20,19,18,17],[16,15,14,13,12],[11,10,9,8,7],[6,5,4,3,2]]\n",
    "b=np.array(a)\n",
    "print(b,end='\\n\\n')\n",
    "\n",
    "#sorting\n",
    "b[:,1].sort()\n",
    "print(b)"
   ]
  },
  {
   "cell_type": "markdown",
   "metadata": {},
   "source": [
    "## BROADCASTING-HOW TO TREAT THE UNEQUAL SIZE OF ARRAYS"
   ]
  },
  {
   "cell_type": "code",
   "execution_count": 26,
   "metadata": {},
   "outputs": [],
   "source": [
    "#SUPPOSE WE HAVE 2 ARRAYS A AND B OF DIMENSION (2,3) AND (3,2) AND IF WE TRY\n",
    "#TO PERFORM ANY MATHEMATICAL OPERATION ON IT THEN WE WOULD GET AN ERROR THAT \n",
    "#DIMENSIONS DONT MATCH,SO IN BROADCASTING WE WORK TOWARDS RESOLVING THAT ERROR\n",
    "import numpy as np"
   ]
  },
  {
   "cell_type": "code",
   "execution_count": 27,
   "metadata": {},
   "outputs": [],
   "source": [
    "#Rules of compatibility for performing operations\n",
    "# 1. Dimensions should be same\n",
    "# 2. One of them is a 1d array"
   ]
  },
  {
   "cell_type": "code",
   "execution_count": 28,
   "metadata": {},
   "outputs": [
    {
     "name": "stdout",
     "output_type": "stream",
     "text": [
      "[[7 9 7]\n",
      " [7 1 5]\n",
      " [2 2 9]]\n",
      "[[5 2 7]\n",
      " [4 5 9]\n",
      " [2 7 8]]\n",
      "[[ 2  7  0]\n",
      " [ 3 -4 -4]\n",
      " [ 0 -5  1]]\n"
     ]
    }
   ],
   "source": [
    "#same dimensions\n",
    "x=np.random.randint(1,10,(3,3))\n",
    "y=np.random.randint(1,10,(3,3))\n",
    "print(x)\n",
    "print(y)\n",
    "ans=x-y\n",
    "print(ans)"
   ]
  },
  {
   "cell_type": "code",
   "execution_count": 30,
   "metadata": {},
   "outputs": [
    {
     "name": "stdout",
     "output_type": "stream",
     "text": [
      "[[7 5 3]\n",
      " [8 9 6]\n",
      " [3 8 2]]\n",
      "[1 6 8]\n",
      "\n",
      "[[ 6 -1 -5]\n",
      " [ 7  3 -2]\n",
      " [ 2  2 -6]]\n"
     ]
    }
   ],
   "source": [
    "#one of them is a 1d array\n",
    "x=np.random.randint(1,10,(3,3))\n",
    "y=np.random.randint(1,10,3)\n",
    "print(x)\n",
    "print(y,end='\\n\\n')\n",
    "ans=x-y\n",
    "print(ans)# the 1d array is subtracted element by element from the \n",
    "#rows of 2d arrays,happening internally"
   ]
  },
  {
   "cell_type": "code",
   "execution_count": 54,
   "metadata": {},
   "outputs": [
    {
     "name": "stdout",
     "output_type": "stream",
     "text": [
      "[[1 1 8]\n",
      " [5 2 3]\n",
      " [9 9 6]]\n",
      "[2]\n",
      "\n",
      "[[-1 -1  6]\n",
      " [ 3  0  1]\n",
      " [ 7  7  4]]\n"
     ]
    }
   ],
   "source": [
    "#one of them is a 1d array\n",
    "x=np.random.randint(1,10,(3,3))\n",
    "y=np.random.randint(1,10,1)\n",
    "print(x)\n",
    "print(y,end='\\n\\n')\n",
    "ans=x-y\n",
    "print(ans)# the 1d array is subtracted element by element from the \n",
    "#rows of 2d arrays,happening internally"
   ]
  },
  {
   "cell_type": "code",
   "execution_count": 4,
   "metadata": {},
   "outputs": [
    {
     "name": "stdout",
     "output_type": "stream",
     "text": [
      "[[7 2 9]\n",
      " [5 7 4]\n",
      " [8 7 1]]\n",
      "[5 7]\n",
      "\n"
     ]
    },
    {
     "ename": "ValueError",
     "evalue": "operands could not be broadcast together with shapes (3,3) (2,) ",
     "output_type": "error",
     "traceback": [
      "\u001b[1;31m---------------------------------------------------------------------------\u001b[0m",
      "\u001b[1;31mValueError\u001b[0m                                Traceback (most recent call last)",
      "\u001b[1;32m<ipython-input-4-d513de0cc984>\u001b[0m in \u001b[0;36m<module>\u001b[1;34m\u001b[0m\n\u001b[0;32m      4\u001b[0m \u001b[0mprint\u001b[0m\u001b[1;33m(\u001b[0m\u001b[0mx\u001b[0m\u001b[1;33m)\u001b[0m\u001b[1;33m\u001b[0m\u001b[1;33m\u001b[0m\u001b[0m\n\u001b[0;32m      5\u001b[0m \u001b[0mprint\u001b[0m\u001b[1;33m(\u001b[0m\u001b[0my\u001b[0m\u001b[1;33m,\u001b[0m\u001b[0mend\u001b[0m\u001b[1;33m=\u001b[0m\u001b[1;34m'\\n\\n'\u001b[0m\u001b[1;33m)\u001b[0m\u001b[1;33m\u001b[0m\u001b[1;33m\u001b[0m\u001b[0m\n\u001b[1;32m----> 6\u001b[1;33m \u001b[0mans\u001b[0m\u001b[1;33m=\u001b[0m\u001b[0mx\u001b[0m\u001b[1;33m-\u001b[0m\u001b[0my\u001b[0m\u001b[1;33m\u001b[0m\u001b[1;33m\u001b[0m\u001b[0m\n\u001b[0m\u001b[0;32m      7\u001b[0m \u001b[0mprint\u001b[0m\u001b[1;33m(\u001b[0m\u001b[0mans\u001b[0m\u001b[1;33m)\u001b[0m\u001b[1;31m# the 1d array is subtracted element by element from the\u001b[0m\u001b[1;33m\u001b[0m\u001b[1;33m\u001b[0m\u001b[0m\n\u001b[0;32m      8\u001b[0m \u001b[1;31m#rows of 2d arrays,happening internally\u001b[0m\u001b[1;33m\u001b[0m\u001b[1;33m\u001b[0m\u001b[1;33m\u001b[0m\u001b[0m\n",
      "\u001b[1;31mValueError\u001b[0m: operands could not be broadcast together with shapes (3,3) (2,) "
     ]
    }
   ],
   "source": [
    "#one of them is a 1d array\n",
    "x=np.random.randint(1,10,(3,3))\n",
    "y=np.random.randint(1,10,2)#gives error\n",
    "print(x)\n",
    "print(y,end='\\n\\n')\n",
    "ans=x-y\n",
    "print(ans)# the 1d array is subtracted element by element from the \n",
    "#rows of 2d arrays,happening internally"
   ]
  },
  {
   "cell_type": "code",
   "execution_count": 56,
   "metadata": {},
   "outputs": [],
   "source": [
    "# we can only perform operations if one array is 2d of shape mxn \n",
    "# and second is 1d array of shape 1 or m or n"
   ]
  },
  {
   "cell_type": "code",
   "execution_count": 33,
   "metadata": {},
   "outputs": [
    {
     "name": "stdout",
     "output_type": "stream",
     "text": [
      "[[5 8 9]\n",
      " [7 3 3]]\n",
      "[[5 3]\n",
      " [5 6]\n",
      " [6 2]]\n",
      "\n"
     ]
    }
   ],
   "source": [
    "#shape not compatible\n",
    "x=np.random.randint(1,10,(2,3))\n",
    "y=np.random.randint(1,10,(3,2))\n",
    "print(x)\n",
    "print(y,end='\\n\\n')\n"
   ]
  },
  {
   "cell_type": "code",
   "execution_count": 34,
   "metadata": {},
   "outputs": [
    {
     "ename": "ValueError",
     "evalue": "operands could not be broadcast together with shapes (2,3) (3,2) ",
     "output_type": "error",
     "traceback": [
      "\u001b[1;31m---------------------------------------------------------------------------\u001b[0m",
      "\u001b[1;31mValueError\u001b[0m                                Traceback (most recent call last)",
      "\u001b[1;32m<ipython-input-34-71a47afcb451>\u001b[0m in \u001b[0;36m<module>\u001b[1;34m\u001b[0m\n\u001b[1;32m----> 1\u001b[1;33m \u001b[0mans\u001b[0m\u001b[1;33m=\u001b[0m\u001b[0mx\u001b[0m\u001b[1;33m-\u001b[0m\u001b[0my\u001b[0m\u001b[1;33m\u001b[0m\u001b[1;33m\u001b[0m\u001b[0m\n\u001b[0m\u001b[0;32m      2\u001b[0m \u001b[0mprint\u001b[0m\u001b[1;33m(\u001b[0m\u001b[0mans\u001b[0m\u001b[1;33m)\u001b[0m\u001b[1;33m\u001b[0m\u001b[1;33m\u001b[0m\u001b[0m\n",
      "\u001b[1;31mValueError\u001b[0m: operands could not be broadcast together with shapes (2,3) (3,2) "
     ]
    }
   ],
   "source": [
    "ans=x-y\n",
    "print(ans)"
   ]
  },
  {
   "cell_type": "code",
   "execution_count": 35,
   "metadata": {},
   "outputs": [],
   "source": [
    "#we can make them compatible,there are several ways:-\n",
    "# 1.transposing one of them-can only be done if their dimensions are symmetrical\n",
    "#i.e. (2,3)(3,2)\n",
    "# 2.resize()\n",
    "# 3.reshape()\n"
   ]
  },
  {
   "cell_type": "code",
   "execution_count": 38,
   "metadata": {},
   "outputs": [
    {
     "name": "stdout",
     "output_type": "stream",
     "text": [
      "[[5 8 9]\n",
      " [7 3 3]]\n",
      "[[5 3]\n",
      " [5 6]\n",
      " [6 2]]\n",
      "\n",
      "[[5 5 6]\n",
      " [3 6 2]]\n",
      "[[ 0  3  3]\n",
      " [ 4 -3  1]]\n"
     ]
    }
   ],
   "source": [
    "#transpose\n",
    "print(x)\n",
    "print(y,end='\\n\\n')\n",
    "z=np.transpose(y)\n",
    "print(z)\n",
    "\n",
    "ans=x-z\n",
    "print(ans)#no error"
   ]
  },
  {
   "cell_type": "code",
   "execution_count": 43,
   "metadata": {},
   "outputs": [
    {
     "name": "stdout",
     "output_type": "stream",
     "text": [
      "[1 2 3]\n",
      "[1 2 3 1]\n",
      "[1 2 3 1 2]\n",
      "[1 2 3 1 2 3]\n"
     ]
    }
   ],
   "source": [
    "#2.resize:- returns a resized array with same elements\n",
    "li=[1,2,3]\n",
    "a=np.array(li)\n",
    "print(a)\n",
    "print(np.resize(a,(4)))\n",
    "print(np.resize(a,(5)))\n",
    "print(np.resize(a,(6)))#observe that it returns redundant values from array a"
   ]
  },
  {
   "cell_type": "code",
   "execution_count": 48,
   "metadata": {},
   "outputs": [
    {
     "name": "stdout",
     "output_type": "stream",
     "text": [
      "[[1 2 3]\n",
      " [4 5 6]]\n",
      "---------------------\n",
      "[1 2 3 4]\n",
      "---------------------\n",
      "[1 2 3 4 5]\n",
      "---------------------\n",
      "[1 2 3 4 5 6]\n",
      "---------------------\n",
      "[[1 2 3 4 5 6]\n",
      " [1 2 3 4 5 6]\n",
      " [1 2 3 4 5 6]\n",
      " [1 2 3 4 5 6]\n",
      " [1 2 3 4 5 6]]\n",
      "---------------------\n",
      "[[1 2 3 4 5 6 1]\n",
      " [2 3 4 5 6 1 2]\n",
      " [3 4 5 6 1 2 3]\n",
      " [4 5 6 1 2 3 4]\n",
      " [5 6 1 2 3 4 5]\n",
      " [6 1 2 3 4 5 6]]\n"
     ]
    }
   ],
   "source": [
    "#2.resize:- returns a resized array with same elements (repeating in order if\n",
    "#indexes are more than original array\n",
    "li=[[1,2,3],[4,5,6]]\n",
    "a=np.array(li)\n",
    "print(a)\n",
    "print('---------------------')\n",
    "print(np.resize(a,(4)))\n",
    "print('---------------------')\n",
    "print(np.resize(a,(5)))\n",
    "print('---------------------')\n",
    "print(np.resize(a,(6)))\n",
    "print('---------------------')\n",
    "print(np.resize(a,(5,6)))\n",
    "print('---------------------')\n",
    "print(np.resize(a,(6,7)))#observe that it returns redundant values from array a"
   ]
  },
  {
   "cell_type": "code",
   "execution_count": 50,
   "metadata": {},
   "outputs": [
    {
     "name": "stdout",
     "output_type": "stream",
     "text": [
      "[[1 2 3]\n",
      " [4 5 6]]\n",
      "---------------------\n"
     ]
    },
    {
     "ename": "ValueError",
     "evalue": "cannot reshape array of size 6 into shape (5,6)",
     "output_type": "error",
     "traceback": [
      "\u001b[1;31m---------------------------------------------------------------------------\u001b[0m",
      "\u001b[1;31mValueError\u001b[0m                                Traceback (most recent call last)",
      "\u001b[1;32m<ipython-input-50-d4d94b8adb19>\u001b[0m in \u001b[0;36m<module>\u001b[1;34m\u001b[0m\n\u001b[0;32m      4\u001b[0m \u001b[0mprint\u001b[0m\u001b[1;33m(\u001b[0m\u001b[0ma\u001b[0m\u001b[1;33m)\u001b[0m\u001b[1;33m\u001b[0m\u001b[1;33m\u001b[0m\u001b[0m\n\u001b[0;32m      5\u001b[0m \u001b[0mprint\u001b[0m\u001b[1;33m(\u001b[0m\u001b[1;34m'---------------------'\u001b[0m\u001b[1;33m)\u001b[0m\u001b[1;33m\u001b[0m\u001b[1;33m\u001b[0m\u001b[0m\n\u001b[1;32m----> 6\u001b[1;33m \u001b[0mb\u001b[0m\u001b[1;33m=\u001b[0m\u001b[0mnp\u001b[0m\u001b[1;33m.\u001b[0m\u001b[0mreshape\u001b[0m\u001b[1;33m(\u001b[0m\u001b[0ma\u001b[0m\u001b[1;33m,\u001b[0m\u001b[1;33m(\u001b[0m\u001b[1;36m5\u001b[0m\u001b[1;33m,\u001b[0m\u001b[1;36m6\u001b[0m\u001b[1;33m)\u001b[0m\u001b[1;33m)\u001b[0m\u001b[1;33m\u001b[0m\u001b[1;33m\u001b[0m\u001b[0m\n\u001b[0m",
      "\u001b[1;32m<__array_function__ internals>\u001b[0m in \u001b[0;36mreshape\u001b[1;34m(*args, **kwargs)\u001b[0m\n",
      "\u001b[1;32m~\\Anaconda3\\lib\\site-packages\\numpy\\core\\fromnumeric.py\u001b[0m in \u001b[0;36mreshape\u001b[1;34m(a, newshape, order)\u001b[0m\n\u001b[0;32m    297\u001b[0m            [5, 6]])\n\u001b[0;32m    298\u001b[0m     \"\"\"\n\u001b[1;32m--> 299\u001b[1;33m     \u001b[1;32mreturn\u001b[0m \u001b[0m_wrapfunc\u001b[0m\u001b[1;33m(\u001b[0m\u001b[0ma\u001b[0m\u001b[1;33m,\u001b[0m \u001b[1;34m'reshape'\u001b[0m\u001b[1;33m,\u001b[0m \u001b[0mnewshape\u001b[0m\u001b[1;33m,\u001b[0m \u001b[0morder\u001b[0m\u001b[1;33m=\u001b[0m\u001b[0morder\u001b[0m\u001b[1;33m)\u001b[0m\u001b[1;33m\u001b[0m\u001b[1;33m\u001b[0m\u001b[0m\n\u001b[0m\u001b[0;32m    300\u001b[0m \u001b[1;33m\u001b[0m\u001b[0m\n\u001b[0;32m    301\u001b[0m \u001b[1;33m\u001b[0m\u001b[0m\n",
      "\u001b[1;32m~\\Anaconda3\\lib\\site-packages\\numpy\\core\\fromnumeric.py\u001b[0m in \u001b[0;36m_wrapfunc\u001b[1;34m(obj, method, *args, **kwds)\u001b[0m\n\u001b[0;32m     56\u001b[0m \u001b[1;33m\u001b[0m\u001b[0m\n\u001b[0;32m     57\u001b[0m     \u001b[1;32mtry\u001b[0m\u001b[1;33m:\u001b[0m\u001b[1;33m\u001b[0m\u001b[1;33m\u001b[0m\u001b[0m\n\u001b[1;32m---> 58\u001b[1;33m         \u001b[1;32mreturn\u001b[0m \u001b[0mbound\u001b[0m\u001b[1;33m(\u001b[0m\u001b[1;33m*\u001b[0m\u001b[0margs\u001b[0m\u001b[1;33m,\u001b[0m \u001b[1;33m**\u001b[0m\u001b[0mkwds\u001b[0m\u001b[1;33m)\u001b[0m\u001b[1;33m\u001b[0m\u001b[1;33m\u001b[0m\u001b[0m\n\u001b[0m\u001b[0;32m     59\u001b[0m     \u001b[1;32mexcept\u001b[0m \u001b[0mTypeError\u001b[0m\u001b[1;33m:\u001b[0m\u001b[1;33m\u001b[0m\u001b[1;33m\u001b[0m\u001b[0m\n\u001b[0;32m     60\u001b[0m         \u001b[1;31m# A TypeError occurs if the object does have such a method in its\u001b[0m\u001b[1;33m\u001b[0m\u001b[1;33m\u001b[0m\u001b[1;33m\u001b[0m\u001b[0m\n",
      "\u001b[1;31mValueError\u001b[0m: cannot reshape array of size 6 into shape (5,6)"
     ]
    }
   ],
   "source": [
    "#3.reshape:returns a reshaped array without changing its data(the no. of\n",
    "#elements in changed array should be same as they were in original\n",
    "li=[[1,2,3],[4,5,6]]\n",
    "a=np.array(li)\n",
    "print(a)\n",
    "print('---------------------')\n",
    "b=np.reshape(a,(5,6))#gives error as there are 6 elements in a and there would \n",
    "#be 30 elements in array of shape(5,6)\n",
    "\n"
   ]
  },
  {
   "cell_type": "code",
   "execution_count": 51,
   "metadata": {},
   "outputs": [
    {
     "name": "stdout",
     "output_type": "stream",
     "text": [
      "[[1 2 3]\n",
      " [4 5 6]]\n",
      "---------------------\n",
      "[[1 2]\n",
      " [3 4]\n",
      " [5 6]]\n",
      "---------------------\n",
      "[[1 2 3]\n",
      " [4 5 6]]\n",
      "---------------------\n"
     ]
    }
   ],
   "source": [
    "#3.reshape:returns a reshaped array without changing its data\n",
    "li=[[1,2,3],[4,5,6]]\n",
    "a=np.array(li)\n",
    "print(a)\n",
    "print('---------------------')\n",
    "#no error\n",
    "b=np.reshape(a,(3,2)) \n",
    "print(b)\n",
    "print('---------------------')\n",
    "c=np.reshape(a,(2,3))\n",
    "print(c)\n",
    "print('---------------------')"
   ]
  },
  {
   "cell_type": "code",
   "execution_count": 58,
   "metadata": {},
   "outputs": [
    {
     "name": "stdout",
     "output_type": "stream",
     "text": [
      "[[6 2 1]]\n",
      "---------------------\n",
      "[[6]\n",
      " [5]\n",
      " [9]]\n",
      "---------------------\n",
      "[[ 0 -4 -5]\n",
      " [ 1 -3 -4]\n",
      " [-3 -7 -8]]\n",
      "---------------------\n"
     ]
    }
   ],
   "source": [
    "#EXAMPLES OF BROADCASTING\n",
    "#1.arrays of shape(1,3) and (3,1)\n",
    "a=np.random.randint(1,10,(1,3))\n",
    "print(a)\n",
    "print('---------------------')\n",
    "b=np.random.randint(1,10,(3,1))\n",
    "print(b)\n",
    "print('---------------------')\n",
    "ans=a-b#broadcasting happens and we get output as a 3x3 matrix\n",
    "print(ans)\n",
    "print('---------------------')\n"
   ]
  },
  {
   "cell_type": "code",
   "execution_count": 59,
   "metadata": {},
   "outputs": [
    {
     "name": "stdout",
     "output_type": "stream",
     "text": [
      "[[6 5 5]]\n",
      "---------------------\n",
      "[[9]]\n",
      "---------------------\n",
      "[[-3 -4 -4]]\n",
      "---------------------\n"
     ]
    }
   ],
   "source": [
    "#2.arrays of shape(1,3) and (1,1)\n",
    "a=np.random.randint(1,10,(1,3))\n",
    "print(a)\n",
    "print('---------------------')\n",
    "b=np.random.randint(1,10,(1,1))\n",
    "print(b)\n",
    "print('---------------------')\n",
    "ans=a-b#broadcasting happens and we get output as a 1x3 matrix\n",
    "print(ans)\n",
    "print('---------------------')\n"
   ]
  },
  {
   "cell_type": "code",
   "execution_count": 61,
   "metadata": {},
   "outputs": [
    {
     "name": "stdout",
     "output_type": "stream",
     "text": [
      "[[9 3 9]]\n",
      "---------------------\n",
      "[[1 3 8]\n",
      " [1 6 2]\n",
      " [4 3 3]]\n",
      "---------------------\n",
      "[[ 8  0  1]\n",
      " [ 8 -3  7]\n",
      " [ 5  0  6]]\n",
      "---------------------\n"
     ]
    }
   ],
   "source": [
    "#3. arrays of shape(1,3) and (3,3)\n",
    "a=np.random.randint(1,10,(1,3))\n",
    "print(a)\n",
    "print('---------------------')\n",
    "b=np.random.randint(1,10,(3,3))\n",
    "print(b)\n",
    "print('---------------------')\n",
    "ans=a-b#broadcasting happens and we get output as a 3x3 matrix\n",
    "print(ans)\n",
    "print('---------------------')\n"
   ]
  },
  {
   "cell_type": "markdown",
   "metadata": {},
   "source": [
    "## WORKING ON A REAL LIFE EXAMPLE"
   ]
  },
  {
   "cell_type": "code",
   "execution_count": 14,
   "metadata": {},
   "outputs": [
    {
     "ename": "ValueError",
     "evalue": "invalid literal for int() with base 10: '1.0'",
     "output_type": "error",
     "traceback": [
      "\u001b[1;31m---------------------------------------------------------------------------\u001b[0m",
      "\u001b[1;31mValueError\u001b[0m                                Traceback (most recent call last)",
      "\u001b[1;32m<ipython-input-14-f20d8e3cfe35>\u001b[0m in \u001b[0;36m<module>\u001b[1;34m\u001b[0m\n\u001b[0;32m     13\u001b[0m         \u001b[0mwounded\u001b[0m\u001b[1;33m.\u001b[0m\u001b[0mappend\u001b[0m\u001b[1;33m(\u001b[0m\u001b[0mrow\u001b[0m\u001b[1;33m[\u001b[0m\u001b[1;34m'Wounded'\u001b[0m\u001b[1;33m]\u001b[0m\u001b[1;33m)\u001b[0m\u001b[1;33m\u001b[0m\u001b[1;33m\u001b[0m\u001b[0m\n\u001b[0;32m     14\u001b[0m         \u001b[0mcountry\u001b[0m\u001b[1;33m.\u001b[0m\u001b[0mappend\u001b[0m\u001b[1;33m(\u001b[0m\u001b[0mrow\u001b[0m\u001b[1;33m[\u001b[0m\u001b[1;34m'Country'\u001b[0m\u001b[1;33m]\u001b[0m\u001b[1;33m)\u001b[0m\u001b[1;33m\u001b[0m\u001b[1;33m\u001b[0m\u001b[0m\n\u001b[1;32m---> 15\u001b[1;33m \u001b[0mnp_killed\u001b[0m\u001b[1;33m=\u001b[0m\u001b[0mnp\u001b[0m\u001b[1;33m.\u001b[0m\u001b[0marray\u001b[0m\u001b[1;33m(\u001b[0m\u001b[0mkilled\u001b[0m\u001b[1;33m,\u001b[0m\u001b[0mdtype\u001b[0m\u001b[1;33m=\u001b[0m\u001b[0mint\u001b[0m\u001b[1;33m)\u001b[0m\u001b[1;33m\u001b[0m\u001b[1;33m\u001b[0m\u001b[0m\n\u001b[0m",
      "\u001b[1;31mValueError\u001b[0m: invalid literal for int() with base 10: '1.0'"
     ]
    }
   ],
   "source": [
    "#year2017.csv\n",
    "#calculate killed + wounded \n",
    "import csv\n",
    "import numpy as np\n",
    "\n",
    "with open(r'C:\\Users\\shubh\\Desktop\\Coding Ninjas Data Science\\11. NumPy\\33-34\\terrorismData.csv',encoding='utf8') as file_obj:\n",
    "    file_data=csv.DictReader(file_obj,skipinitialspace=True)\n",
    "    killed=[]\n",
    "    wounded=[]\n",
    "    country=[]\n",
    "    for row in file_data:\n",
    "        killed.append(row['Killed'])\n",
    "        wounded.append(row['Wounded'])\n",
    "        country.append(row['Country'])\n",
    "np_killed=np.array(killed,dtype=int)#error as we directly convert it into int,\n",
    "#we need to convert it to float first,while also dealing with '' values where\n",
    "#there is no value,but we cannot remove those values as it would lead to value\n",
    "#mismatch in the arrays,so we need to make sure that length of arrays should remain\n",
    "#same\n"
   ]
  },
  {
   "cell_type": "code",
   "execution_count": 19,
   "metadata": {},
   "outputs": [
    {
     "name": "stdout",
     "output_type": "stream",
     "text": [
      "48321.0\n",
      "935737.0\n"
     ]
    }
   ],
   "source": [
    "#correcting the errors\n",
    "#year2017.csv\n",
    "#calculate killed + wounded \n",
    "import csv\n",
    "import numpy as np\n",
    "\n",
    "with open(r'C:\\Users\\shubh\\Desktop\\Coding Ninjas Data Science\\11. NumPy\\33-34\\terrorismData.csv',encoding='utf8') as file_obj:\n",
    "    file_data=csv.DictReader(file_obj,skipinitialspace=True)\n",
    "    killed=[]\n",
    "    wounded=[]\n",
    "    country=[]\n",
    "    for row in file_data:\n",
    "        killed.append(row['Killed'])\n",
    "        wounded.append(row['Wounded'])\n",
    "        country.append(row['Country'])\n",
    "\n",
    "np_killed=np.array(killed)\n",
    "np_wounded=np.array(wounded)\n",
    "np_country=np.array(country)\n",
    "\n",
    "#changing \"\" values to 0\n",
    "np_killed[np_killed=='']='0.0'\n",
    "np_wounded[np_wounded=='']='0.0'\n",
    "#converting to float\n",
    "np_killed=np.array(np_killed,dtype=float)\n",
    "np_wounded=np.array(np_wounded,dtype=float)\n",
    "\n",
    "#finding killed + wounded in India\n",
    "boolean=np_country=='India'\n",
    "killed_wounded=np_killed+np_wounded\n",
    "ans=killed_wounded[boolean]\n",
    "print(np.sum(ans))#killed and wounded in india\n",
    "print(np.sum(killed_wounded))#total killed and wounded"
   ]
  },
  {
   "cell_type": "code",
   "execution_count": 21,
   "metadata": {},
   "outputs": [
    {
     "name": "stdout",
     "output_type": "stream",
     "text": [
      "411868.0\n",
      "3771.0\n"
     ]
    }
   ],
   "source": [
    "#ASSIGNMENT:count of killed in United States\n",
    "with open(r'C:\\Users\\shubh\\Desktop\\Coding Ninjas Data Science\\11. NumPy\\33-34\\terrorismData.csv',encoding='utf8') as file_obj:\n",
    "    file_data=csv.DictReader(file_obj,skipinitialspace=True)\n",
    "    killed=[]\n",
    "    country=[]\n",
    "    for row in file_data:\n",
    "        killed.append(row['Killed'])\n",
    "        country.append(row['Country'])\n",
    "\n",
    "#data cleaning\n",
    "np_killed=np.array(killed)\n",
    "np_killed[np_killed=='']='0.0'\n",
    "np_killed=np.array(np_killed,dtype=float)\n",
    "print(np.sum(np_killed))\n",
    "#boolean array for USA\n",
    "boolean=np_country=='United States'\n",
    "ans=np_killed[boolean]\n",
    "print(np.sum(ans))"
   ]
  },
  {
   "cell_type": "code",
   "execution_count": 24,
   "metadata": {},
   "outputs": [
    {
     "name": "stdout",
     "output_type": "stream",
     "text": [
      "Killed 0\n",
      "Killed 0\n",
      "Killed 0\n",
      "Killed 0\n",
      "Killed 0\n",
      "Killed 0\n",
      "Killed 0\n",
      "Killed 0\n",
      "Killed 0\n",
      "Killed 0\n",
      "Killed 0\n",
      "Killed 0\n",
      "Killed 0\n",
      "Killed 0\n",
      "Killed 0\n",
      "Killed 0\n",
      "Killed 0\n",
      "Killed 0\n",
      "Killed 0\n",
      "Killed 0\n",
      "Killed 0\n",
      "Killed 0\n",
      "Killed 0\n",
      "Killed 0\n",
      "Killed 0\n",
      "Killed 0\n",
      "Killed 0\n",
      "Killed 0\n",
      "Killed 0\n",
      "Killed 0\n",
      "Killed 0\n",
      "Killed 0\n",
      "Killed 0\n",
      "Killed 0\n",
      "Killed 0\n",
      "Killed 0\n",
      "Killed 0\n",
      "Killed 0\n",
      "Killed 0\n",
      "Killed 0\n",
      "Killed 0\n",
      "Killed 0\n",
      "Killed 0\n",
      "Killed 0\n",
      "Killed 0\n",
      "Killed 0\n",
      "Killed 0\n",
      "Killed 0\n",
      "Killed 0\n",
      "Killed 1\n",
      "Killed 0\n",
      "Killed 0\n",
      "Killed 0\n",
      "Killed 0\n",
      "Killed 0\n",
      "Killed 0\n",
      "Killed 0\n",
      "Killed 0\n",
      "Killed 0\n",
      "Killed 0\n",
      "Killed 0\n",
      "Killed 0\n",
      "Killed 0\n",
      "Killed 0\n",
      "Killed 0\n",
      "Killed 0\n",
      "Killed 0\n",
      "Killed 0\n",
      "Killed 0\n",
      "Killed 0\n",
      "Killed 0\n",
      "Killed 0\n",
      "Killed 0\n",
      "Killed 0\n",
      "Killed 0\n",
      "Killed 0\n",
      "Killed 0\n",
      "Killed 0\n",
      "Killed 0\n",
      "Killed 0\n",
      "Killed 0\n",
      "Killed 0\n",
      "Killed 0\n",
      "Killed 0\n",
      "Killed 0\n",
      "Killed 0\n",
      "Killed 0\n",
      "Killed 0\n",
      "Killed 2\n",
      "Killed 0\n",
      "Killed 0\n",
      "Killed 0\n",
      "Killed 0\n",
      "Killed 0\n",
      "Killed 0\n",
      "Killed 2\n",
      "Killed 0\n",
      "Killed 0\n",
      "Killed 0\n",
      "Killed 0\n",
      "Killed 0\n",
      "Killed 0\n",
      "Killed 0\n",
      "Killed 0\n",
      "Killed 0\n",
      "Killed 0\n",
      "Killed 0\n",
      "Killed 0\n",
      "Killed 0\n",
      "Killed 0\n",
      "Killed 0\n",
      "Killed 0\n",
      "Killed 0\n",
      "Killed 0\n",
      "Killed 1\n",
      "Killed 0\n",
      "Killed 0\n",
      "Killed 0\n",
      "Killed 0\n",
      "Killed 0\n",
      "Killed 0\n",
      "Killed 0\n",
      "Killed 0\n",
      "Killed 0\n",
      "Killed 0\n",
      "Killed 0\n",
      "Killed 0\n",
      "Killed 0\n",
      "Killed 0\n",
      "Killed 0\n",
      "Killed 0\n",
      "Killed 0\n",
      "Killed 0\n",
      "Killed 0\n",
      "Killed 0\n",
      "Killed 0\n",
      "Killed 0\n",
      "Killed 0\n",
      "Killed 0\n",
      "Killed 0\n",
      "Killed 0\n",
      "Killed 0\n",
      "Killed 0\n",
      "Killed 0\n",
      "Killed 0\n",
      "Killed 0\n",
      "Killed 0\n",
      "Killed 0\n",
      "Killed 0\n",
      "Killed 0\n",
      "Killed 0\n",
      "Killed 0\n",
      "Killed 0\n",
      "Killed 0\n",
      "Killed 0\n",
      "Killed 0\n",
      "Killed 0\n",
      "Killed 0\n",
      "Killed 0\n",
      "Killed 0\n",
      "Killed 0\n",
      "Killed 0\n",
      "Killed 0\n",
      "Killed 0\n",
      "Killed 0\n",
      "Killed 0\n",
      "Killed 0\n",
      "Killed 0\n",
      "Killed 0\n",
      "Killed 0\n",
      "Killed 0\n",
      "Killed 0\n",
      "Killed 0\n",
      "Killed 0\n",
      "Killed 0\n",
      "Killed 0\n",
      "Killed 0\n",
      "Killed 0\n",
      "Killed 0\n",
      "Killed 0\n",
      "Killed 0\n",
      "Killed 1\n",
      "Killed 0\n",
      "Killed 0\n",
      "Killed 0\n",
      "Killed 0\n",
      "Killed 0\n",
      "Killed 0\n",
      "Killed 0\n",
      "Killed 0\n",
      "Killed 0\n",
      "Killed 0\n",
      "Killed 0\n",
      "Killed 0\n",
      "Killed 0\n",
      "Killed 0\n",
      "Killed 0\n",
      "Killed 0\n",
      "Killed 0\n",
      "Killed 0\n",
      "Killed 0\n",
      "Killed 0\n",
      "Killed 0\n",
      "Killed 0\n",
      "Killed 0\n",
      "Killed 0\n",
      "Killed 0\n",
      "Killed 0\n",
      "Killed 0\n",
      "Killed 0\n",
      "Killed 0\n",
      "Killed 0\n",
      "Killed 0\n",
      "Killed 0\n",
      "Killed 0\n",
      "Killed 0\n",
      "Killed 0\n",
      "Killed 0\n",
      "Killed 0\n",
      "Killed 0\n",
      "Killed 0\n",
      "Killed 0\n",
      "Killed 0\n",
      "Killed 0\n",
      "Killed 0\n",
      "Killed 0\n",
      "Killed 0\n",
      "Killed 1\n",
      "Killed 0\n",
      "Killed 0\n",
      "Killed 0\n",
      "Killed 0\n",
      "Killed 0\n",
      "Killed 0\n",
      "Killed 0\n",
      "Killed 0\n",
      "Killed 0\n",
      "Killed 0\n",
      "Killed 0\n",
      "Killed 1\n",
      "Killed 0\n",
      "Killed 0\n",
      "Killed 0\n",
      "Killed 0\n",
      "Killed 0\n",
      "Killed 0\n",
      "Killed 0\n",
      "Killed 1\n",
      "Killed 0\n",
      "Killed 0\n",
      "Killed 0\n",
      "Killed 0\n",
      "Killed 0\n",
      "Killed 0\n",
      "Killed 0\n",
      "Killed 1\n",
      "Killed 0\n",
      "Killed 0\n",
      "Killed 0\n",
      "Killed 0\n",
      "Killed 0\n",
      "Killed 0\n",
      "Killed 0\n",
      "Killed 0\n",
      "Killed 0\n",
      "Killed 0\n",
      "Killed 0\n",
      "Killed 0\n",
      "Killed 0\n",
      "Killed 0\n",
      "Killed 0\n",
      "Killed 0\n",
      "Killed 0\n",
      "Killed 0\n",
      "Killed 0\n",
      "Killed 0\n",
      "Killed 0\n",
      "Killed 0\n",
      "Killed 0\n",
      "Killed 0\n",
      "Killed 0\n",
      "Killed 0\n",
      "Killed 0\n",
      "Killed 0\n",
      "Killed 0\n",
      "Killed 0\n",
      "Killed 1\n",
      "Killed 1\n",
      "Killed 0\n",
      "Killed 0\n",
      "Killed 0\n",
      "Killed 0\n",
      "Killed 0\n",
      "Killed 0\n",
      "Killed 0\n",
      "Killed 1\n",
      "Killed 0\n",
      "Killed 0\n",
      "Killed 0\n",
      "Killed 0\n",
      "Killed 0\n",
      "Killed 0\n",
      "Killed 0\n",
      "Killed 0\n",
      "Killed 0\n",
      "Killed 0\n",
      "Killed 0\n",
      "Killed 0\n",
      "Killed 0\n",
      "Killed 1\n",
      "Killed 0\n",
      "Killed 0\n",
      "Killed 0\n",
      "Killed 0\n",
      "Killed 0\n",
      "Killed 0\n",
      "Killed 0\n",
      "Killed 0\n",
      "Killed 0\n",
      "Killed 0\n",
      "Killed 0\n",
      "Killed 0\n",
      "Killed 0\n",
      "Killed 0\n",
      "Killed 0\n",
      "Killed 0\n",
      "Killed 1\n",
      "Killed 0\n",
      "Killed 0\n",
      "Killed 0\n",
      "Killed 0\n",
      "Killed 0\n",
      "Killed 0\n",
      "Killed 2\n",
      "Killed 0\n",
      "Killed 0\n",
      "Killed 0\n",
      "Killed 0\n",
      "Killed 0\n",
      "Killed 0\n",
      "Killed 0\n",
      "Killed 0\n",
      "Killed 0\n",
      "Killed 1\n",
      "Killed 0\n",
      "Killed 0\n",
      "Killed 0\n",
      "Killed 0\n",
      "Killed 0\n",
      "Killed 0\n",
      "Killed 0\n",
      "Killed 0\n",
      "Killed 0\n",
      "Killed 0\n",
      "Killed 0\n",
      "Killed 0\n",
      "Killed 0\n",
      "Killed 0\n",
      "Killed 1\n",
      "Killed 0\n",
      "Killed 4\n",
      "Killed 0\n",
      "Killed 1\n",
      "Killed 1\n",
      "Killed 0\n",
      "Killed 0\n",
      "Killed 0\n",
      "Killed 0\n",
      "Killed 1\n",
      "Killed 0\n",
      "Killed 0\n",
      "Killed 0\n",
      "Killed 1\n",
      "Killed 0\n",
      "Killed 0\n",
      "Killed 0\n",
      "Killed 0\n",
      "Killed 0\n",
      "Killed 0\n",
      "Killed 0\n",
      "Killed 0\n",
      "Killed 0\n",
      "Killed 0\n",
      "Killed 0\n",
      "Killed 0\n",
      "Killed 0\n",
      "Killed 0\n",
      "Killed 0\n",
      "Killed 0\n",
      "Killed 0\n",
      "Killed 0\n",
      "Killed 0\n",
      "Killed 0\n",
      "Killed 0\n",
      "Killed 0\n",
      "Killed 0\n",
      "Killed 1\n",
      "Killed 0\n",
      "Killed 1\n",
      "Killed 0\n",
      "Killed 0\n",
      "Killed 0\n",
      "Killed 0\n",
      "Killed 0\n",
      "Killed 0\n",
      "Killed 0\n",
      "Killed 0\n",
      "Killed 0\n",
      "Killed 0\n",
      "Killed 0\n",
      "Killed 0\n",
      "Killed 0\n",
      "Killed 0\n",
      "Killed 0\n",
      "Killed 0\n",
      "Killed 0\n",
      "Killed 0\n",
      "Killed 0\n",
      "Killed 0\n",
      "Killed 0\n",
      "Killed 0\n",
      "Killed 0\n",
      "Killed 0\n",
      "Killed 1\n",
      "Killed 0\n",
      "Killed 0\n",
      "Killed 0\n",
      "Killed 0\n",
      "Killed 0\n",
      "Killed 0\n",
      "Killed 0\n",
      "Killed 0\n",
      "Killed 0\n",
      "Killed 0\n",
      "Killed 0\n",
      "Killed 0\n",
      "Killed 0\n",
      "Killed 1\n",
      "Killed 0\n",
      "Killed 0\n",
      "Killed 0\n",
      "Killed 1\n",
      "Killed 0\n",
      "Killed 0\n",
      "Killed 0\n",
      "Killed 0\n",
      "Killed 0\n",
      "Killed 0\n",
      "Killed 0\n",
      "Killed 0\n",
      "Killed 0\n",
      "Killed 0\n",
      "Killed 0\n",
      "Killed 0\n",
      "Killed 0\n",
      "Killed 0\n",
      "Killed 0\n",
      "Killed 0\n",
      "Killed 0\n",
      "Killed 0\n",
      "Killed 0\n",
      "Killed 0\n",
      "Killed 0\n",
      "Killed 0\n",
      "Killed 0\n",
      "Killed 0\n",
      "Killed 0\n",
      "Killed 0\n",
      "Killed 0\n",
      "Killed 0\n",
      "Killed 0\n",
      "Killed 0\n",
      "Killed 0\n",
      "Killed 0\n",
      "Killed 0\n",
      "Killed 0\n",
      "Killed 0\n",
      "Killed 1\n",
      "Killed 0\n",
      "Killed 0\n",
      "Killed 0\n",
      "Killed 0\n",
      "Killed 0\n",
      "Killed 0\n",
      "Killed 1\n",
      "Killed 0\n",
      "Killed 1\n",
      "Killed 0\n",
      "Killed 0\n",
      "Killed 0\n",
      "Killed 0\n",
      "Killed 0\n",
      "Killed 0\n",
      "Killed 0\n",
      "Killed 0\n",
      "Killed 0\n",
      "Killed 0\n",
      "Killed 0\n",
      "Killed 0\n",
      "Killed 0\n",
      "Killed 1\n",
      "Killed 0\n",
      "Killed 0\n",
      "Killed 0\n",
      "Killed 0\n",
      "Killed 0\n",
      "Killed 0\n",
      "Killed 0\n",
      "Killed 0\n",
      "Killed 0\n",
      "Killed 0\n",
      "Killed 0\n",
      "Killed 0\n",
      "Killed 0\n",
      "Killed 0\n",
      "Killed 0\n",
      "Killed 0\n",
      "Killed 0\n",
      "Killed 0\n",
      "Killed 0\n",
      "Killed 0\n",
      "Killed 0\n",
      "Killed 0\n",
      "Killed 0\n",
      "Killed 0\n",
      "Killed 0\n",
      "Killed 0\n",
      "Killed 0\n",
      "Killed 0\n",
      "Killed 0\n",
      "Killed 0\n",
      "Killed 0\n",
      "Killed 0\n",
      "Killed 0\n",
      "Killed 0\n",
      "Killed 0\n",
      "Killed 2\n",
      "Killed 0\n",
      "Killed 0\n",
      "Killed 0\n",
      "Killed 0\n",
      "Killed 0\n",
      "Killed 0\n",
      "Killed 0\n",
      "Killed 0\n",
      "Killed 0\n",
      "Killed 0\n",
      "Killed 0\n",
      "Killed 0\n",
      "Killed 0\n",
      "Killed 1\n",
      "Killed 0\n",
      "Killed 0\n",
      "Killed 3\n",
      "Killed 0\n",
      "Killed 0\n",
      "Killed 0\n",
      "Killed 0\n",
      "Killed 0\n",
      "Killed 0\n",
      "Killed 0\n",
      "Killed 0\n",
      "Killed 0\n",
      "Killed 0\n",
      "Killed 0\n",
      "Killed 0\n",
      "Killed 0\n",
      "Killed 0\n",
      "Killed 0\n",
      "Killed 0\n",
      "Killed 0\n",
      "Killed 0\n",
      "Killed 0\n",
      "Killed 0\n",
      "Killed 1\n",
      "Killed 0\n",
      "Killed 0\n",
      "Killed 0\n",
      "Killed 0\n",
      "Killed 0\n",
      "Killed 0\n",
      "Killed 0\n",
      "Killed 0\n",
      "Killed 0\n",
      "Killed 0\n",
      "Killed 0\n",
      "Killed 0\n",
      "Killed 0\n",
      "Killed 0\n",
      "Killed 1\n",
      "Killed 0\n",
      "Killed 0\n",
      "Killed 0\n",
      "Killed 0\n",
      "Killed 0\n",
      "Killed 0\n",
      "Killed 0\n",
      "Killed 0\n",
      "Killed 0\n",
      "Killed 0\n",
      "Killed 0\n",
      "Killed 0\n",
      "Killed 0\n",
      "Killed 2\n",
      "Killed 0\n",
      "Killed 0\n",
      "Killed 0\n",
      "Killed 0\n",
      "Killed 0\n",
      "Killed 0\n",
      "Killed 1\n",
      "Killed 0\n",
      "Killed 0\n",
      "Killed 0\n",
      "Killed 0\n",
      "Killed 0\n",
      "Killed 0\n",
      "Killed 0\n",
      "Killed 0\n",
      "Killed 0\n",
      "Killed 0\n",
      "Killed 0\n",
      "Killed 0\n",
      "Killed 0\n",
      "Killed 0\n",
      "Killed 0\n",
      "Killed 0\n",
      "Killed 0\n",
      "Killed 0\n",
      "Killed 0\n",
      "Killed 0\n",
      "Killed 0\n",
      "Killed 0\n",
      "Killed 0\n",
      "Killed 0\n",
      "Killed 0\n",
      "Killed 0\n",
      "Killed 0\n",
      "Killed 0\n",
      "Killed 0\n",
      "Killed 0\n",
      "Killed 0\n",
      "Killed 0\n",
      "Killed 0\n",
      "Killed 0\n",
      "Killed 1\n",
      "Killed 1\n",
      "Killed 0\n",
      "Killed 0\n",
      "Killed 0\n",
      "Killed 0\n",
      "Killed 0\n",
      "Killed 0\n",
      "Killed 0\n",
      "Killed 0\n",
      "Killed 0\n",
      "Killed 0\n",
      "Killed 0\n",
      "Killed 0\n",
      "Killed 0\n",
      "Killed 0\n",
      "Killed 0\n",
      "Killed 0\n",
      "Killed 0\n",
      "Killed 0\n",
      "Killed 0\n",
      "Killed 0\n",
      "Killed 0\n",
      "Killed 0\n",
      "Killed 0\n",
      "Killed 0\n",
      "Killed 0\n",
      "Killed 1\n",
      "Killed 0\n",
      "Killed 0\n",
      "Killed 0\n",
      "Killed 0\n",
      "Killed 0\n",
      "Killed 0\n",
      "Killed 0\n",
      "Killed 0\n",
      "Killed 1\n",
      "Killed 0\n",
      "Killed 0\n",
      "Killed 0\n",
      "Killed 0\n",
      "Killed 0\n",
      "Killed 0\n",
      "Killed 0\n",
      "Killed 0\n",
      "Killed 0\n",
      "Killed 0\n",
      "Killed 0\n",
      "Killed 0\n",
      "Killed 0\n",
      "Killed 0\n",
      "Killed 0\n",
      "Killed 1\n",
      "Killed 0\n",
      "Killed 0\n",
      "Killed 0\n",
      "Killed 0\n",
      "Killed 0\n",
      "Killed 0\n",
      "Killed 0\n",
      "Killed 0\n",
      "Killed 0\n",
      "Killed 0\n",
      "Killed 0\n",
      "Killed 0\n",
      "Killed 0\n",
      "Killed 0\n",
      "Killed 0\n",
      "Killed 0\n",
      "Killed 0\n",
      "Killed 0\n",
      "Killed 0\n",
      "Killed 0\n",
      "Killed 0\n",
      "Killed 0\n",
      "Killed 0\n",
      "Killed 0\n",
      "Killed 0\n",
      "Killed 0\n",
      "Killed 0\n",
      "Killed 0\n",
      "Killed 0\n",
      "Killed 0\n",
      "Killed 1\n",
      "Killed 0\n",
      "Killed 1\n",
      "Killed 2\n",
      "Killed 0\n",
      "Killed 0\n",
      "Killed 0\n",
      "Killed 0\n",
      "Killed 0\n",
      "Killed 0\n",
      "Killed 0\n",
      "Killed 0\n",
      "Killed 0\n",
      "Killed 0\n",
      "Killed 0\n",
      "Killed 0\n",
      "Killed 0\n",
      "Killed 0\n",
      "Killed 0\n",
      "Killed 0\n",
      "Killed 0\n",
      "Killed 0\n",
      "Killed 0\n",
      "Killed 0\n",
      "Killed 0\n",
      "Killed 1\n",
      "Killed 0\n",
      "Killed 0\n",
      "Killed 0\n",
      "Killed 0\n",
      "Killed 0\n",
      "Killed 0\n",
      "Killed 0\n",
      "Killed 0\n",
      "Killed 0\n",
      "Killed 0\n",
      "Killed 0\n",
      "Killed 0\n",
      "Killed 0\n",
      "Killed 0\n",
      "Killed 0\n",
      "Killed 0\n",
      "Killed 0\n",
      "Killed 0\n",
      "Killed 0\n",
      "Killed 2\n",
      "Killed 1\n",
      "Killed 0\n",
      "Killed 0\n",
      "Killed 0\n",
      "Killed 0\n",
      "Killed 0\n",
      "Killed 0\n",
      "Killed 0\n",
      "Killed 2\n",
      "Killed 1\n",
      "Killed 8\n",
      "Killed 7\n",
      "Killed 0\n",
      "Killed 0\n",
      "Killed 2\n",
      "Killed 2\n",
      "Killed 2\n",
      "Killed 0\n",
      "Killed 0\n",
      "Killed 2\n",
      "Killed 0\n",
      "Killed 0\n",
      "Killed 0\n",
      "Killed 0\n",
      "Killed 0\n",
      "Killed 0\n",
      "Killed 0\n",
      "Killed 0\n",
      "Killed 0\n",
      "Killed 0\n",
      "Killed 0\n",
      "Killed 0\n",
      "Killed 1\n",
      "Killed 0\n",
      "Killed 0\n",
      "Killed 2\n",
      "Killed 1\n",
      "Killed 0\n",
      "Killed 1\n",
      "Killed 0\n",
      "Killed 0\n",
      "Killed 0\n",
      "Killed 0\n",
      "Killed 1\n",
      "Killed 2\n",
      "Killed 0\n",
      "Killed 0\n",
      "Killed 2\n",
      "Killed 1\n",
      "Killed 0\n",
      "Killed 0\n",
      "Killed 1\n",
      "Killed 0\n",
      "Killed 0\n",
      "Killed 1\n",
      "Killed 1\n",
      "Killed 1\n",
      "Killed 0\n",
      "Killed 1\n",
      "Killed 1\n",
      "Killed 0\n",
      "Killed 0\n",
      "Killed 1\n",
      "Killed 1\n",
      "Killed 1\n",
      "Killed 1\n",
      "Killed 0\n",
      "Killed 1\n",
      "Killed 1\n",
      "Killed 1\n",
      "Killed 0\n",
      "Killed 1\n",
      "Killed 0\n",
      "Killed 4\n",
      "Killed 0\n",
      "Killed 0\n",
      "Killed 0\n",
      "Killed 0\n",
      "Killed 0\n",
      "Killed 0\n",
      "Killed 0\n",
      "Killed 0\n",
      "Killed 0\n",
      "Killed 1\n",
      "Killed 1\n",
      "Killed 0\n",
      "Killed 0\n",
      "Killed 0\n",
      "Killed 1\n",
      "Killed 0\n",
      "Killed 0\n",
      "Killed 0\n",
      "Killed 0\n",
      "Killed 0\n",
      "Killed 0\n",
      "Killed 0\n",
      "Killed 0\n",
      "Killed 0\n",
      "Killed 0\n",
      "Killed 0\n",
      "Killed 0\n",
      "Killed 0\n",
      "Killed 1\n",
      "Killed 0\n",
      "Killed 0\n",
      "Killed 0\n",
      "Killed 0\n",
      "Killed 0\n",
      "Killed 0\n",
      "Killed 0\n",
      "Killed 0\n",
      "Killed 0\n",
      "Killed 0\n",
      "Killed 0\n",
      "Killed 0\n",
      "Killed 0\n",
      "Killed 0\n",
      "Killed 0\n",
      "Killed 0\n",
      "Killed 3\n",
      "Killed 0\n",
      "Killed 0\n",
      "Killed 0\n",
      "Killed 0\n",
      "Killed 0\n",
      "Killed 0\n",
      "Killed 0\n",
      "Killed 0\n",
      "Killed 0\n",
      "Killed 0\n",
      "Killed 0\n",
      "Killed 0\n",
      "Killed 0\n",
      "Killed 0\n",
      "Killed 0\n",
      "Killed 0\n",
      "Killed 0\n",
      "Killed 0\n",
      "Killed 0\n",
      "Killed 0\n",
      "Killed 0\n",
      "Killed 0\n",
      "Killed 0\n",
      "Killed 0\n",
      "Killed 0\n",
      "Killed 0\n",
      "Killed 0\n",
      "Killed 0\n",
      "Killed 0\n",
      "Killed 0\n",
      "Killed 0\n",
      "Killed 0\n",
      "Killed 0\n",
      "Killed 0\n",
      "Killed 1\n",
      "Killed 0\n",
      "Killed 0\n",
      "Killed 0\n",
      "Killed 0\n",
      "Killed 0\n",
      "Killed 0\n",
      "Killed 0\n",
      "Killed 2\n",
      "Killed 0\n",
      "Killed 4\n",
      "Killed 0\n",
      "Killed 0\n",
      "Killed 0\n",
      "Killed 0\n",
      "Killed 0\n",
      "Killed 0\n",
      "Killed 0\n",
      "Killed 0\n",
      "Killed 0\n",
      "Killed 0\n",
      "Killed 0\n",
      "Killed 0\n",
      "Killed 0\n",
      "Killed 1\n",
      "Killed 0\n",
      "Killed 0\n",
      "Killed 0\n",
      "Killed 0\n",
      "Killed 0\n",
      "Killed 0\n",
      "Killed 0\n",
      "Killed 0\n",
      "Killed 0\n",
      "Killed 0\n",
      "Killed 0\n",
      "Killed 0\n",
      "Killed 0\n",
      "Killed 0\n",
      "Killed 0\n",
      "Killed 0\n",
      "Killed 0\n",
      "Killed 0\n",
      "Killed 0\n",
      "Killed 0\n",
      "Killed 0\n",
      "Killed 0\n",
      "Killed 0\n",
      "Killed 0\n",
      "Killed 0\n",
      "Killed 0\n",
      "Killed 0\n",
      "Killed 0\n",
      "Killed 0\n",
      "Killed 0\n",
      "Killed 0\n",
      "Killed 0\n",
      "Killed 0\n",
      "Killed 0\n",
      "Killed 1\n",
      "Killed 0\n",
      "Killed 0\n",
      "Killed 0\n",
      "Killed 0\n",
      "Killed 0\n",
      "Killed 0\n",
      "Killed 0\n",
      "Killed 0\n",
      "Killed 0\n",
      "Killed 0\n",
      "Killed 0\n",
      "Killed 0\n",
      "Killed 0\n",
      "Killed 0\n",
      "Killed 0\n",
      "Killed 0\n",
      "Killed 2\n",
      "Killed 0\n",
      "Killed 0\n",
      "Killed 0\n",
      "Killed 0\n",
      "Killed 0\n",
      "Killed 0\n",
      "Killed 0\n",
      "Killed 0\n",
      "Killed 0\n",
      "Killed 0\n",
      "Killed 0\n",
      "Killed 0\n",
      "Killed 0\n",
      "Killed 0\n",
      "Killed 0\n",
      "Killed 0\n",
      "Killed 0\n",
      "Killed 0\n",
      "Killed 0\n",
      "Killed 1\n",
      "Killed 0\n",
      "Killed 0\n",
      "Killed 0\n",
      "Killed 0\n",
      "Killed 0\n",
      "Killed 0\n",
      "Killed 0\n",
      "Killed 1\n",
      "Killed 0\n",
      "Killed 0\n",
      "Killed 0\n",
      "Killed 0\n",
      "Killed 0\n",
      "Killed 0\n",
      "Killed 0\n",
      "Killed 0\n",
      "Killed 0\n",
      "Killed 0\n",
      "Killed 0\n",
      "Killed 0\n",
      "Killed 0\n",
      "Killed 0\n",
      "Killed 0\n",
      "Killed 0\n",
      "Killed 0\n",
      "Killed 0\n",
      "Killed 0\n",
      "Killed 0\n",
      "Killed 0\n",
      "Killed 0\n",
      "Killed 0\n",
      "Killed 1\n",
      "Killed 0\n",
      "Killed 0\n",
      "Killed 0\n",
      "Killed 0\n",
      "Killed 0\n",
      "Killed 0\n",
      "Killed 0\n",
      "Killed 0\n",
      "Killed 0\n",
      "Killed 0\n",
      "Killed 0\n",
      "Killed 0\n",
      "Killed 0\n",
      "Killed 0\n",
      "Killed 0\n",
      "Killed 0\n",
      "Killed 0\n",
      "Killed 0\n",
      "Killed 0\n",
      "Killed 0\n",
      "Killed 0\n",
      "Killed 0\n",
      "Killed 0\n",
      "Killed 11\n",
      "Killed 0\n",
      "Killed 0\n",
      "Killed 0\n",
      "Killed 0\n",
      "Killed 0\n",
      "Killed 0\n",
      "Killed 0\n",
      "Killed 0\n",
      "Killed 0\n",
      "Killed 0\n",
      "Killed 0\n",
      "Killed 0\n",
      "Killed 0\n",
      "Killed 1\n",
      "Killed 0\n",
      "Killed 0\n",
      "Killed 0\n",
      "Killed 0\n",
      "Killed 0\n",
      "Killed 0\n",
      "Killed 0\n",
      "Killed 0\n",
      "Killed 0\n",
      "Killed 0\n",
      "Killed 0\n",
      "Killed 0\n",
      "Killed 0\n",
      "Killed 0\n",
      "Killed 0\n",
      "Killed 0\n",
      "Killed 0\n",
      "Killed 0\n",
      "Killed 0\n",
      "Killed 0\n",
      "Killed 0\n",
      "Killed 1\n",
      "Killed 0\n",
      "Killed 0\n",
      "Killed 0\n",
      "Killed 0\n",
      "Killed 0\n",
      "Killed 0\n",
      "Killed 0\n",
      "Killed 0\n",
      "Killed 0\n",
      "Killed 0\n",
      "Killed 0\n",
      "Killed 0\n",
      "Killed 0\n",
      "Killed 0\n",
      "Killed 0\n",
      "Killed 0\n",
      "Killed 0\n",
      "Killed 0\n",
      "Killed 0\n",
      "Killed 0\n",
      "Killed 0\n",
      "Killed 0\n",
      "Killed 0\n",
      "Killed 0\n",
      "Killed 0\n",
      "Killed 0\n",
      "Killed 0\n",
      "Killed 0\n",
      "Killed 0\n",
      "Killed 0\n",
      "Killed 0\n",
      "Killed 0\n",
      "Killed 0\n",
      "Killed 0\n",
      "Killed 0\n",
      "Killed 0\n",
      "Killed 0\n",
      "Killed 0\n",
      "Killed 0\n",
      "Killed 0\n",
      "Killed 0\n",
      "Killed 0\n",
      "Killed 0\n",
      "Killed 0\n",
      "Killed 0\n",
      "Killed 0\n",
      "Killed 0\n",
      "Killed 0\n",
      "Killed 0\n",
      "Killed 0\n",
      "Killed 0\n",
      "Killed 0\n",
      "Killed 1\n",
      "Killed 0\n",
      "Killed 0\n",
      "Killed 1\n",
      "Killed 0\n",
      "Killed 0\n",
      "Killed 0\n",
      "Killed 0\n",
      "Killed 0\n",
      "Killed 0\n",
      "Killed 0\n",
      "Killed 0\n",
      "Killed 0\n",
      "Killed 0\n",
      "Killed 0\n",
      "Killed 0\n",
      "Killed 0\n",
      "Killed 0\n",
      "Killed 0\n",
      "Killed 0\n",
      "Killed 0\n",
      "Killed 1\n",
      "Killed 0\n",
      "Killed 0\n",
      "Killed 0\n",
      "Killed 0\n",
      "Killed 0\n",
      "Killed 0\n",
      "Killed 0\n",
      "Killed 0\n",
      "Killed 0\n",
      "Killed 0\n",
      "Killed 0\n",
      "Killed 0\n",
      "Killed 0\n",
      "Killed 0\n",
      "Killed 0\n",
      "Killed 0\n",
      "Killed 0\n",
      "Killed 0\n",
      "Killed 0\n",
      "Killed 0\n",
      "Killed 0\n",
      "Killed 0\n",
      "Killed 1\n",
      "Killed 0\n",
      "Killed 0\n",
      "Killed 0\n",
      "Killed 0\n",
      "Killed 0\n",
      "Killed 0\n",
      "Killed 0\n",
      "Killed 0\n",
      "Killed 0\n",
      "Killed 0\n",
      "Killed 0\n",
      "Killed 0\n",
      "Killed 0\n",
      "Killed 0\n",
      "Killed 0\n",
      "Killed 0\n",
      "Killed 0\n",
      "Killed 0\n",
      "Killed 0\n",
      "Killed 0\n",
      "Killed 0\n",
      "Killed 0\n",
      "Killed 0\n",
      "Killed 0\n",
      "Killed 0\n",
      "Killed 0\n",
      "Killed 0\n",
      "Killed 0\n",
      "Killed 0\n",
      "Killed 0\n",
      "Killed 0\n",
      "Killed 0\n",
      "Killed 0\n",
      "Killed 0\n",
      "Killed 0\n",
      "Killed 0\n",
      "Killed 0\n",
      "Killed 0\n",
      "Killed 0\n",
      "Killed 0\n",
      "Killed 0\n",
      "Killed 0\n",
      "Killed 0\n",
      "Killed 0\n",
      "Killed 0\n",
      "Killed 0\n",
      "Killed 1\n",
      "Killed 0\n",
      "Killed 0\n",
      "Killed 0\n",
      "Killed 0\n",
      "Killed 0\n",
      "Killed 0\n",
      "Killed 0\n",
      "Killed 0\n",
      "Killed 0\n",
      "Killed 0\n",
      "Killed 0\n",
      "Killed 0\n",
      "Killed 0\n",
      "Killed 0\n",
      "Killed 0\n",
      "Killed 0\n",
      "Killed 0\n",
      "Killed 0\n",
      "Killed 0\n",
      "Killed 0\n",
      "Killed 0\n",
      "Killed 0\n",
      "Killed 0\n",
      "Killed 0\n",
      "Killed 0\n",
      "Killed 0\n",
      "Killed 0\n",
      "Killed 0\n",
      "Killed 1\n",
      "Killed 0\n",
      "Killed 0\n",
      "Killed 0\n",
      "Killed 0\n",
      "Killed 0\n",
      "Killed 0\n",
      "Killed 0\n",
      "Killed 0\n",
      "Killed 0\n",
      "Killed 0\n",
      "Killed 0\n",
      "Killed 0\n",
      "Killed 0\n",
      "Killed 0\n",
      "Killed 0\n",
      "Killed 0\n",
      "Killed 0\n",
      "Killed 0\n",
      "Killed 0\n",
      "Killed 0\n",
      "Killed 0\n",
      "Killed 0\n",
      "Killed 0\n",
      "Killed 0\n",
      "Killed 0\n",
      "Killed 0\n",
      "Killed 0\n",
      "Killed 0\n",
      "Killed 0\n",
      "Killed 0\n"
     ]
    },
    {
     "name": "stdout",
     "output_type": "stream",
     "text": [
      "Killed 0\n",
      "Killed 0\n",
      "Killed 0\n",
      "Killed 0\n",
      "Killed 0\n",
      "Killed 0\n",
      "Killed 0\n",
      "Killed 0\n",
      "Killed 0\n",
      "Killed 0\n",
      "Killed 0\n",
      "Killed 0\n",
      "Killed 0\n",
      "Killed 0\n",
      "Killed 0\n",
      "Killed 0\n",
      "Killed 0\n",
      "Killed 0\n",
      "Killed 0\n",
      "Killed 0\n",
      "Killed 1\n",
      "Killed 0\n",
      "Killed 0\n",
      "Killed 0\n",
      "Killed 0\n",
      "Killed 0\n",
      "Killed 0\n",
      "Killed 0\n",
      "Killed 0\n",
      "Killed 0\n",
      "Killed 0\n",
      "Killed 0\n",
      "Killed 0\n",
      "Killed 0\n",
      "Killed 0\n",
      "Killed 0\n",
      "Killed 0\n",
      "Killed 0\n",
      "Killed 0\n",
      "Killed 0\n",
      "Killed 0\n",
      "Killed 0\n",
      "Killed 0\n",
      "Killed 0\n",
      "Killed 0\n",
      "Killed 0\n",
      "Killed 0\n",
      "Killed 0\n",
      "Killed 0\n",
      "Killed 0\n",
      "Killed 2\n",
      "Killed 1\n",
      "Killed 0\n",
      "Killed 0\n",
      "Killed 0\n",
      "Killed 0\n",
      "Killed 0\n",
      "Killed 1\n",
      "Killed 0\n",
      "Killed 1\n",
      "Killed 0\n",
      "Killed 0\n",
      "Killed 0\n",
      "Killed 0\n",
      "Killed 0\n",
      "Killed 0\n",
      "Killed 0\n",
      "Killed 0\n",
      "Killed 0\n",
      "Killed 0\n",
      "Killed 0\n",
      "Killed 0\n",
      "Killed 0\n",
      "Killed 0\n",
      "Killed 0\n",
      "Killed 0\n",
      "Killed 1\n",
      "Killed 0\n",
      "Killed 0\n",
      "Killed 1\n",
      "Killed 0\n",
      "Killed 0\n",
      "Killed 0\n",
      "Killed 0\n",
      "Killed 0\n",
      "Killed 0\n",
      "Killed 0\n",
      "Killed 0\n",
      "Killed 0\n",
      "Killed 0\n",
      "Killed 0\n",
      "Killed 0\n",
      "Killed 0\n",
      "Killed 0\n",
      "Killed 0\n",
      "Killed 0\n",
      "Killed 0\n",
      "Killed 0\n",
      "Killed 0\n",
      "Killed 0\n",
      "Killed 0\n",
      "Killed 0\n",
      "Killed 1\n",
      "Killed 1\n",
      "Killed 1\n",
      "Killed 0\n",
      "Killed 1\n",
      "Killed 0\n",
      "Killed 2\n",
      "Killed 0\n",
      "Killed 0\n",
      "Killed 0\n",
      "Killed 0\n",
      "Killed 0\n",
      "Killed 0\n",
      "Killed 0\n",
      "Killed 0\n",
      "Killed 0\n",
      "Killed 0\n",
      "Killed 1\n",
      "Killed 0\n",
      "Killed 0\n",
      "Killed 1\n",
      "Killed 0\n",
      "Killed 0\n",
      "Killed 0\n",
      "Killed 0\n",
      "Killed 0\n",
      "Killed 0\n",
      "Killed 0\n",
      "Killed 0\n",
      "Killed 0\n",
      "Killed 0\n",
      "Killed 0\n",
      "Killed 0\n",
      "Killed 0\n",
      "Killed 2\n",
      "Killed 0\n",
      "Killed 5\n",
      "Killed 0\n",
      "Killed 0\n",
      "Killed 0\n",
      "Killed 0\n",
      "Killed 0\n",
      "Killed 0\n",
      "Killed 0\n",
      "Killed 0\n",
      "Killed 1\n",
      "Killed 2\n",
      "Killed 0\n",
      "Killed 0\n",
      "Killed 0\n",
      "Killed 0\n",
      "Killed 0\n",
      "Killed 0\n",
      "Killed 0\n",
      "Killed 1\n",
      "Killed 0\n",
      "Killed 0\n",
      "Killed 1\n",
      "Killed 0\n",
      "Killed 0\n",
      "Killed 0\n",
      "Killed 0\n",
      "Killed 0\n",
      "Killed 0\n",
      "Killed 0\n",
      "Killed 0\n",
      "Killed 0\n",
      "Killed 0\n",
      "Killed 0\n",
      "Killed 0\n",
      "Killed 0\n",
      "Killed 0\n",
      "Killed 0\n",
      "Killed 0\n",
      "Killed 0\n",
      "Killed 0\n",
      "Killed 0\n",
      "Killed 1\n",
      "Killed 0\n",
      "Killed 0\n",
      "Killed 0\n",
      "Killed 0\n",
      "Killed 2\n",
      "Killed 0\n",
      "Killed 0\n",
      "Killed 2\n",
      "Killed 0\n",
      "Killed 0\n",
      "Killed 0\n",
      "Killed 0\n",
      "Killed 0\n",
      "Killed 0\n",
      "Killed 0\n",
      "Killed 0\n",
      "Killed 0\n",
      "Killed 1\n",
      "Killed 1\n",
      "Killed 1\n",
      "Killed 0\n",
      "Killed 0\n",
      "Killed 2\n",
      "Killed 0\n",
      "Killed 0\n",
      "Killed 1\n",
      "Killed 0\n",
      "Killed 0\n",
      "Killed 0\n",
      "Killed 0\n",
      "Killed 0\n",
      "Killed 0\n",
      "Killed 0\n",
      "Killed 0\n",
      "Killed 1\n",
      "Killed 1\n",
      "Killed 0\n",
      "Killed 0\n",
      "Killed 0\n",
      "Killed 0\n",
      "Killed 0\n",
      "Killed 0\n",
      "Killed 0\n",
      "Killed 0\n",
      "Killed 0\n",
      "Killed 0\n",
      "Killed 0\n",
      "Killed 0\n",
      "Killed 0\n",
      "Killed 0\n",
      "Killed 0\n",
      "Killed 0\n",
      "Killed 0\n",
      "Killed 0\n",
      "Killed 0\n",
      "Killed 0\n",
      "Killed 1\n",
      "Killed 0\n",
      "Killed 0\n",
      "Killed 0\n",
      "Killed 0\n",
      "Killed 0\n",
      "Killed 0\n",
      "Killed 1\n",
      "Killed 0\n",
      "Killed 0\n",
      "Killed 0\n",
      "Killed 0\n",
      "Killed 0\n",
      "Killed 1\n",
      "Killed 0\n",
      "Killed 0\n",
      "Killed 0\n",
      "Killed 0\n",
      "Killed 0\n",
      "Killed 0\n",
      "Killed 1\n",
      "Killed 0\n",
      "Killed 0\n",
      "Killed 1\n",
      "Killed 1\n",
      "Killed 0\n",
      "Killed 1\n",
      "Killed 0\n",
      "Killed 0\n",
      "Killed 0\n",
      "Killed 0\n",
      "Killed 0\n",
      "Killed 0\n",
      "Killed 0\n",
      "Killed 0\n",
      "Killed 0\n",
      "Killed 0\n",
      "Killed 0\n",
      "Killed 0\n",
      "Killed 0\n",
      "Killed 0\n",
      "Killed 0\n",
      "Killed 0\n",
      "Killed 0\n",
      "Killed 0\n",
      "Killed 1\n",
      "Killed 0\n",
      "Killed 0\n",
      "Killed 0\n",
      "Killed 0\n",
      "Killed 0\n",
      "Killed 0\n",
      "Killed 0\n",
      "Killed 0\n",
      "Killed 0\n",
      "Killed 0\n",
      "Killed 0\n",
      "Killed 0\n",
      "Killed 0\n",
      "Killed 0\n",
      "Killed 0\n",
      "Killed 0\n",
      "Killed 0\n",
      "Killed 1\n",
      "Killed 0\n",
      "Killed 0\n",
      "Killed 0\n",
      "Killed 0\n",
      "Killed 0\n",
      "Killed 0\n",
      "Killed 0\n",
      "Killed 0\n",
      "Killed 0\n",
      "Killed 0\n",
      "Killed 0\n",
      "Killed 0\n",
      "Killed 1\n",
      "Killed 0\n",
      "Killed 0\n",
      "Killed 0\n",
      "Killed 0\n",
      "Killed 0\n",
      "Killed 0\n",
      "Killed 0\n",
      "Killed 1\n",
      "Killed 1\n",
      "Killed 1\n",
      "Killed 0\n",
      "Killed 1\n",
      "Killed 0\n",
      "Killed 0\n",
      "Killed 0\n",
      "Killed 1\n",
      "Killed 0\n",
      "Killed 0\n",
      "Killed 0\n",
      "Killed 0\n",
      "Killed 0\n",
      "Killed 0\n",
      "Killed 0\n",
      "Killed 0\n",
      "Killed 0\n",
      "Killed 0\n",
      "Killed 0\n",
      "Killed 0\n",
      "Killed 0\n",
      "Killed 0\n",
      "Killed 0\n",
      "Killed 0\n",
      "Killed 0\n",
      "Killed 0\n",
      "Killed 0\n",
      "Killed 1\n",
      "Killed 1\n",
      "Killed 0\n",
      "Killed 0\n",
      "Killed 0\n",
      "Killed 0\n",
      "Killed 0\n",
      "Killed 0\n",
      "Killed 0\n",
      "Killed 0\n",
      "Killed 0\n",
      "Killed 0\n",
      "Killed 0\n",
      "Killed 0\n",
      "Killed 1\n",
      "Killed 0\n",
      "Killed 0\n",
      "Killed 1\n",
      "Killed 0\n",
      "Killed 0\n",
      "Killed 0\n",
      "Killed 0\n",
      "Killed 0\n",
      "Killed 0\n",
      "Killed 0\n",
      "Killed 0\n",
      "Killed 0\n",
      "Killed 0\n",
      "Killed 0\n",
      "Killed 0\n",
      "Killed 0\n",
      "Killed 0\n",
      "Killed 2\n",
      "Killed 0\n",
      "Killed 0\n",
      "Killed 0\n",
      "Killed 0\n",
      "Killed 0\n",
      "Killed 0\n",
      "Killed 0\n",
      "Killed 0\n",
      "Killed 0\n",
      "Killed 0\n",
      "Killed 0\n",
      "Killed 0\n",
      "Killed 0\n",
      "Killed 0\n",
      "Killed 1\n",
      "Killed 0\n",
      "Killed 0\n",
      "Killed 0\n",
      "Killed 1\n",
      "Killed 0\n",
      "Killed 2\n",
      "Killed 0\n",
      "Killed 0\n",
      "Killed 0\n",
      "Killed 0\n",
      "Killed 0\n",
      "Killed 1\n",
      "Killed 0\n",
      "Killed 0\n",
      "Killed 0\n",
      "Killed 0\n",
      "Killed 0\n",
      "Killed 0\n",
      "Killed 1\n",
      "Killed 0\n",
      "Killed 0\n",
      "Killed 0\n",
      "Killed 0\n",
      "Killed 1\n",
      "Killed 0\n",
      "Killed 0\n",
      "Killed 0\n",
      "Killed 0\n",
      "Killed 0\n",
      "Killed 0\n",
      "Killed 0\n",
      "Killed 0\n",
      "Killed 0\n",
      "Killed 0\n",
      "Killed 0\n",
      "Killed 0\n",
      "Killed 0\n",
      "Killed 0\n",
      "Killed 0\n",
      "Killed 0\n",
      "Killed 0\n",
      "Killed 0\n",
      "Killed 0\n",
      "Killed 0\n",
      "Killed 1\n",
      "Killed 0\n",
      "Killed 0\n",
      "Killed 0\n",
      "Killed 1\n",
      "Killed 0\n",
      "Killed 0\n",
      "Killed 0\n",
      "Killed 0\n",
      "Killed 0\n",
      "Killed 0\n",
      "Killed 0\n",
      "Killed 0\n",
      "Killed 0\n",
      "Killed 0\n",
      "Killed 0\n",
      "Killed 0\n",
      "Killed 0\n",
      "Killed 0\n",
      "Killed 0\n",
      "Killed 0\n",
      "Killed 0\n",
      "Killed 0\n",
      "Killed 0\n",
      "Killed 0\n",
      "Killed 0\n",
      "Killed 0\n",
      "Killed 0\n",
      "Killed 0\n",
      "Killed 0\n",
      "Killed 0\n",
      "Killed 0\n",
      "Killed 0\n",
      "Killed 0\n",
      "Killed 0\n",
      "Killed 0\n",
      "Killed 0\n",
      "Killed 0\n",
      "Killed 0\n",
      "Killed 0\n",
      "Killed 0\n",
      "Killed 0\n",
      "Killed 0\n",
      "Killed 0\n",
      "Killed 0\n",
      "Killed 0\n",
      "Killed 0\n",
      "Killed 0\n",
      "Killed 0\n",
      "Killed 0\n",
      "Killed 0\n",
      "Killed 1\n",
      "Killed 0\n",
      "Killed 0\n",
      "Killed 0\n",
      "Killed 0\n",
      "Killed 0\n",
      "Killed 0\n",
      "Killed 0\n",
      "Killed 0\n",
      "Killed 0\n",
      "Killed 0\n",
      "Killed 0\n",
      "Killed 0\n",
      "Killed 1\n",
      "Killed 0\n",
      "Killed 0\n",
      "Killed 0\n",
      "Killed 0\n",
      "Killed 0\n",
      "Killed 0\n",
      "Killed 0\n",
      "Killed 0\n",
      "Killed 0\n",
      "Killed 0\n",
      "Killed 0\n",
      "Killed 0\n",
      "Killed 1\n",
      "Killed 0\n",
      "Killed 0\n",
      "Killed 0\n",
      "Killed 0\n",
      "Killed 0\n",
      "Killed 0\n",
      "Killed 0\n",
      "Killed 0\n",
      "Killed 0\n",
      "Killed 0\n",
      "Killed 0\n",
      "Killed 0\n",
      "Killed 0\n",
      "Killed 0\n",
      "Killed 0\n",
      "Killed 1\n",
      "Killed 0\n",
      "Killed 0\n",
      "Killed 0\n",
      "Killed 0\n",
      "Killed 0\n",
      "Killed 0\n",
      "Killed 0\n",
      "Killed 0\n",
      "Killed 0\n",
      "Killed 0\n",
      "Killed 0\n",
      "Killed 0\n",
      "Killed 0\n",
      "Killed 0\n",
      "Killed 0\n",
      "Killed 0\n",
      "Killed 0\n",
      "Killed 0\n",
      "Killed 0\n",
      "Killed 0\n",
      "Killed 0\n",
      "Killed 0\n",
      "Killed 0\n",
      "Killed 0\n",
      "Killed 0\n",
      "Killed 0\n",
      "Killed 0\n",
      "Killed 0\n",
      "Killed 0\n",
      "Killed 0\n",
      "Killed 0\n",
      "Killed 0\n",
      "Killed 0\n",
      "Killed 0\n",
      "Killed 0\n",
      "Killed 0\n",
      "Killed 0\n",
      "Killed 0\n",
      "Killed 0\n",
      "Killed 0\n",
      "Killed 0\n",
      "Killed 0\n",
      "Killed 0\n",
      "Killed 0\n",
      "Killed 0\n",
      "Killed 0\n",
      "Killed 0\n",
      "Killed 0\n",
      "Killed 0\n",
      "Killed 0\n",
      "Killed 0\n",
      "Killed 0\n",
      "Killed 0\n",
      "Killed 0\n",
      "Killed 0\n",
      "Killed 0\n",
      "Killed 0\n",
      "Killed 0\n",
      "Killed 1\n",
      "Killed 0\n",
      "Killed 0\n",
      "Killed 0\n",
      "Killed 0\n",
      "Killed 0\n",
      "Killed 0\n",
      "Killed 0\n",
      "Killed 0\n",
      "Killed 0\n",
      "Killed 0\n",
      "Killed 0\n",
      "Killed 0\n",
      "Killed 0\n",
      "Killed 0\n",
      "Killed 0\n",
      "Killed 0\n",
      "Killed 0\n",
      "Killed 0\n",
      "Killed 0\n",
      "Killed 0\n",
      "Killed 0\n",
      "Killed 0\n",
      "Killed 1\n",
      "Killed 0\n",
      "Killed 0\n",
      "Killed 0\n",
      "Killed 0\n",
      "Killed 0\n",
      "Killed 0\n",
      "Killed 0\n",
      "Killed 0\n",
      "Killed 0\n",
      "Killed 0\n",
      "Killed 0\n",
      "Killed 0\n",
      "Killed 0\n",
      "Killed 0\n",
      "Killed 0\n",
      "Killed 0\n",
      "Killed 0\n",
      "Killed 0\n",
      "Killed 0\n",
      "Killed 0\n",
      "Killed 0\n",
      "Killed 0\n",
      "Killed 0\n",
      "Killed 0\n",
      "Killed 0\n",
      "Killed 0\n",
      "Killed 0\n",
      "Killed 0\n",
      "Killed 0\n",
      "Killed 0\n",
      "Killed 0\n",
      "Killed 0\n",
      "Killed 0\n",
      "Killed 0\n",
      "Killed 0\n",
      "Killed 0\n",
      "Killed 0\n",
      "Killed 0\n",
      "Killed 0\n",
      "Killed 0\n",
      "Killed 0\n",
      "Killed 0\n",
      "Killed 0\n",
      "Killed 0\n",
      "Killed 0\n",
      "Killed 0\n",
      "Killed 0\n",
      "Killed 0\n",
      "Killed 0\n",
      "Killed 0\n",
      "Killed 1\n",
      "Killed 1\n",
      "Killed 1\n",
      "Killed 0\n",
      "Killed 0\n",
      "Killed 0\n",
      "Killed 0\n",
      "Killed 0\n",
      "Killed 0\n",
      "Killed 0\n",
      "Killed 1\n",
      "Killed 1\n",
      "Killed 0\n",
      "Killed 0\n",
      "Killed 0\n",
      "Killed 0\n",
      "Killed 0\n",
      "Killed 0\n",
      "Killed 0\n",
      "Killed 0\n",
      "Killed 0\n",
      "Killed 0\n",
      "Killed 0\n",
      "Killed 0\n",
      "Killed 0\n",
      "Killed 0\n",
      "Killed 0\n",
      "Killed 0\n",
      "Killed 0\n",
      "Killed 0\n",
      "Killed 0\n",
      "Killed 0\n",
      "Killed 0\n",
      "Killed 0\n",
      "Killed 0\n",
      "Killed 0\n",
      "Killed 2\n",
      "Killed 0\n",
      "Killed 1\n",
      "Killed 0\n",
      "Killed 0\n",
      "Killed 0\n",
      "Killed 0\n",
      "Killed 0\n",
      "Killed 0\n",
      "Killed 0\n",
      "Killed 1\n",
      "Killed 0\n",
      "Killed 1\n",
      "Killed 0\n",
      "Killed 0\n",
      "Killed 0\n",
      "Killed 0\n",
      "Killed 0\n",
      "Killed 0\n",
      "Killed 0\n",
      "Killed 0\n",
      "Killed 0\n",
      "Killed 0\n",
      "Killed 0\n",
      "Killed 0\n",
      "Killed 0\n",
      "Killed 0\n",
      "Killed 0\n",
      "Killed 0\n",
      "Killed 0\n",
      "Killed 0\n",
      "Killed 0\n",
      "Killed 0\n",
      "Killed 0\n",
      "Killed 0\n",
      "Killed 0\n",
      "Killed 1\n",
      "Killed 0\n",
      "Killed 0\n",
      "Killed 0\n",
      "Killed 1\n",
      "Killed 0\n",
      "Killed 0\n",
      "Killed 0\n",
      "Killed 0\n",
      "Killed 0\n",
      "Killed 0\n",
      "Killed 0\n",
      "Killed 0\n",
      "Killed 0\n",
      "Killed 0\n",
      "Killed 0\n",
      "Killed 0\n",
      "Killed 0\n",
      "Killed 0\n",
      "Killed 0\n",
      "Killed 0\n",
      "Killed 0\n",
      "Killed 0\n",
      "Killed 0\n",
      "Killed 0\n",
      "Killed 0\n",
      "Killed 0\n",
      "Killed 0\n",
      "Killed 0\n",
      "Killed 0\n",
      "Killed 0\n",
      "Killed 0\n",
      "Killed 0\n",
      "Killed 0\n",
      "Killed 0\n",
      "Killed 0\n",
      "Killed 0\n",
      "Killed 1\n",
      "Killed 0\n",
      "Killed 1\n",
      "Killed 0\n",
      "Killed 0\n",
      "Killed 0\n",
      "Killed 1\n",
      "Killed 0\n",
      "Killed 0\n",
      "Killed 0\n",
      "Killed 0\n",
      "Killed 2\n",
      "Killed 0\n",
      "Killed 0\n",
      "Killed 0\n",
      "Killed 0\n",
      "Killed 0\n",
      "Killed 0\n",
      "Killed 1\n",
      "Killed 0\n",
      "Killed 0\n",
      "Killed 0\n",
      "Killed 0\n",
      "Killed 0\n",
      "Killed 0\n",
      "Killed 1\n",
      "Killed 0\n",
      "Killed 0\n",
      "Killed 0\n",
      "Killed 0\n",
      "Killed 0\n",
      "Killed 0\n",
      "Killed 0\n",
      "Killed 0\n",
      "Killed 0\n",
      "Killed 0\n",
      "Killed 0\n",
      "Killed 0\n",
      "Killed 1\n",
      "Killed 0\n",
      "Killed 0\n",
      "Killed 0\n",
      "Killed 0\n",
      "Killed 0\n",
      "Killed 1\n",
      "Killed 1\n",
      "Killed 0\n",
      "Killed 0\n",
      "Killed 0\n",
      "Killed 0\n",
      "Killed 0\n",
      "Killed 0\n",
      "Killed 0\n",
      "Killed 0\n",
      "Killed 0\n",
      "Killed 0\n",
      "Killed 0\n",
      "Killed 0\n",
      "Killed 0\n",
      "Killed 0\n",
      "Killed 0\n",
      "Killed 0\n",
      "Killed 0\n",
      "Killed 0\n",
      "Killed 0\n",
      "Killed 0\n",
      "Killed 0\n",
      "Killed 0\n",
      "Killed 0\n",
      "Killed 0\n",
      "Killed 0\n",
      "Killed 0\n",
      "Killed 0\n",
      "Killed 0\n",
      "Killed 0\n",
      "Killed 168\n",
      "Killed 0\n",
      "Killed 1\n",
      "Killed 0\n",
      "Killed 0\n",
      "Killed 0\n",
      "Killed 0\n",
      "Killed 0\n",
      "Killed 0\n",
      "Killed 0\n",
      "Killed 0\n",
      "Killed 0\n",
      "Killed 0\n",
      "Killed 0\n",
      "Killed 0\n",
      "Killed 0\n",
      "Killed 0\n",
      "Killed 0\n",
      "Killed 0\n",
      "Killed 0\n",
      "Killed 1\n",
      "Killed 0\n",
      "Killed 0\n",
      "Killed 0\n",
      "Killed 0\n",
      "Killed 0\n",
      "Killed 0\n",
      "Killed 0\n",
      "Killed 8\n",
      "Killed 0\n",
      "Killed 0\n",
      "Killed 0\n",
      "Killed 0\n",
      "Killed 0\n",
      "Killed 0\n",
      "Killed 0\n",
      "Killed 0\n",
      "Killed 1\n",
      "Killed 0\n",
      "Killed 0\n",
      "Killed 0\n",
      "Killed 0\n",
      "Killed 0\n",
      "Killed 0\n",
      "Killed 0\n",
      "Killed 0\n",
      "Killed 0\n",
      "Killed 0\n",
      "Killed 0\n",
      "Killed 0\n",
      "Killed 1\n",
      "Killed 0\n",
      "Killed 0\n",
      "Killed 0\n",
      "Killed 0\n",
      "Killed 0\n",
      "Killed 0\n",
      "Killed 0\n",
      "Killed 0\n",
      "Killed 0\n",
      "Killed 0\n",
      "Killed 0\n",
      "Killed 0\n",
      "Killed 0\n",
      "Killed 0\n",
      "Killed 0\n",
      "Killed 0\n",
      "Killed 0\n",
      "Killed 0\n",
      "Killed 0\n",
      "Killed 0\n",
      "Killed 0\n",
      "Killed 0\n",
      "Killed 0\n",
      "Killed 0\n",
      "Killed 0\n",
      "Killed 0\n",
      "Killed 0\n",
      "Killed 0\n",
      "Killed 0\n",
      "Killed 0\n",
      "Killed 0\n",
      "Killed 0\n",
      "Killed 1\n",
      "Killed 0\n",
      "Killed 0\n",
      "Killed 0\n",
      "Killed 0\n",
      "Killed 0\n",
      "Killed 0\n",
      "Killed 0\n",
      "Killed 0\n",
      "Killed 0\n",
      "Killed 0\n",
      "Killed 0\n",
      "Killed 0\n",
      "Killed 0\n",
      "Killed 0\n",
      "Killed 0\n",
      "Killed 0\n",
      "Killed 0\n",
      "Killed 0\n",
      "Killed 0\n",
      "Killed 0\n",
      "Killed 0\n",
      "Killed 0\n",
      "Killed 1\n",
      "Killed 0\n",
      "Killed 1\n",
      "Killed 0\n",
      "Killed 0\n",
      "Killed 0\n",
      "Killed 0\n",
      "Killed 0\n",
      "Killed 0\n",
      "Killed 0\n",
      "Killed 0\n",
      "Killed 0\n",
      "Killed 0\n",
      "Killed 0\n",
      "Killed 0\n",
      "Killed 0\n",
      "Killed 0\n",
      "Killed 2\n",
      "Killed 0\n",
      "Killed 0\n",
      "Killed 0\n",
      "Killed 0\n",
      "Killed 0\n",
      "Killed 0\n",
      "Killed 0\n",
      "Killed 0\n",
      "Killed 0\n",
      "Killed 0\n",
      "Killed 1\n",
      "Killed 0\n",
      "Killed 0\n",
      "Killed 0\n",
      "Killed 0\n",
      "Killed 0\n",
      "Killed 0\n",
      "Killed 0\n",
      "Killed 0\n",
      "Killed 0\n",
      "Killed 0\n",
      "Killed 0\n",
      "Killed 0\n",
      "Killed 0\n",
      "Killed 0\n",
      "Killed 15\n",
      "Killed 0\n",
      "Killed 0\n",
      "Killed 0\n",
      "Killed 0\n",
      "Killed 0\n",
      "Killed 0\n",
      "Killed 2\n",
      "Killed 0\n",
      "Killed 1\n",
      "Killed 0\n",
      "Killed 0\n",
      "Killed 0\n",
      "Killed 0\n",
      "Killed 2\n",
      "Killed 0\n",
      "Killed 0\n",
      "Killed 0\n",
      "Killed 0\n",
      "Killed 0\n",
      "Killed 0\n",
      "Killed 0\n",
      "Killed 0\n",
      "Killed 0\n",
      "Killed 0\n",
      "Killed 0\n",
      "Killed 0\n",
      "Killed 0\n",
      "Killed 0\n",
      "Killed 0\n",
      "Killed 0\n",
      "Killed 0\n",
      "Killed 0\n",
      "Killed 0\n",
      "Killed 0\n",
      "Killed 0\n",
      "Killed 0\n",
      "Killed 0\n",
      "Killed 0\n",
      "Killed 0\n",
      "Killed 0\n",
      "Killed 0\n",
      "Killed 0\n",
      "Killed 0\n",
      "Killed 0\n",
      "Killed 0\n",
      "Killed 0\n",
      "Killed 0\n",
      "Killed 0\n",
      "Killed 0\n",
      "Killed 0\n",
      "Killed 0\n",
      "Killed 0\n",
      "Killed 0\n",
      "Killed 0\n",
      "Killed 0\n",
      "Killed 0\n",
      "Killed 0\n",
      "Killed 0\n",
      "Killed 0\n",
      "Killed 0\n",
      "Killed 0\n",
      "Killed 0\n",
      "Killed 0\n",
      "Killed 0\n",
      "Killed 0\n",
      "Killed 0\n",
      "Killed 0\n",
      "Killed 0\n",
      "Killed 0\n",
      "Killed 0\n",
      "Killed 0\n",
      "Killed 0\n",
      "Killed 0\n",
      "Killed 0\n",
      "Killed 0\n",
      "Killed 0\n",
      "Killed 0\n",
      "Killed 0\n",
      "Killed 0\n",
      "Killed 0\n",
      "Killed 0\n",
      "Killed 0\n",
      "Killed 0\n",
      "Killed 0\n",
      "Killed 0\n",
      "Killed 0\n",
      "Killed 0\n",
      "Killed 0\n",
      "Killed 0\n",
      "Killed 0\n",
      "Killed 0\n",
      "Killed 0\n",
      "Killed 0\n",
      "Killed 0\n",
      "Killed 1384\n",
      "Killed 1383\n",
      "Killed 190\n",
      "Killed 44\n",
      "Killed 0\n",
      "Killed 1\n",
      "Killed 2\n",
      "Killed 0\n",
      "Killed 2\n",
      "Killed 0\n",
      "Killed 0\n",
      "Killed 0\n",
      "Killed 0\n",
      "Killed 0\n",
      "Killed 0\n",
      "Killed 0\n",
      "Killed 1\n",
      "Killed 0\n",
      "Killed 0\n",
      "Killed 1\n",
      "Killed 1\n",
      "Killed 0\n",
      "Killed 3\n",
      "Killed 0\n",
      "Killed 0\n",
      "Killed 0\n",
      "Killed 0\n",
      "Killed 0\n",
      "Killed 0\n",
      "Killed 0\n",
      "Killed 0\n",
      "Killed 0\n",
      "Killed 0\n",
      "Killed 0\n",
      "Killed 0\n",
      "Killed 0\n",
      "Killed 0\n",
      "Killed 0\n",
      "Killed 0\n",
      "Killed 0\n",
      "Killed 0\n",
      "Killed 0\n",
      "Killed 0\n",
      "Killed 0\n",
      "Killed 0\n",
      "Killed 0\n",
      "Killed 0\n",
      "Killed 0\n",
      "Killed 0\n",
      "Killed 0\n",
      "Killed 0\n",
      "Killed 0\n",
      "Killed 0\n",
      "Killed 0\n",
      "Killed 0\n",
      "Killed 0\n",
      "Killed 0\n",
      "Killed 0\n",
      "Killed 0\n",
      "Killed 0\n",
      "Killed 0\n",
      "Killed 0\n",
      "Killed 0\n",
      "Killed 0\n",
      "Killed 0\n",
      "Killed 0\n",
      "Killed 0\n",
      "Killed 0\n",
      "Killed 0\n",
      "Killed 0\n",
      "Killed 0\n",
      "Killed 0\n",
      "Killed 0\n",
      "Killed 0\n",
      "Killed 0\n",
      "Killed 0\n",
      "Killed 0\n",
      "Killed 0\n",
      "Killed 0\n",
      "Killed 0\n",
      "Killed 0\n",
      "Killed 0\n",
      "Killed 0\n",
      "Killed 0\n",
      "Killed 0\n",
      "Killed 0\n",
      "Killed 0\n",
      "Killed 0\n",
      "Killed 0\n",
      "Killed 0\n",
      "Killed 0\n",
      "Killed 0\n",
      "Killed 0\n",
      "Killed 0\n",
      "Killed 0\n",
      "Killed 0\n",
      "Killed 0\n",
      "Killed 0\n",
      "Killed 0\n",
      "Killed 0\n",
      "Killed 0\n",
      "Killed 0\n",
      "Killed 0\n",
      "Killed 0\n",
      "Killed 0\n",
      "Killed 0\n",
      "Killed 0\n",
      "Killed 0\n",
      "Killed 0\n",
      "Killed 0\n",
      "Killed 0\n",
      "Killed 0\n",
      "Killed 0\n",
      "Killed 0\n",
      "Killed 0\n",
      "Killed 0\n",
      "Killed 0\n",
      "Killed 0\n",
      "Killed 0\n",
      "Killed 0\n",
      "Killed 1\n",
      "Killed 0\n",
      "Killed 0\n",
      "Killed 0\n",
      "Killed 0\n",
      "Killed 0\n",
      "Killed 0\n",
      "Killed 0\n",
      "Killed 0\n",
      "Killed 0\n",
      "Killed 0\n",
      "Killed 0\n",
      "Killed 0\n",
      "Killed 0\n",
      "Killed 0\n",
      "Killed 0\n",
      "Killed 0\n",
      "Killed 0\n",
      "Killed 0\n",
      "Killed 0\n",
      "Killed 0\n",
      "Killed 0\n",
      "Killed 0\n",
      "Killed 2\n",
      "Killed 0\n",
      "Killed 0\n",
      "Killed 0\n",
      "Killed 0\n",
      "Killed 0\n",
      "Killed 2\n",
      "Killed 1\n",
      "Killed 0\n",
      "Killed 1\n",
      "Killed 1\n",
      "Killed 0\n",
      "Killed 0\n",
      "Killed 0\n",
      "Killed 13\n",
      "Killed 0\n",
      "Killed 0\n",
      "Killed 2\n",
      "Killed 0\n",
      "Killed 1\n",
      "Killed 0\n",
      "Killed 0\n",
      "Killed 0\n",
      "Killed 0\n",
      "Killed 0\n",
      "Killed 0\n",
      "Killed 1\n",
      "Killed 0\n",
      "Killed 0\n",
      "Killed 0\n",
      "Killed 0\n",
      "Killed 0\n",
      "Killed 0\n",
      "Killed 0\n",
      "Killed 0\n",
      "Killed 0\n",
      "Killed 0\n",
      "Killed 0\n",
      "Killed 0\n",
      "Killed 0\n",
      "Killed 0\n",
      "Killed 0\n",
      "Killed 0\n",
      "Killed 0\n",
      "Killed 0\n",
      "Killed 0\n",
      "Killed 0\n",
      "Killed 0\n",
      "Killed 0\n",
      "Killed 0\n",
      "Killed 0\n",
      "Killed 0\n",
      "Killed 0\n",
      "Killed 0\n",
      "Killed 0\n",
      "Killed 0\n",
      "Killed 0\n",
      "Killed 7\n",
      "Killed 0\n",
      "Killed 0\n",
      "Killed 0\n",
      "Killed 0\n",
      "Killed 0\n",
      "Killed 0\n",
      "Killed 1\n",
      "Killed 0\n",
      "Killed 1\n",
      "Killed 2\n",
      "Killed 0\n",
      "Killed 15\n",
      "Killed 1\n",
      "Killed 0\n",
      "Killed 2\n",
      "Killed 0\n",
      "Killed 0\n",
      "Killed 0\n",
      "Killed 0\n",
      "Killed 0\n",
      "Killed 0\n",
      "Killed 0\n",
      "Killed 0\n"
     ]
    },
    {
     "name": "stdout",
     "output_type": "stream",
     "text": [
      "Killed 0\n",
      "Killed 1\n",
      "Killed 0\n",
      "Killed 0\n",
      "Killed 0\n",
      "Killed 2\n",
      "Killed 1\n",
      "Killed 1\n",
      "Killed 0\n",
      "Killed 3\n",
      "Killed 4\n",
      "Killed 2\n",
      "Killed 1\n",
      "Killed 5\n",
      "Killed 0\n",
      "Killed 1\n",
      "Killed 0\n",
      "Killed 0\n",
      "Killed 1\n",
      "Killed 0\n",
      "Killed 1\n",
      "Killed 0\n",
      "Killed 0\n",
      "Killed 0\n",
      "Killed 0\n",
      "Killed 0\n",
      "Killed 1\n",
      "Killed 0\n",
      "Killed 0\n",
      "Killed 1\n",
      "Killed 2\n",
      "Killed 0\n",
      "Killed 3\n",
      "Killed 0\n",
      "Killed 0\n",
      "Killed 0\n",
      "Killed 0\n",
      "Killed 1\n",
      "Killed 2\n",
      "Killed 9\n",
      "Killed 0\n",
      "Killed 0\n",
      "Killed 0\n",
      "Killed 0\n",
      "Killed 0\n",
      "Killed 0\n",
      "Killed 6\n",
      "Killed 0\n",
      "Killed 3\n",
      "Killed 0\n",
      "Killed 0\n",
      "Killed 0\n",
      "Killed 0\n",
      "Killed 0\n",
      "Killed 0\n",
      "Killed 0\n",
      "Killed 10\n",
      "Killed 0\n",
      "Killed 1\n",
      "Killed 0\n",
      "Killed 0\n",
      "Killed 0\n",
      "Killed 0\n",
      "Killed 3\n",
      "Killed 16\n",
      "Killed 0\n",
      "Killed 0\n",
      "Killed 0\n",
      "Killed 0\n",
      "Killed 0\n",
      "Killed 0\n",
      "Killed 0\n",
      "Killed 1\n",
      "Killed 0\n",
      "Killed 0\n",
      "Killed 0\n",
      "Killed 0\n",
      "Killed 0\n",
      "Killed 0\n",
      "Killed 0\n",
      "Killed 0\n",
      "Killed 0\n",
      "Killed 0\n",
      "Killed 50\n",
      "Killed 0\n",
      "Killed 0\n",
      "Killed 0\n",
      "Killed 0\n",
      "Killed 0\n",
      "Killed 6\n",
      "Killed 1\n",
      "Killed 0\n",
      "Killed 0\n",
      "Killed 4\n",
      "Killed 0\n",
      "Killed 0\n",
      "Killed 0\n",
      "Killed 0\n",
      "Killed 0\n",
      "Killed 0\n",
      "Killed 0\n",
      "Killed 0\n",
      "Killed 0\n",
      "Killed 0\n",
      "Killed 0\n",
      "Killed 0\n",
      "Killed 0\n",
      "Killed 2\n",
      "Killed 0\n",
      "Killed 0\n",
      "Killed 0\n",
      "Killed 0\n",
      "Killed 2\n",
      "Killed 0\n",
      "Killed 0\n",
      "Killed 0\n",
      "Killed 1\n",
      "Killed 0\n",
      "Killed 0\n",
      "Killed 0\n",
      "Killed 0\n",
      "Killed 0\n",
      "Killed 0\n",
      "Killed 0\n",
      "Killed 0\n",
      "Killed 0\n",
      "Killed 0\n",
      "Killed 0\n",
      "Killed 0\n",
      "Killed 1\n",
      "Killed 0\n",
      "Killed 0\n",
      "Killed 0\n",
      "Killed 0\n",
      "Killed 5\n",
      "Killed 0\n",
      "Killed 0\n",
      "Killed 0\n",
      "Killed 0\n",
      "Killed 0\n",
      "Killed 1\n",
      "Killed 0\n",
      "Killed 0\n",
      "Killed 1\n",
      "Killed 0\n",
      "Killed 0\n",
      "Killed 0\n",
      "Killed 0\n",
      "Killed 0\n",
      "Killed 0\n",
      "Killed 1\n",
      "Killed 0\n",
      "Killed 0\n",
      "Killed 1\n",
      "Killed 3\n",
      "Killed 0\n",
      "Killed 0\n",
      "Killed 0\n",
      "Killed 0\n",
      "Killed 0\n",
      "Killed 2\n",
      "Killed 0\n",
      "Killed 1\n",
      "Killed 2\n",
      "Killed 0\n",
      "Killed 0\n",
      "Killed 0\n",
      "Killed 0\n",
      "Killed 0\n",
      "Killed 1\n",
      "Killed 0\n",
      "Killed 0\n",
      "Killed 2\n",
      "Killed 0\n",
      "Killed 0\n",
      "Killed 0\n",
      "Killed 0\n",
      "Killed 0\n",
      "Killed 0\n",
      "Killed 1\n",
      "Killed 0\n",
      "Killed 0\n",
      "Killed 1\n",
      "Killed 1\n",
      "Killed 1\n",
      "Killed 59\n",
      "Killed 0\n",
      "Killed 0\n",
      "Killed 0\n",
      "Killed 0\n",
      "Killed 8\n",
      "Killed 0\n",
      "Killed 0\n",
      "Killed 0\n",
      "Killed 3\n",
      "Killed 0\n",
      "Killed 0\n",
      "Killed 1\n"
     ]
    }
   ],
   "source": [
    "#ASSIGNMENT:find value of killed column only in United States\n",
    "with open(r'C:\\Users\\shubh\\Desktop\\Coding Ninjas Data Science\\11. NumPy\\33-34\\terrorismData.csv',encoding='utf8') as file_obj:\n",
    "    file_data=csv.DictReader(file_obj,skipinitialspace=True)\n",
    "    killed=[]\n",
    "    country=[]\n",
    "    for row in file_data:\n",
    "        killed.append(row['Killed'])\n",
    "        country.append(row['Country'])\n",
    "\n",
    "#data cleaning\n",
    "np_killed=np.array(killed)\n",
    "np_killed[np_killed=='']='0.0'\n",
    "np_killed=np.array(np_killed,dtype=float)\n",
    "#boolean array for USA\n",
    "boolean=np_country=='United States'\n",
    "ans=np_killed[boolean]\n",
    "for i in ans:\n",
    "    print('Killed',int(i))"
   ]
  },
  {
   "cell_type": "markdown",
   "metadata": {},
   "source": [
    "# FINAL ASSIGNMENTS"
   ]
  },
  {
   "cell_type": "code",
   "execution_count": 5,
   "metadata": {},
   "outputs": [],
   "source": [
    "import numpy as np\n",
    "import csv"
   ]
  },
  {
   "cell_type": "code",
   "execution_count": 6,
   "metadata": {},
   "outputs": [
    {
     "name": "stdout",
     "output_type": "stream",
     "text": [
      "66330\n"
     ]
    }
   ],
   "source": [
    "#ASS-1:find no. of attacks held between day 10 and day 20 and print it\n",
    "with open(r'C:\\Users\\Shubh Gaur\\Desktop\\Coding Ninjas Data Science\\11. NumPy\\Assignment\\terrorismData.csv',encoding='utf8') as obj:\n",
    "    data=csv.DictReader(obj,skipinitialspace=True)\n",
    "    day=[]\n",
    "    for row in data:\n",
    "        day.append(row['Day'])\n",
    "#Numpy array\n",
    "np_day=np.array(day,dtype=int)\n",
    "boolean=(np_day>=10) & (np_day<=20)\n",
    "print(len(np_day[boolean]))\n"
   ]
  },
  {
   "cell_type": "code",
   "execution_count": 14,
   "metadata": {},
   "outputs": [
    {
     "name": "stdout",
     "output_type": "stream",
     "text": [
      "271\n"
     ]
    }
   ],
   "source": [
    "#ASS-2:find attacks held between 1 Jan 2010 and 31 Jan 2010 both inclusive\n",
    "with open(r'C:\\Users\\shubh\\Desktop\\Coding Ninjas Data Science\\11. NumPy\\Assignment\\terrorismData.csv',encoding='utf8') as obj:\n",
    "    data=csv.DictReader(obj,skipinitialspace=True)\n",
    "    day=[]\n",
    "    month=[]\n",
    "    year=[]\n",
    "    for row in data:\n",
    "        day.append(row['Day'])\n",
    "        month.append(row['Month'])\n",
    "        year.append(row['Year'])\n",
    "\n",
    "#numpy arrays\n",
    "np_day=np.array(day,dtype=int)\n",
    "np_month=np.array(month,dtype=int)\n",
    "np_year=np.array(year,dtype=int)\n",
    "\n",
    "#filtering data\n",
    "boolean_year=np_year==2010\n",
    "boolean_month=np_month==1\n",
    "boolean_day= (np_day>=1) & (np_day<=31)\n",
    "ans=np_day[(boolean_year)&(boolean_month)&(boolean_day)]\n",
    "print(len(ans))"
   ]
  },
  {
   "cell_type": "code",
   "execution_count": 20,
   "metadata": {},
   "outputs": [
    {
     "name": "stdout",
     "output_type": "stream",
     "text": [
      "300.0 Unknown Unknown\n",
      "300.0\n"
     ]
    }
   ],
   "source": [
    "#ASS-3find the attack with most casualty during may 1999 to july 1999\n",
    "with open(r'C:\\Users\\shubh\\Desktop\\Coding Ninjas Data Science\\11. NumPy\\Assignment\\terrorismData.csv',encoding='utf8') as obj:\n",
    "    data=csv.DictReader(obj,skipinitialspace=True)\n",
    "    killed=[]\n",
    "    wounded=[]\n",
    "    group=[]\n",
    "    city=[]\n",
    "    for row in data:\n",
    "        month=int(row['Month'])\n",
    "        if row['Year']=='1999' and (month>=5 and month<=7):\n",
    "            killed.append(row['Killed'])\n",
    "            wounded.append(row['Wounded'])\n",
    "            group.append(row['Group'])\n",
    "            city.append(row['City'])\n",
    "    #cleaning data\n",
    "    np_killed=np.array(killed)\n",
    "    np_killed[np_killed=='']='0.0'\n",
    "    np_wounded=np.array(wounded)\n",
    "    np_wounded[np_wounded=='']='0.0'\n",
    "    \n",
    "    #---------------------------\n",
    "    np_killed=np.array(np_killed,dtype=float)\n",
    "    np_wounded=np.array(np_wounded,dtype=float)\n",
    "    np_casualties=np_killed+np_wounded\n",
    "    \n",
    "    maxIndex=np.argmax(np_casualties)\n",
    "    \n",
    "    print(np_casualties[maxIndex],city[maxIndex],group[maxIndex])\n",
    "    \n",
    "    "
   ]
  },
  {
   "cell_type": "code",
   "execution_count": 22,
   "metadata": {},
   "outputs": [
    {
     "name": "stdout",
     "output_type": "stream",
     "text": [
      "5628\n"
     ]
    }
   ],
   "source": [
    "#ASS-4: find the casualties in red corridor states\n",
    "with open(r'C:\\Users\\shubh\\Desktop\\Coding Ninjas Data Science\\11. NumPy\\Assignment\\terrorismData.csv',encoding='utf8') as obj:\n",
    "    data=csv.DictReader(obj,skipinitialspace=True)\n",
    "    killed=[]\n",
    "    wounded=[]\n",
    "    group=[]\n",
    "    city=[]\n",
    "    for row in data:\n",
    "        state=row['State']\n",
    "        if state==\"Jharkhand\" or state==\"Odisha\" or state==\"Andhra Pradesh\" or state==\"Chhattisgarh\":\n",
    "            killed.append(row['Killed'])\n",
    "            wounded.append(row['Wounded'])\n",
    "    #cleaning data\n",
    "    np_killed=np.array(killed)\n",
    "    np_killed[np_killed=='']='0.0'\n",
    "    np_wounded=np.array(wounded)\n",
    "    np_wounded[np_wounded=='']='0.0'\n",
    "    #---------------------------\n",
    "    np_killed=np.array(np_killed,dtype=float)\n",
    "    np_wounded=np.array(np_wounded,dtype=float)\n",
    "    np_casualties=np_killed+np_wounded\n",
    "    print(int(np.sum(np_casualties)))\n",
    "    "
   ]
  },
  {
   "cell_type": "code",
   "execution_count": 24,
   "metadata": {},
   "outputs": [
    {
     "name": "stdout",
     "output_type": "stream",
     "text": [
      "5628\n"
     ]
    }
   ],
   "source": [
    "#ASS-4: find the casualties in red corridor states\n",
    "with open(r'C:\\Users\\shubh\\Desktop\\Coding Ninjas Data Science\\11. NumPy\\Assignment\\terrorismData.csv',encoding='utf8') as obj:\n",
    "    data=csv.DictReader(obj,skipinitialspace=True)\n",
    "    killed=[]\n",
    "    wounded=[]\n",
    "    for row in data:\n",
    "        state=row['State']\n",
    "        if state==\"Jharkhand\" or state==\"Odisha\" or state==\"Andhra Pradesh\" or state==\"Chhattisgarh\":\n",
    "            killed.append(row['Killed'])\n",
    "            wounded.append(row['Wounded'])\n",
    "    #cleaning data\n",
    "    np_killed=np.array(killed)\n",
    "    np_killed[np_killed=='']='0.0'\n",
    "    np_wounded=np.array(wounded)\n",
    "    np_wounded[np_wounded=='']='0.0'\n",
    "    #---------------------------\n",
    "    np_killed=np.array(np_killed,dtype=float)\n",
    "    np_wounded=np.array(np_wounded,dtype=float)\n",
    "    np_casualties=np_killed+np_wounded\n",
    "    print(int(np.sum(np_casualties)))\n",
    "    "
   ]
  },
  {
   "cell_type": "code",
   "execution_count": 2,
   "metadata": {},
   "outputs": [
    {
     "name": "stdout",
     "output_type": "stream",
     "text": [
      "Mumbai 1005.0\n",
      "Dispur 272.0\n",
      "Jhargam 255.0\n",
      "Chennai 232.0\n",
      "New Delhi 210.0\n"
     ]
    }
   ],
   "source": [
    "#ASS-5: find top 5 Indian cities with max number of casualties\n",
    "with open(r'C:\\Users\\shubh\\Desktop\\Coding Ninjas Data Science\\11. NumPy\\Assignment\\terrorismData.csv',encoding='utf8') as obj:\n",
    "    data=csv.DictReader(obj,skipinitialspace=True)\n",
    "    killed=[]\n",
    "    wounded=[]\n",
    "    city=[]\n",
    "    for row in data:\n",
    "        country=row['Country']\n",
    "        if country=='India':\n",
    "            killed.append(row['Killed'])\n",
    "            wounded.append(row['Wounded'])\n",
    "            city.append(row['City'])\n",
    "    #cleaning data\n",
    "    np_killed=np.array(killed)\n",
    "    np_killed[np_killed=='']='0.0'\n",
    "    np_wounded=np.array(wounded)\n",
    "    np_wounded[np_wounded=='']='0.0'\n",
    "    #---------------------------\n",
    "    np_killed=np.array(np_killed,dtype=float)\n",
    "    np_wounded=np.array(np_wounded,dtype=float)\n",
    "    np_casualties=np_killed+np_wounded\n",
    "    np_city=np.array(city)\n",
    "\n",
    "ctr=1\n",
    "while ctr<=5:\n",
    "    maxIndex=np.argmax(np_casualties)\n",
    "    print(np_city[maxIndex],np_casualties[maxIndex])\n",
    "    #resetting values at maxIndex\n",
    "    np_city[maxIndex]='' \n",
    "    np_casualties[maxIndex]=-100.0\n",
    "    ctr+=1\n",
    "    \n",
    "    "
   ]
  },
  {
   "cell_type": "code",
   "execution_count": 7,
   "metadata": {},
   "outputs": [
    {
     "name": "stdout",
     "output_type": "stream",
     "text": [
      "[ 0  1  2  3  4  5  6  7  8  9 10 11 12 13 14 15 16 17 18 19 20 21 22 23\n",
      " 24 25 26 27 28 29 30 31]\n",
      "[ 891 6344 5954 6011 6153 5844 5781 5997 5859 6057 6064 5936 6012 6043\n",
      " 6028 6500 6112 5852 5880 5973 5930 5827 5799 5782 5752 5875 5823 5937\n",
      " 6027 5507 5046 3095]\n",
      "ans:-\n",
      "15 6500\n"
     ]
    }
   ],
   "source": [
    "#ASS-6: find most frequent day of attacks\n",
    "with open(r'C:\\Users\\shubh\\Desktop\\Coding Ninjas Data Science\\11. NumPy\\Assignment\\terrorismData.csv',encoding='utf8') as obj:\n",
    "    data=csv.DictReader(obj,skipinitialspace=True)\n",
    "    day=[]\n",
    "    for row in data:\n",
    "        day.append(row['Day'])\n",
    "np_day=np.array(day,dtype=int)\n",
    "unique,count=np.unique(np_day,return_counts=True)\n",
    "print(unique)\n",
    "print(count)\n",
    "maxIndex=np.argmax(count)\n",
    "print('ans:-')\n",
    "print(unique[maxIndex],np.max(count))\n",
    "            \n"
   ]
  },
  {
   "cell_type": "code",
   "execution_count": null,
   "metadata": {},
   "outputs": [],
   "source": []
  }
 ],
 "metadata": {
  "kernelspec": {
   "display_name": "Python 3",
   "language": "python",
   "name": "python3"
  },
  "language_info": {
   "codemirror_mode": {
    "name": "ipython",
    "version": 3
   },
   "file_extension": ".py",
   "mimetype": "text/x-python",
   "name": "python",
   "nbconvert_exporter": "python",
   "pygments_lexer": "ipython3",
   "version": "3.8.8"
  }
 },
 "nbformat": 4,
 "nbformat_minor": 4
}
